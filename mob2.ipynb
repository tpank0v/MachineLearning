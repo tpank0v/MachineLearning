{
  "cells": [
    {
      "cell_type": "markdown",
      "metadata": {
        "id": "TEZXDMnP4Wuf"
      },
      "source": [
        "# Домашнее задание\n",
        "0. Описать задачу словами\n",
        "1. Прочитать данные\n",
        "2. Визуализировать данные и вычислить основные характеристики (среднее, разброс, корреляционную матрицу и т.д.). Интерпретировать.\n",
        "3. Обработать пропущенные значения (или убедиться, что их нет)\n",
        "4. Обработать категориальные признаки\n",
        "5. Провести нормализацию (или объяснить, почему в вашем случае она не нужна)\n",
        "6. Разбить данные на обучающую и тестовую выборки\n",
        "7. Запустить классификатор (ререссию) ближайших соседей или другой метод (аргументируйте выбор!)\n",
        "8. Вычислить ошибки на обучающей и тестовой выборках. Выбрать оптимальное значение гиперпараметра (к-ва ближайших соседей) Сделать выводы\n",
        "9. По желанию: запустить другие классификаторы. Сравнить результаты\n",
        "10. По желанию: как-то побороться с несбалансированностью классов (если она есть)\n",
        "11. По желанию: исключить коррелированные переменные (объяснить зачем)\n",
        "12. Сделать общие выводы\n",
        "\n"
      ],
      "id": "TEZXDMnP4Wuf"
    },
    {
      "cell_type": "markdown",
      "metadata": {
        "id": "iuaW7GM64dtK"
      },
      "source": [
        "# Описание задачи\n",
        "Данный датасет представляет из себя данные о характеристах различных телефонов.\n",
        "Задача будет состоять в том, чтобы определить примерный диапазон цен на телефон, опираясь на известные параметры. Например, емкость батарее, объем памяти, вес и другие"
      ],
      "id": "iuaW7GM64dtK"
    },
    {
      "cell_type": "code",
      "execution_count": 98,
      "metadata": {
        "id": "3d5478d7"
      },
      "outputs": [],
      "source": [
        "import numpy as np\n",
        "import pandas as pd\n",
        "import matplotlib.pyplot as plt\n",
        "import seaborn as sns\n",
        "import sklearn\n",
        "from sklearn.preprocessing import OneHotEncoder\n",
        "from sklearn.model_selection import train_test_split\n",
        "from sklearn.preprocessing import StandardScaler\n",
        "from tqdm import tqdm\n",
        "from sklearn.metrics import confusion_matrix, ConfusionMatrixDisplay\n",
        "from sklearn.metrics import accuracy_score\n",
        "from sklearn.model_selection import GridSearchCV\n",
        "from sklearn import ensemble\n",
        "%matplotlib inline"
      ],
      "id": "3d5478d7"
    },
    {
      "cell_type": "markdown",
      "metadata": {
        "id": "cc7ddf3f"
      },
      "source": [
        "\n",
        "# Загрузка и чтение данных\n"
      ],
      "id": "cc7ddf3f"
    },
    {
      "cell_type": "code",
      "execution_count": 99,
      "metadata": {
        "colab": {
          "base_uri": "https://localhost:8080/"
        },
        "id": "9bd499c0",
        "outputId": "55c0b60b-19d6-4743-8550-df87d2b38a15"
      },
      "outputs": [
        {
          "output_type": "execute_result",
          "data": {
            "text/plain": [
              "(3000, 21)"
            ]
          },
          "metadata": {},
          "execution_count": 99
        }
      ],
      "source": [
        "url = \"https://raw.githubusercontent.com/tpank0v/MachineLearning/main/mobpr.csv\"\n",
        "data_raw = pd.read_csv(url)\n",
        "\n",
        "data = data_raw.copy()\n",
        "data_raw.shape"
      ],
      "id": "9bd499c0"
    },
    {
      "cell_type": "markdown",
      "metadata": {
        "id": "d9b5f93c"
      },
      "source": [
        "Итак - таблица содержит данные о 3000 моделей телефонов, разбитые на 20 параметров"
      ],
      "id": "d9b5f93c"
    },
    {
      "cell_type": "code",
      "execution_count": 100,
      "metadata": {
        "colab": {
          "base_uri": "https://localhost:8080/",
          "height": 255
        },
        "id": "bd419b83",
        "outputId": "3102050e-46a8-474a-c83a-1465b768dea4"
      },
      "outputs": [
        {
          "output_type": "execute_result",
          "data": {
            "text/plain": [
              "   battery_power  blue  clock_speed  dual_sim    fc  four_g  int_memory  \\\n",
              "0            NaN   NaN          2.2       0.0   1.0     0.0         7.0   \n",
              "1         1021.0   1.0          0.5       1.0   0.0     1.0        53.0   \n",
              "2          563.0   1.0          0.5       1.0   2.0     1.0        41.0   \n",
              "3          615.0   1.0          2.5       0.0   0.0     0.0        10.0   \n",
              "4         1821.0   1.0          1.2       0.0  13.0     1.0        44.0   \n",
              "\n",
              "   m_dep  mobile_wt  n_cores  ...  px_height  px_width     ram  sc_h  sc_w  \\\n",
              "0    0.6      188.0      2.0  ...       20.0     756.0  2549.0   9.0   7.0   \n",
              "1    0.7      136.0      3.0  ...      905.0    1988.0  2631.0  17.0   3.0   \n",
              "2    0.9      145.0      5.0  ...     1263.0    1716.0  2603.0  11.0   2.0   \n",
              "3    0.8      131.0      6.0  ...     1216.0    1786.0  2769.0  16.0   8.0   \n",
              "4    0.6      141.0      2.0  ...     1208.0    1212.0  1411.0   8.0   2.0   \n",
              "\n",
              "   talk_time  three_g  touch_screen  wifi  price_range  \n",
              "0       19.0      0.0           0.0   1.0            1  \n",
              "1        7.0      1.0           1.0   0.0            2  \n",
              "2        9.0      1.0           1.0   0.0            2  \n",
              "3       11.0      1.0           0.0   0.0            2  \n",
              "4       15.0      1.0           1.0   0.0            1  \n",
              "\n",
              "[5 rows x 21 columns]"
            ],
            "text/html": [
              "\n",
              "  <div id=\"df-4e1b0e5b-8f4a-4b95-a35d-906d0bbbf67d\" class=\"colab-df-container\">\n",
              "    <div>\n",
              "<style scoped>\n",
              "    .dataframe tbody tr th:only-of-type {\n",
              "        vertical-align: middle;\n",
              "    }\n",
              "\n",
              "    .dataframe tbody tr th {\n",
              "        vertical-align: top;\n",
              "    }\n",
              "\n",
              "    .dataframe thead th {\n",
              "        text-align: right;\n",
              "    }\n",
              "</style>\n",
              "<table border=\"1\" class=\"dataframe\">\n",
              "  <thead>\n",
              "    <tr style=\"text-align: right;\">\n",
              "      <th></th>\n",
              "      <th>battery_power</th>\n",
              "      <th>blue</th>\n",
              "      <th>clock_speed</th>\n",
              "      <th>dual_sim</th>\n",
              "      <th>fc</th>\n",
              "      <th>four_g</th>\n",
              "      <th>int_memory</th>\n",
              "      <th>m_dep</th>\n",
              "      <th>mobile_wt</th>\n",
              "      <th>n_cores</th>\n",
              "      <th>...</th>\n",
              "      <th>px_height</th>\n",
              "      <th>px_width</th>\n",
              "      <th>ram</th>\n",
              "      <th>sc_h</th>\n",
              "      <th>sc_w</th>\n",
              "      <th>talk_time</th>\n",
              "      <th>three_g</th>\n",
              "      <th>touch_screen</th>\n",
              "      <th>wifi</th>\n",
              "      <th>price_range</th>\n",
              "    </tr>\n",
              "  </thead>\n",
              "  <tbody>\n",
              "    <tr>\n",
              "      <th>0</th>\n",
              "      <td>NaN</td>\n",
              "      <td>NaN</td>\n",
              "      <td>2.2</td>\n",
              "      <td>0.0</td>\n",
              "      <td>1.0</td>\n",
              "      <td>0.0</td>\n",
              "      <td>7.0</td>\n",
              "      <td>0.6</td>\n",
              "      <td>188.0</td>\n",
              "      <td>2.0</td>\n",
              "      <td>...</td>\n",
              "      <td>20.0</td>\n",
              "      <td>756.0</td>\n",
              "      <td>2549.0</td>\n",
              "      <td>9.0</td>\n",
              "      <td>7.0</td>\n",
              "      <td>19.0</td>\n",
              "      <td>0.0</td>\n",
              "      <td>0.0</td>\n",
              "      <td>1.0</td>\n",
              "      <td>1</td>\n",
              "    </tr>\n",
              "    <tr>\n",
              "      <th>1</th>\n",
              "      <td>1021.0</td>\n",
              "      <td>1.0</td>\n",
              "      <td>0.5</td>\n",
              "      <td>1.0</td>\n",
              "      <td>0.0</td>\n",
              "      <td>1.0</td>\n",
              "      <td>53.0</td>\n",
              "      <td>0.7</td>\n",
              "      <td>136.0</td>\n",
              "      <td>3.0</td>\n",
              "      <td>...</td>\n",
              "      <td>905.0</td>\n",
              "      <td>1988.0</td>\n",
              "      <td>2631.0</td>\n",
              "      <td>17.0</td>\n",
              "      <td>3.0</td>\n",
              "      <td>7.0</td>\n",
              "      <td>1.0</td>\n",
              "      <td>1.0</td>\n",
              "      <td>0.0</td>\n",
              "      <td>2</td>\n",
              "    </tr>\n",
              "    <tr>\n",
              "      <th>2</th>\n",
              "      <td>563.0</td>\n",
              "      <td>1.0</td>\n",
              "      <td>0.5</td>\n",
              "      <td>1.0</td>\n",
              "      <td>2.0</td>\n",
              "      <td>1.0</td>\n",
              "      <td>41.0</td>\n",
              "      <td>0.9</td>\n",
              "      <td>145.0</td>\n",
              "      <td>5.0</td>\n",
              "      <td>...</td>\n",
              "      <td>1263.0</td>\n",
              "      <td>1716.0</td>\n",
              "      <td>2603.0</td>\n",
              "      <td>11.0</td>\n",
              "      <td>2.0</td>\n",
              "      <td>9.0</td>\n",
              "      <td>1.0</td>\n",
              "      <td>1.0</td>\n",
              "      <td>0.0</td>\n",
              "      <td>2</td>\n",
              "    </tr>\n",
              "    <tr>\n",
              "      <th>3</th>\n",
              "      <td>615.0</td>\n",
              "      <td>1.0</td>\n",
              "      <td>2.5</td>\n",
              "      <td>0.0</td>\n",
              "      <td>0.0</td>\n",
              "      <td>0.0</td>\n",
              "      <td>10.0</td>\n",
              "      <td>0.8</td>\n",
              "      <td>131.0</td>\n",
              "      <td>6.0</td>\n",
              "      <td>...</td>\n",
              "      <td>1216.0</td>\n",
              "      <td>1786.0</td>\n",
              "      <td>2769.0</td>\n",
              "      <td>16.0</td>\n",
              "      <td>8.0</td>\n",
              "      <td>11.0</td>\n",
              "      <td>1.0</td>\n",
              "      <td>0.0</td>\n",
              "      <td>0.0</td>\n",
              "      <td>2</td>\n",
              "    </tr>\n",
              "    <tr>\n",
              "      <th>4</th>\n",
              "      <td>1821.0</td>\n",
              "      <td>1.0</td>\n",
              "      <td>1.2</td>\n",
              "      <td>0.0</td>\n",
              "      <td>13.0</td>\n",
              "      <td>1.0</td>\n",
              "      <td>44.0</td>\n",
              "      <td>0.6</td>\n",
              "      <td>141.0</td>\n",
              "      <td>2.0</td>\n",
              "      <td>...</td>\n",
              "      <td>1208.0</td>\n",
              "      <td>1212.0</td>\n",
              "      <td>1411.0</td>\n",
              "      <td>8.0</td>\n",
              "      <td>2.0</td>\n",
              "      <td>15.0</td>\n",
              "      <td>1.0</td>\n",
              "      <td>1.0</td>\n",
              "      <td>0.0</td>\n",
              "      <td>1</td>\n",
              "    </tr>\n",
              "  </tbody>\n",
              "</table>\n",
              "<p>5 rows × 21 columns</p>\n",
              "</div>\n",
              "    <div class=\"colab-df-buttons\">\n",
              "\n",
              "  <div class=\"colab-df-container\">\n",
              "    <button class=\"colab-df-convert\" onclick=\"convertToInteractive('df-4e1b0e5b-8f4a-4b95-a35d-906d0bbbf67d')\"\n",
              "            title=\"Convert this dataframe to an interactive table.\"\n",
              "            style=\"display:none;\">\n",
              "\n",
              "  <svg xmlns=\"http://www.w3.org/2000/svg\" height=\"24px\" viewBox=\"0 -960 960 960\">\n",
              "    <path d=\"M120-120v-720h720v720H120Zm60-500h600v-160H180v160Zm220 220h160v-160H400v160Zm0 220h160v-160H400v160ZM180-400h160v-160H180v160Zm440 0h160v-160H620v160ZM180-180h160v-160H180v160Zm440 0h160v-160H620v160Z\"/>\n",
              "  </svg>\n",
              "    </button>\n",
              "\n",
              "  <style>\n",
              "    .colab-df-container {\n",
              "      display:flex;\n",
              "      gap: 12px;\n",
              "    }\n",
              "\n",
              "    .colab-df-convert {\n",
              "      background-color: #E8F0FE;\n",
              "      border: none;\n",
              "      border-radius: 50%;\n",
              "      cursor: pointer;\n",
              "      display: none;\n",
              "      fill: #1967D2;\n",
              "      height: 32px;\n",
              "      padding: 0 0 0 0;\n",
              "      width: 32px;\n",
              "    }\n",
              "\n",
              "    .colab-df-convert:hover {\n",
              "      background-color: #E2EBFA;\n",
              "      box-shadow: 0px 1px 2px rgba(60, 64, 67, 0.3), 0px 1px 3px 1px rgba(60, 64, 67, 0.15);\n",
              "      fill: #174EA6;\n",
              "    }\n",
              "\n",
              "    .colab-df-buttons div {\n",
              "      margin-bottom: 4px;\n",
              "    }\n",
              "\n",
              "    [theme=dark] .colab-df-convert {\n",
              "      background-color: #3B4455;\n",
              "      fill: #D2E3FC;\n",
              "    }\n",
              "\n",
              "    [theme=dark] .colab-df-convert:hover {\n",
              "      background-color: #434B5C;\n",
              "      box-shadow: 0px 1px 3px 1px rgba(0, 0, 0, 0.15);\n",
              "      filter: drop-shadow(0px 1px 2px rgba(0, 0, 0, 0.3));\n",
              "      fill: #FFFFFF;\n",
              "    }\n",
              "  </style>\n",
              "\n",
              "    <script>\n",
              "      const buttonEl =\n",
              "        document.querySelector('#df-4e1b0e5b-8f4a-4b95-a35d-906d0bbbf67d button.colab-df-convert');\n",
              "      buttonEl.style.display =\n",
              "        google.colab.kernel.accessAllowed ? 'block' : 'none';\n",
              "\n",
              "      async function convertToInteractive(key) {\n",
              "        const element = document.querySelector('#df-4e1b0e5b-8f4a-4b95-a35d-906d0bbbf67d');\n",
              "        const dataTable =\n",
              "          await google.colab.kernel.invokeFunction('convertToInteractive',\n",
              "                                                    [key], {});\n",
              "        if (!dataTable) return;\n",
              "\n",
              "        const docLinkHtml = 'Like what you see? Visit the ' +\n",
              "          '<a target=\"_blank\" href=https://colab.research.google.com/notebooks/data_table.ipynb>data table notebook</a>'\n",
              "          + ' to learn more about interactive tables.';\n",
              "        element.innerHTML = '';\n",
              "        dataTable['output_type'] = 'display_data';\n",
              "        await google.colab.output.renderOutput(dataTable, element);\n",
              "        const docLink = document.createElement('div');\n",
              "        docLink.innerHTML = docLinkHtml;\n",
              "        element.appendChild(docLink);\n",
              "      }\n",
              "    </script>\n",
              "  </div>\n",
              "\n",
              "\n",
              "<div id=\"df-04942260-6326-4752-9c6a-eb8fcedda621\">\n",
              "  <button class=\"colab-df-quickchart\" onclick=\"quickchart('df-04942260-6326-4752-9c6a-eb8fcedda621')\"\n",
              "            title=\"Suggest charts\"\n",
              "            style=\"display:none;\">\n",
              "\n",
              "<svg xmlns=\"http://www.w3.org/2000/svg\" height=\"24px\"viewBox=\"0 0 24 24\"\n",
              "     width=\"24px\">\n",
              "    <g>\n",
              "        <path d=\"M19 3H5c-1.1 0-2 .9-2 2v14c0 1.1.9 2 2 2h14c1.1 0 2-.9 2-2V5c0-1.1-.9-2-2-2zM9 17H7v-7h2v7zm4 0h-2V7h2v10zm4 0h-2v-4h2v4z\"/>\n",
              "    </g>\n",
              "</svg>\n",
              "  </button>\n",
              "\n",
              "<style>\n",
              "  .colab-df-quickchart {\n",
              "      --bg-color: #E8F0FE;\n",
              "      --fill-color: #1967D2;\n",
              "      --hover-bg-color: #E2EBFA;\n",
              "      --hover-fill-color: #174EA6;\n",
              "      --disabled-fill-color: #AAA;\n",
              "      --disabled-bg-color: #DDD;\n",
              "  }\n",
              "\n",
              "  [theme=dark] .colab-df-quickchart {\n",
              "      --bg-color: #3B4455;\n",
              "      --fill-color: #D2E3FC;\n",
              "      --hover-bg-color: #434B5C;\n",
              "      --hover-fill-color: #FFFFFF;\n",
              "      --disabled-bg-color: #3B4455;\n",
              "      --disabled-fill-color: #666;\n",
              "  }\n",
              "\n",
              "  .colab-df-quickchart {\n",
              "    background-color: var(--bg-color);\n",
              "    border: none;\n",
              "    border-radius: 50%;\n",
              "    cursor: pointer;\n",
              "    display: none;\n",
              "    fill: var(--fill-color);\n",
              "    height: 32px;\n",
              "    padding: 0;\n",
              "    width: 32px;\n",
              "  }\n",
              "\n",
              "  .colab-df-quickchart:hover {\n",
              "    background-color: var(--hover-bg-color);\n",
              "    box-shadow: 0 1px 2px rgba(60, 64, 67, 0.3), 0 1px 3px 1px rgba(60, 64, 67, 0.15);\n",
              "    fill: var(--button-hover-fill-color);\n",
              "  }\n",
              "\n",
              "  .colab-df-quickchart-complete:disabled,\n",
              "  .colab-df-quickchart-complete:disabled:hover {\n",
              "    background-color: var(--disabled-bg-color);\n",
              "    fill: var(--disabled-fill-color);\n",
              "    box-shadow: none;\n",
              "  }\n",
              "\n",
              "  .colab-df-spinner {\n",
              "    border: 2px solid var(--fill-color);\n",
              "    border-color: transparent;\n",
              "    border-bottom-color: var(--fill-color);\n",
              "    animation:\n",
              "      spin 1s steps(1) infinite;\n",
              "  }\n",
              "\n",
              "  @keyframes spin {\n",
              "    0% {\n",
              "      border-color: transparent;\n",
              "      border-bottom-color: var(--fill-color);\n",
              "      border-left-color: var(--fill-color);\n",
              "    }\n",
              "    20% {\n",
              "      border-color: transparent;\n",
              "      border-left-color: var(--fill-color);\n",
              "      border-top-color: var(--fill-color);\n",
              "    }\n",
              "    30% {\n",
              "      border-color: transparent;\n",
              "      border-left-color: var(--fill-color);\n",
              "      border-top-color: var(--fill-color);\n",
              "      border-right-color: var(--fill-color);\n",
              "    }\n",
              "    40% {\n",
              "      border-color: transparent;\n",
              "      border-right-color: var(--fill-color);\n",
              "      border-top-color: var(--fill-color);\n",
              "    }\n",
              "    60% {\n",
              "      border-color: transparent;\n",
              "      border-right-color: var(--fill-color);\n",
              "    }\n",
              "    80% {\n",
              "      border-color: transparent;\n",
              "      border-right-color: var(--fill-color);\n",
              "      border-bottom-color: var(--fill-color);\n",
              "    }\n",
              "    90% {\n",
              "      border-color: transparent;\n",
              "      border-bottom-color: var(--fill-color);\n",
              "    }\n",
              "  }\n",
              "</style>\n",
              "\n",
              "  <script>\n",
              "    async function quickchart(key) {\n",
              "      const quickchartButtonEl =\n",
              "        document.querySelector('#' + key + ' button');\n",
              "      quickchartButtonEl.disabled = true;  // To prevent multiple clicks.\n",
              "      quickchartButtonEl.classList.add('colab-df-spinner');\n",
              "      try {\n",
              "        const charts = await google.colab.kernel.invokeFunction(\n",
              "            'suggestCharts', [key], {});\n",
              "      } catch (error) {\n",
              "        console.error('Error during call to suggestCharts:', error);\n",
              "      }\n",
              "      quickchartButtonEl.classList.remove('colab-df-spinner');\n",
              "      quickchartButtonEl.classList.add('colab-df-quickchart-complete');\n",
              "    }\n",
              "    (() => {\n",
              "      let quickchartButtonEl =\n",
              "        document.querySelector('#df-04942260-6326-4752-9c6a-eb8fcedda621 button');\n",
              "      quickchartButtonEl.style.display =\n",
              "        google.colab.kernel.accessAllowed ? 'block' : 'none';\n",
              "    })();\n",
              "  </script>\n",
              "</div>\n",
              "    </div>\n",
              "  </div>\n"
            ]
          },
          "metadata": {},
          "execution_count": 100
        }
      ],
      "source": [
        "data_raw.head()"
      ],
      "id": "bd419b83"
    },
    {
      "cell_type": "markdown",
      "metadata": {
        "id": "aa08a456"
      },
      "source": [
        "Признаки:\n",
        "1. **battery_power** - емкость батареи в mAh\n",
        "2. **blue** - наличие Bluetooth (0 - нет, 1 - да)\n",
        "3. **clock_speed** - скорость, с которой микропроцессор выполняет инструкции\n",
        "4. **dual_sim** - поддержка двух SIM-карт (0 - нет, 1 - да)\n",
        "5. **fc** - разрешение фронтальной камеры в Мп\n",
        "6. **four_g** - поддержка 4G (0 - нет, 1 - да)\n",
        "7. **int_memory** - внутренняя память в Гб\n",
        "8. **m_dep** - глубина телефона в см\n",
        "9. **mobile_wt** - вес телефона\n",
        "10. **n_cores** - количество ядер процессора\n",
        "11. **pc** - разрешение основной камеры в Мп\n",
        "12. **px_height** - разрешение в высоту в пикселях\n",
        "13. **px_width** - разрешение в ширину в пикселях\n",
        "14. **ram** - оперативная память в Мб\n",
        "15. **sc_h** - высота экрана в см\n",
        "16. **sc_w** - ширина экрана в см\n",
        "17. **talk_time** - максимальное время, в течение которого хватит одной зарядки аккумулятора, когда вы говорите по телефону\n",
        "18. **three_g** - поддержка 3G (0 - нет, 1 - да)\n",
        "19. **touch_screen** - наличие сенсорного экрана (0 - нет, 1 - да)\n",
        "20. **wifi** - наличие wifi (0 - нет, 1 - да)\n",
        "21. **price_range** - ценовой диапазон"
      ],
      "id": "aa08a456"
    },
    {
      "cell_type": "code",
      "execution_count": 101,
      "metadata": {
        "colab": {
          "base_uri": "https://localhost:8080/"
        },
        "id": "0b7bd844",
        "outputId": "b7bd5cc2-130b-4c8b-f3c4-eb3d7ccba315"
      },
      "outputs": [
        {
          "output_type": "execute_result",
          "data": {
            "text/plain": [
              "Index(['battery_power', 'blue', 'clock_speed', 'dual_sim', 'fc', 'four_g',\n",
              "       'int_memory', 'm_dep', 'mobile_wt', 'n_cores', 'pc', 'px_height',\n",
              "       'px_width', 'ram', 'sc_h', 'sc_w', 'talk_time', 'three_g',\n",
              "       'touch_screen', 'wifi', 'price_range'],\n",
              "      dtype='object')"
            ]
          },
          "metadata": {},
          "execution_count": 101
        }
      ],
      "source": [
        "data_raw.columns"
      ],
      "id": "0b7bd844"
    },
    {
      "cell_type": "markdown",
      "metadata": {
        "id": "7cdb7381"
      },
      "source": [
        "Имена строк (совпадают с номерами)"
      ],
      "id": "7cdb7381"
    },
    {
      "cell_type": "code",
      "execution_count": 102,
      "metadata": {
        "colab": {
          "base_uri": "https://localhost:8080/"
        },
        "id": "d38c86d5",
        "outputId": "c14ee529-d8cb-40dd-d38c-d3512c2f9d35"
      },
      "outputs": [
        {
          "output_type": "execute_result",
          "data": {
            "text/plain": [
              "RangeIndex(start=0, stop=3000, step=1)"
            ]
          },
          "metadata": {},
          "execution_count": 102
        }
      ],
      "source": [
        "data_raw.index"
      ],
      "id": "d38c86d5"
    },
    {
      "cell_type": "code",
      "execution_count": 103,
      "metadata": {
        "colab": {
          "base_uri": "https://localhost:8080/"
        },
        "id": "4455d92c",
        "outputId": "7378a838-9fd7-457d-de17-a1f9eeab88c3"
      },
      "outputs": [
        {
          "output_type": "stream",
          "name": "stdout",
          "text": [
            "<class 'pandas.core.frame.DataFrame'>\n",
            "RangeIndex: 3000 entries, 0 to 2999\n",
            "Data columns (total 21 columns):\n",
            " #   Column         Non-Null Count  Dtype  \n",
            "---  ------         --------------  -----  \n",
            " 0   battery_power  2993 non-null   float64\n",
            " 1   blue           2985 non-null   float64\n",
            " 2   clock_speed    2995 non-null   float64\n",
            " 3   dual_sim       2985 non-null   float64\n",
            " 4   fc             2993 non-null   float64\n",
            " 5   four_g         2981 non-null   float64\n",
            " 6   int_memory     2993 non-null   float64\n",
            " 7   m_dep          2991 non-null   float64\n",
            " 8   mobile_wt      2991 non-null   float64\n",
            " 9   n_cores        2991 non-null   float64\n",
            " 10  pc             2987 non-null   float64\n",
            " 11  px_height      2992 non-null   float64\n",
            " 12  px_width       2995 non-null   float64\n",
            " 13  ram            2995 non-null   float64\n",
            " 14  sc_h           2993 non-null   float64\n",
            " 15  sc_w           2994 non-null   float64\n",
            " 16  talk_time      2991 non-null   float64\n",
            " 17  three_g        2992 non-null   float64\n",
            " 18  touch_screen   2997 non-null   float64\n",
            " 19  wifi           2997 non-null   float64\n",
            " 20  price_range    3000 non-null   int64  \n",
            "dtypes: float64(20), int64(1)\n",
            "memory usage: 492.3 KB\n"
          ]
        }
      ],
      "source": [
        "data_raw.info()"
      ],
      "id": "4455d92c"
    },
    {
      "cell_type": "markdown",
      "metadata": {
        "id": "eb73195f"
      },
      "source": [
        "Числовыми признаками являются:\n",
        " 1. battery_power\n",
        " 2. clock_speed\n",
        " 3. fc\n",
        " 4. int_memory\n",
        " 5. m_dep\n",
        " 6. mobile_w\n",
        " 7. n_cores\n",
        " 8. pc\n",
        " 9. px_height\n",
        " 10. px_width\n",
        " 11. ram\n",
        " 12. sc_h\n",
        " 13. sc_w\n",
        " 14. talk_time\n",
        "\n",
        "\n",
        "Категориальными признаками являются:\n",
        " 1. blue\n",
        " 2. dual_sim\n",
        " 3. four_g\n",
        " 4. three_g\n",
        " 5. touch_screen\n",
        " 6. wifi\n",
        " 7. price_range\n",
        "\n",
        "### Обработка выбросов"
      ],
      "id": "eb73195f"
    },
    {
      "cell_type": "code",
      "execution_count": 104,
      "metadata": {
        "colab": {
          "base_uri": "https://localhost:8080/",
          "height": 430
        },
        "id": "5b66e32d",
        "outputId": "ff6eab54-de75-41db-90e1-34287191ef56"
      },
      "outputs": [
        {
          "output_type": "display_data",
          "data": {
            "text/plain": [
              "<Figure size 640x480 with 1 Axes>"
            ],
            "image/png": "[encoded data removed]"
          },
          "metadata": {}
        }
      ],
      "source": [
        "plt.scatter(data_raw['battery_power'], data_raw['price_range'], alpha=0.4)\n",
        "pass"
      ],
      "id": "5b66e32d"
    },
    {
      "cell_type": "markdown",
      "metadata": {
        "id": "29643599"
      },
      "source": [
        "Заметим, что есть выбросы"
      ],
      "id": "29643599"
    },
    {
      "cell_type": "code",
      "execution_count": 105,
      "metadata": {
        "colab": {
          "base_uri": "https://localhost:8080/"
        },
        "id": "d5f72f03",
        "outputId": "b252f14f-0665-4f69-abc4-1f9b23d7fc65"
      },
      "outputs": [
        {
          "output_type": "execute_result",
          "data": {
            "text/plain": [
              "0.005     503.96\n",
              "0.010     508.00\n",
              "0.050     568.00\n",
              "0.100     630.60\n",
              "0.500    1231.00\n",
              "0.900    1852.80\n",
              "0.950    1931.20\n",
              "0.990    1988.08\n",
              "0.995    1994.00\n",
              "Name: battery_power, dtype: float64"
            ]
          },
          "metadata": {},
          "execution_count": 105
        }
      ],
      "source": [
        "data_raw['battery_power'].quantile([0.005,.01,.05,.1,.5,.9,.95,.99,.995])"
      ],
      "id": "d5f72f03"
    },
    {
      "cell_type": "markdown",
      "metadata": {
        "id": "7a2a6078"
      },
      "source": [
        "99,9% значений емкости батареи находятся в диапазоне от 504 до 1993"
      ],
      "id": "7a2a6078"
    },
    {
      "cell_type": "code",
      "execution_count": 106,
      "metadata": {
        "colab": {
          "base_uri": "https://localhost:8080/",
          "height": 430
        },
        "id": "8d7767f9",
        "outputId": "cbf7bace-e1bc-4a0d-ddf1-70d4fcb08079"
      },
      "outputs": [
        {
          "output_type": "display_data",
          "data": {
            "text/plain": [
              "<Figure size 640x480 with 1 Axes>"
            ],
            "image/png": "[encoded data removed]"
          },
          "metadata": {}
        }
      ],
      "source": [
        "plt.scatter(data_raw['blue'], data_raw['price_range'], alpha=0.4)\n",
        "pass"
      ],
      "id": "8d7767f9"
    },
    {
      "cell_type": "code",
      "execution_count": 107,
      "metadata": {
        "colab": {
          "base_uri": "https://localhost:8080/"
        },
        "id": "30fd6610",
        "outputId": "309a8c60-99ff-4971-d184-a413ff0278b5"
      },
      "outputs": [
        {
          "output_type": "execute_result",
          "data": {
            "text/plain": [
              "0.005    0.0\n",
              "0.010    0.0\n",
              "0.050    0.0\n",
              "0.100    0.0\n",
              "0.500    0.0\n",
              "0.900    1.0\n",
              "0.950    1.0\n",
              "0.990    1.0\n",
              "0.995    1.0\n",
              "Name: blue, dtype: float64"
            ]
          },
          "metadata": {},
          "execution_count": 107
        }
      ],
      "source": [
        "data_raw['blue'].quantile([0.005,.01,.05,.1,.5,.9,.95,.99,.995])"
      ],
      "id": "30fd6610"
    },
    {
      "cell_type": "markdown",
      "metadata": {
        "id": "66d1eb76"
      },
      "source": [
        "Выбросов нет"
      ],
      "id": "66d1eb76"
    },
    {
      "cell_type": "code",
      "execution_count": 108,
      "metadata": {
        "colab": {
          "base_uri": "https://localhost:8080/",
          "height": 430
        },
        "id": "e0b1de7c",
        "outputId": "35b93931-080b-490f-f692-dc02acf57197"
      },
      "outputs": [
        {
          "output_type": "display_data",
          "data": {
            "text/plain": [
              "<Figure size 640x480 with 1 Axes>"
            ],
            "image/png": "[encoded data removed]"
          },
          "metadata": {}
        }
      ],
      "source": [
        "plt.scatter(data_raw['clock_speed'], data_raw['price_range'], alpha=0.4)\n",
        "pass"
      ],
      "id": "e0b1de7c"
    },
    {
      "cell_type": "code",
      "execution_count": 109,
      "metadata": {
        "colab": {
          "base_uri": "https://localhost:8080/"
        },
        "id": "6fa7f6ae",
        "outputId": "e4976425-81d6-48ef-be96-67351dc5e29b"
      },
      "outputs": [
        {
          "output_type": "execute_result",
          "data": {
            "text/plain": [
              "0.005    0.5\n",
              "0.010    0.5\n",
              "0.050    0.5\n",
              "0.100    0.5\n",
              "0.500    1.5\n",
              "0.900    2.7\n",
              "0.950    2.8\n",
              "0.990    3.0\n",
              "0.995    3.0\n",
              "Name: clock_speed, dtype: float64"
            ]
          },
          "metadata": {},
          "execution_count": 109
        }
      ],
      "source": [
        "data_raw['clock_speed'].quantile([0.005,.01,.05,.1,.5,.9,.95,.99,.995])"
      ],
      "id": "6fa7f6ae"
    },
    {
      "cell_type": "markdown",
      "metadata": {
        "id": "d0056cd8"
      },
      "source": [
        "Есть выбросы, которые удалим далее"
      ],
      "id": "d0056cd8"
    },
    {
      "cell_type": "code",
      "execution_count": 110,
      "metadata": {
        "colab": {
          "base_uri": "https://localhost:8080/",
          "height": 430
        },
        "id": "d06d73db",
        "outputId": "2901d728-c85e-49d0-8a00-947962524b1f"
      },
      "outputs": [
        {
          "output_type": "display_data",
          "data": {
            "text/plain": [
              "<Figure size 640x480 with 1 Axes>"
            ],
            "image/png": "[encoded data removed]"
          },
          "metadata": {}
        }
      ],
      "source": [
        "plt.scatter(data_raw['dual_sim'], data_raw['price_range'], alpha=0.4)\n",
        "pass"
      ],
      "id": "d06d73db"
    },
    {
      "cell_type": "markdown",
      "metadata": {
        "id": "ad2a2485"
      },
      "source": [
        "Выбросов нет"
      ],
      "id": "ad2a2485"
    },
    {
      "cell_type": "code",
      "execution_count": 111,
      "metadata": {
        "colab": {
          "base_uri": "https://localhost:8080/",
          "height": 430
        },
        "id": "24da38b4",
        "outputId": "afd05ec0-5dd8-4a78-ecf4-41c4435e060f"
      },
      "outputs": [
        {
          "output_type": "display_data",
          "data": {
            "text/plain": [
              "<Figure size 640x480 with 1 Axes>"
            ],
            "image/png": "[encoded data removed]"
          },
          "metadata": {}
        }
      ],
      "source": [
        "plt.scatter(data_raw['fc'], data_raw['price_range'], alpha=0.4)\n",
        "pass"
      ],
      "id": "24da38b4"
    },
    {
      "cell_type": "code",
      "execution_count": 112,
      "metadata": {
        "colab": {
          "base_uri": "https://localhost:8080/"
        },
        "id": "ac770c84",
        "outputId": "34323ac0-d691-449f-8a7a-f8ba689f561c"
      },
      "outputs": [
        {
          "output_type": "execute_result",
          "data": {
            "text/plain": [
              "0.005     0.00\n",
              "0.010     0.00\n",
              "0.050     0.00\n",
              "0.100     0.00\n",
              "0.500     3.00\n",
              "0.900    11.00\n",
              "0.950    13.00\n",
              "0.990    16.08\n",
              "0.995    18.00\n",
              "Name: fc, dtype: float64"
            ]
          },
          "metadata": {},
          "execution_count": 112
        }
      ],
      "source": [
        "data_raw['fc'].quantile([0.005,.01,.05,.1,.5,.9,.95,.99,.995])"
      ],
      "id": "ac770c84"
    },
    {
      "cell_type": "markdown",
      "metadata": {
        "id": "9543ee65"
      },
      "source": [
        "Есть выбросы"
      ],
      "id": "9543ee65"
    },
    {
      "cell_type": "code",
      "execution_count": 113,
      "metadata": {
        "colab": {
          "base_uri": "https://localhost:8080/",
          "height": 430
        },
        "id": "b046de50",
        "outputId": "d3621c4c-7d31-4e6f-98f3-ddc1ffd5913e"
      },
      "outputs": [
        {
          "output_type": "display_data",
          "data": {
            "text/plain": [
              "<Figure size 640x480 with 1 Axes>"
            ],
            "image/png": "[encoded data removed]"
          },
          "metadata": {}
        }
      ],
      "source": [
        "plt.scatter(data_raw['four_g'], data_raw['price_range'], alpha=0.4)\n",
        "pass"
      ],
      "id": "b046de50"
    },
    {
      "cell_type": "markdown",
      "metadata": {
        "id": "5a1048cb"
      },
      "source": [
        "Выбросов нет"
      ],
      "id": "5a1048cb"
    },
    {
      "cell_type": "code",
      "execution_count": 114,
      "metadata": {
        "colab": {
          "base_uri": "https://localhost:8080/",
          "height": 448
        },
        "id": "3fc9b565",
        "outputId": "5a8329aa-d713-4cba-e214-3efef781be2e"
      },
      "outputs": [
        {
          "output_type": "display_data",
          "data": {
            "text/plain": [
              "<Figure size 640x480 with 1 Axes>"
            ],
            "image/png": "[encoded data removed]"
          },
          "metadata": {}
        }
      ],
      "source": [
        "plt.scatter(data_raw['int_memory'], data_raw['price_range'], alpha=0.4)\n",
        "pass"
      ],
      "id": "3fc9b565"
    },
    {
      "cell_type": "code",
      "execution_count": 115,
      "metadata": {
        "colab": {
          "base_uri": "https://localhost:8080/"
        },
        "id": "8f6cd320",
        "outputId": "1e51bbec-d4e3-4163-92b7-36095c91dd54"
      },
      "outputs": [
        {
          "output_type": "execute_result",
          "data": {
            "text/plain": [
              "0.005     2.0\n",
              "0.010     2.0\n",
              "0.050     5.0\n",
              "0.100     8.0\n",
              "0.500    33.0\n",
              "0.900    57.0\n",
              "0.950    61.0\n",
              "0.990    64.0\n",
              "0.995    64.0\n",
              "Name: int_memory, dtype: float64"
            ]
          },
          "metadata": {},
          "execution_count": 115
        }
      ],
      "source": [
        "data_raw['int_memory'].quantile([0.005,.01,.05,.1,.5,.9,.95,.99,.995])"
      ],
      "id": "8f6cd320"
    },
    {
      "cell_type": "markdown",
      "metadata": {
        "id": "2bf150e9"
      },
      "source": [
        "Есть выбросы"
      ],
      "id": "2bf150e9"
    },
    {
      "cell_type": "code",
      "execution_count": 116,
      "metadata": {
        "colab": {
          "base_uri": "https://localhost:8080/",
          "height": 430
        },
        "id": "ae0e9c7c",
        "outputId": "792a1ebd-e857-4a63-f061-c06e26fdb578"
      },
      "outputs": [
        {
          "output_type": "display_data",
          "data": {
            "text/plain": [
              "<Figure size 640x480 with 1 Axes>"
            ],
            "image/png": "[encoded data removed]"
          },
          "metadata": {}
        }
      ],
      "source": [
        "plt.scatter(data_raw['m_dep'], data_raw['price_range'], alpha=0.4)\n",
        "pass"
      ],
      "id": "ae0e9c7c"
    },
    {
      "cell_type": "code",
      "execution_count": 117,
      "metadata": {
        "colab": {
          "base_uri": "https://localhost:8080/"
        },
        "id": "e96701b3",
        "outputId": "427de81c-170b-44df-fb0c-4e988e23a99e"
      },
      "outputs": [
        {
          "output_type": "execute_result",
          "data": {
            "text/plain": [
              "0.005    0.1\n",
              "0.010    0.1\n",
              "0.050    0.1\n",
              "0.100    0.1\n",
              "0.500    0.5\n",
              "0.900    0.9\n",
              "0.950    1.0\n",
              "0.990    1.0\n",
              "0.995    1.0\n",
              "Name: m_dep, dtype: float64"
            ]
          },
          "metadata": {},
          "execution_count": 117
        }
      ],
      "source": [
        "data_raw['m_dep'].quantile([0.005,.01,.05,.1,.5,.9,.95,.99,.995])"
      ],
      "id": "e96701b3"
    },
    {
      "cell_type": "markdown",
      "metadata": {
        "id": "0f24a0ee"
      },
      "source": [
        "Есть выбросы"
      ],
      "id": "0f24a0ee"
    },
    {
      "cell_type": "code",
      "execution_count": 118,
      "metadata": {
        "colab": {
          "base_uri": "https://localhost:8080/",
          "height": 430
        },
        "id": "a8fd11a1",
        "outputId": "b89e3e88-bdbe-4ee9-9c31-b0e7d5439f83"
      },
      "outputs": [
        {
          "output_type": "display_data",
          "data": {
            "text/plain": [
              "<Figure size 640x480 with 1 Axes>"
            ],
            "image/png": "[encoded data removed]"
          },
          "metadata": {}
        }
      ],
      "source": [
        "plt.scatter(data_raw['mobile_wt'], data_raw['price_range'], alpha=0.4)\n",
        "pass"
      ],
      "id": "a8fd11a1"
    },
    {
      "cell_type": "code",
      "execution_count": 119,
      "metadata": {
        "colab": {
          "base_uri": "https://localhost:8080/"
        },
        "id": "cc3dbe01",
        "outputId": "dba27ab0-5739-4c80-f11d-340549534f9a"
      },
      "outputs": [
        {
          "output_type": "execute_result",
          "data": {
            "text/plain": [
              "0.005     80.0\n",
              "0.010     80.0\n",
              "0.050     86.0\n",
              "0.100     91.0\n",
              "0.500    141.0\n",
              "0.900    189.0\n",
              "0.950    196.0\n",
              "0.990    199.0\n",
              "0.995    200.0\n",
              "Name: mobile_wt, dtype: float64"
            ]
          },
          "metadata": {},
          "execution_count": 119
        }
      ],
      "source": [
        "data_raw['mobile_wt'].quantile([0.005,.01,.05,.1,.5,.9,.95,.99,.995])"
      ],
      "id": "cc3dbe01"
    },
    {
      "cell_type": "markdown",
      "metadata": {
        "id": "310b3f02"
      },
      "source": [
        "Есть выбросы"
      ],
      "id": "310b3f02"
    },
    {
      "cell_type": "code",
      "execution_count": 120,
      "metadata": {
        "colab": {
          "base_uri": "https://localhost:8080/",
          "height": 430
        },
        "id": "f8421c9a",
        "outputId": "d52fc17f-d34b-4d0a-8253-ec2c464e7461"
      },
      "outputs": [
        {
          "output_type": "display_data",
          "data": {
            "text/plain": [
              "<Figure size 640x480 with 1 Axes>"
            ],
            "image/png": "[encoded data removed]"
          },
          "metadata": {}
        }
      ],
      "source": [
        "plt.scatter(data_raw['n_cores'], data_raw['price_range'], alpha=0.4)\n",
        "pass"
      ],
      "id": "f8421c9a"
    },
    {
      "cell_type": "markdown",
      "metadata": {
        "id": "e37bdf2d"
      },
      "source": [
        "Выбросов нет"
      ],
      "id": "e37bdf2d"
    },
    {
      "cell_type": "code",
      "execution_count": 121,
      "metadata": {
        "colab": {
          "base_uri": "https://localhost:8080/",
          "height": 430
        },
        "id": "294c10e0",
        "outputId": "221a4daa-a51b-4025-db88-5e6b801b8a73"
      },
      "outputs": [
        {
          "output_type": "display_data",
          "data": {
            "text/plain": [
              "<Figure size 640x480 with 1 Axes>"
            ],
            "image/png": "[encoded data removed]"
          },
          "metadata": {}
        }
      ],
      "source": [
        "plt.scatter(data_raw['pc'], data_raw['price_range'], alpha=0.4)\n",
        "pass"
      ],
      "id": "294c10e0"
    },
    {
      "cell_type": "code",
      "execution_count": 122,
      "metadata": {
        "colab": {
          "base_uri": "https://localhost:8080/"
        },
        "id": "7b8c46b1",
        "outputId": "9644ecdf-81e5-49bb-eb7b-03427e8b5230"
      },
      "outputs": [
        {
          "output_type": "execute_result",
          "data": {
            "text/plain": [
              "0.005     0.0\n",
              "0.010     0.0\n",
              "0.050     0.0\n",
              "0.100     1.0\n",
              "0.500    10.0\n",
              "0.900    18.0\n",
              "0.950    20.0\n",
              "0.990    20.0\n",
              "0.995    20.0\n",
              "Name: pc, dtype: float64"
            ]
          },
          "metadata": {},
          "execution_count": 122
        }
      ],
      "source": [
        "data_raw['pc'].quantile([0.005,.01,.05,.1,.5,.9,.95,.99,.995])"
      ],
      "id": "7b8c46b1"
    },
    {
      "cell_type": "markdown",
      "metadata": {
        "id": "5fc82668"
      },
      "source": [
        "Есть выбросы"
      ],
      "id": "5fc82668"
    },
    {
      "cell_type": "code",
      "execution_count": 123,
      "metadata": {
        "colab": {
          "base_uri": "https://localhost:8080/",
          "height": 430
        },
        "id": "9555bdf0",
        "outputId": "6e44f92e-f340-4986-f521-f95eeacb2031"
      },
      "outputs": [
        {
          "output_type": "display_data",
          "data": {
            "text/plain": [
              "<Figure size 640x480 with 1 Axes>"
            ],
            "image/png": "[encoded data removed]"
          },
          "metadata": {}
        }
      ],
      "source": [
        "plt.scatter(data_raw['px_height'], data_raw['price_range'], alpha=0.4)\n",
        "pass"
      ],
      "id": "9555bdf0"
    },
    {
      "cell_type": "code",
      "execution_count": 124,
      "metadata": {
        "colab": {
          "base_uri": "https://localhost:8080/"
        },
        "id": "1f26fee1",
        "outputId": "d291e228-6548-4c07-aad7-44ed2c9cbefa"
      },
      "outputs": [
        {
          "output_type": "execute_result",
          "data": {
            "text/plain": [
              "0.005       4.00\n",
              "0.010      14.91\n",
              "0.050      70.00\n",
              "0.100     126.10\n",
              "0.500     561.00\n",
              "0.900    1285.00\n",
              "0.950    1486.00\n",
              "0.990    1792.27\n",
              "0.995    1869.00\n",
              "Name: px_height, dtype: float64"
            ]
          },
          "metadata": {},
          "execution_count": 124
        }
      ],
      "source": [
        "data_raw['px_height'].quantile([0.005,.01,.05,.1,.5,.9,.95,.99,.995])"
      ],
      "id": "1f26fee1"
    },
    {
      "cell_type": "markdown",
      "metadata": {
        "id": "cd13e189"
      },
      "source": [
        "Выбросов нет"
      ],
      "id": "cd13e189"
    },
    {
      "cell_type": "code",
      "execution_count": 125,
      "metadata": {
        "colab": {
          "base_uri": "https://localhost:8080/",
          "height": 430
        },
        "id": "77fa7b84",
        "outputId": "659d5ef3-9350-4f2f-a806-373170cdc24a"
      },
      "outputs": [
        {
          "output_type": "display_data",
          "data": {
            "text/plain": [
              "<Figure size 640x480 with 1 Axes>"
            ],
            "image/png": "[encoded data removed]"
          },
          "metadata": {}
        }
      ],
      "source": [
        "plt.scatter(data_raw['px_width'], data_raw['price_range'], alpha=0.4)\n",
        "pass"
      ],
      "id": "77fa7b84"
    },
    {
      "cell_type": "code",
      "execution_count": 126,
      "metadata": {
        "colab": {
          "base_uri": "https://localhost:8080/"
        },
        "id": "e0d94a64",
        "outputId": "99b600e4-952e-4a3f-f90e-cd26c094ca73"
      },
      "outputs": [
        {
          "output_type": "execute_result",
          "data": {
            "text/plain": [
              "0.005     507.0\n",
              "0.010     511.0\n",
              "0.050     573.4\n",
              "0.100     660.0\n",
              "0.500    1247.0\n",
              "0.900    1854.0\n",
              "0.950    1929.0\n",
              "0.990    1987.0\n",
              "0.995    1992.0\n",
              "Name: px_width, dtype: float64"
            ]
          },
          "metadata": {},
          "execution_count": 126
        }
      ],
      "source": [
        "data_raw['px_width'].quantile([0.005,.01,.05,.1,.5,.9,.95,.99,.995])"
      ],
      "id": "e0d94a64"
    },
    {
      "cell_type": "markdown",
      "metadata": {
        "id": "ad9a0bbe"
      },
      "source": [
        "Есть выбросы"
      ],
      "id": "ad9a0bbe"
    },
    {
      "cell_type": "code",
      "execution_count": 127,
      "metadata": {
        "colab": {
          "base_uri": "https://localhost:8080/",
          "height": 430
        },
        "id": "7f6df6e9",
        "outputId": "9d8d92e8-898c-45a1-a976-ab3ac2672d4f"
      },
      "outputs": [
        {
          "output_type": "display_data",
          "data": {
            "text/plain": [
              "<Figure size 640x480 with 1 Axes>"
            ],
            "image/png": "[encoded data removed]"
          },
          "metadata": {}
        }
      ],
      "source": [
        "plt.scatter(data_raw['ram'], data_raw['price_range'], alpha=0.4)\n",
        "pass"
      ],
      "id": "7f6df6e9"
    },
    {
      "cell_type": "code",
      "execution_count": 128,
      "metadata": {
        "colab": {
          "base_uri": "https://localhost:8080/"
        },
        "id": "e70f0d74",
        "outputId": "aa1a52e4-e00e-4d3a-da76-778825288481"
      },
      "outputs": [
        {
          "output_type": "execute_result",
          "data": {
            "text/plain": [
              "0.005     272.82\n",
              "0.010     290.70\n",
              "0.050     441.00\n",
              "0.100     597.40\n",
              "0.500    2169.00\n",
              "0.900    3652.00\n",
              "0.950    3828.10\n",
              "0.990    3959.00\n",
              "0.995    3970.00\n",
              "Name: ram, dtype: float64"
            ]
          },
          "metadata": {},
          "execution_count": 128
        }
      ],
      "source": [
        "data_raw['ram'].quantile([0.005,.01,.05,.1,.5,.9,.95,.99,.995])"
      ],
      "id": "e70f0d74"
    },
    {
      "cell_type": "markdown",
      "metadata": {
        "id": "db61b642"
      },
      "source": [
        "Есть выбросы"
      ],
      "id": "db61b642"
    },
    {
      "cell_type": "code",
      "execution_count": 129,
      "metadata": {
        "colab": {
          "base_uri": "https://localhost:8080/",
          "height": 430
        },
        "id": "f44f9996",
        "outputId": "6533097c-0325-4cc8-c3c5-546c46183527"
      },
      "outputs": [
        {
          "output_type": "display_data",
          "data": {
            "text/plain": [
              "<Figure size 640x480 with 1 Axes>"
            ],
            "image/png": "[encoded data removed]"
          },
          "metadata": {}
        }
      ],
      "source": [
        "plt.scatter(data_raw['sc_h'], data_raw['price_range'], alpha=0.4)\n",
        "pass"
      ],
      "id": "f44f9996"
    },
    {
      "cell_type": "markdown",
      "metadata": {
        "id": "652c96e5"
      },
      "source": [
        "Выбросов нет"
      ],
      "id": "652c96e5"
    },
    {
      "cell_type": "code",
      "execution_count": 130,
      "metadata": {
        "colab": {
          "base_uri": "https://localhost:8080/",
          "height": 430
        },
        "id": "c533cc71",
        "outputId": "69d2d55e-6990-4d8f-9a4c-796a603b2637"
      },
      "outputs": [
        {
          "output_type": "display_data",
          "data": {
            "text/plain": [
              "<Figure size 640x480 with 1 Axes>"
            ],
            "image/png": "[encoded data removed]"
          },
          "metadata": {}
        }
      ],
      "source": [
        "plt.scatter(data_raw['sc_w'], data_raw['price_range'], alpha=0.4)\n",
        "pass"
      ],
      "id": "c533cc71"
    },
    {
      "cell_type": "markdown",
      "metadata": {
        "id": "2748cf9e"
      },
      "source": [
        "Выбросов нет"
      ],
      "id": "2748cf9e"
    },
    {
      "cell_type": "code",
      "execution_count": 131,
      "metadata": {
        "colab": {
          "base_uri": "https://localhost:8080/",
          "height": 430
        },
        "id": "11f14bbd",
        "outputId": "1d30bf63-ec17-402a-cd75-322e164e2bc6"
      },
      "outputs": [
        {
          "output_type": "display_data",
          "data": {
            "text/plain": [
              "<Figure size 640x480 with 1 Axes>"
            ],
            "image/png": "[encoded data removed]"
          },
          "metadata": {}
        }
      ],
      "source": [
        "plt.scatter(data_raw['talk_time'], data_raw['price_range'], alpha=0.4)\n",
        "pass"
      ],
      "id": "11f14bbd"
    },
    {
      "cell_type": "code",
      "execution_count": 132,
      "metadata": {
        "colab": {
          "base_uri": "https://localhost:8080/"
        },
        "id": "9e5db30c",
        "outputId": "93b6118e-570b-4bdd-b471-491a4806d33f"
      },
      "outputs": [
        {
          "output_type": "execute_result",
          "data": {
            "text/plain": [
              "0.005     2.0\n",
              "0.010     2.0\n",
              "0.050     3.0\n",
              "0.100     4.0\n",
              "0.500    11.0\n",
              "0.900    19.0\n",
              "0.950    20.0\n",
              "0.990    20.0\n",
              "0.995    20.0\n",
              "Name: talk_time, dtype: float64"
            ]
          },
          "metadata": {},
          "execution_count": 132
        }
      ],
      "source": [
        "data_raw['talk_time'].quantile([0.005,.01,.05,.1,.5,.9,.95,.99,.995])"
      ],
      "id": "9e5db30c"
    },
    {
      "cell_type": "markdown",
      "metadata": {
        "id": "bb785ca5"
      },
      "source": [
        "Выбросы есть"
      ],
      "id": "bb785ca5"
    },
    {
      "cell_type": "code",
      "execution_count": 133,
      "metadata": {
        "colab": {
          "base_uri": "https://localhost:8080/",
          "height": 430
        },
        "id": "630be653",
        "outputId": "d1894140-cccb-4f25-9fce-bd1648918bba"
      },
      "outputs": [
        {
          "output_type": "display_data",
          "data": {
            "text/plain": [
              "<Figure size 640x480 with 1 Axes>"
            ],
            "image/png": "[encoded data removed]"
          },
          "metadata": {}
        }
      ],
      "source": [
        "plt.scatter(data_raw['three_g'], data_raw['price_range'], alpha=0.4)\n",
        "pass"
      ],
      "id": "630be653"
    },
    {
      "cell_type": "markdown",
      "metadata": {
        "id": "102c0b8d"
      },
      "source": [
        "Выбросов нет"
      ],
      "id": "102c0b8d"
    },
    {
      "cell_type": "code",
      "execution_count": 134,
      "metadata": {
        "colab": {
          "base_uri": "https://localhost:8080/",
          "height": 430
        },
        "id": "d28af58a",
        "outputId": "6f878269-e8cc-43c0-b4a7-69a835e2055d"
      },
      "outputs": [
        {
          "output_type": "display_data",
          "data": {
            "text/plain": [
              "<Figure size 640x480 with 1 Axes>"
            ],
            "image/png": "[encoded data removed]"
          },
          "metadata": {}
        }
      ],
      "source": [
        "plt.scatter(data_raw['touch_screen'], data_raw['price_range'], alpha=0.4)\n",
        "pass"
      ],
      "id": "d28af58a"
    },
    {
      "cell_type": "markdown",
      "metadata": {
        "id": "6a8a0ec6"
      },
      "source": [
        "Выбросов нет"
      ],
      "id": "6a8a0ec6"
    },
    {
      "cell_type": "code",
      "execution_count": 135,
      "metadata": {
        "colab": {
          "base_uri": "https://localhost:8080/",
          "height": 430
        },
        "id": "b2efc236",
        "outputId": "90ef2df4-9581-46ce-fa05-20bad8c61036"
      },
      "outputs": [
        {
          "output_type": "display_data",
          "data": {
            "text/plain": [
              "<Figure size 640x480 with 1 Axes>"
            ],
            "image/png": "[encoded data removed]"
          },
          "metadata": {}
        }
      ],
      "source": [
        "plt.scatter(data_raw['wifi'], data_raw['price_range'], alpha=0.4)\n",
        "pass"
      ],
      "id": "b2efc236"
    },
    {
      "cell_type": "markdown",
      "metadata": {
        "id": "d503eebe"
      },
      "source": [
        "Выбросов нет"
      ],
      "id": "d503eebe"
    },
    {
      "cell_type": "markdown",
      "metadata": {
        "id": "2221203a"
      },
      "source": [
        "Удалим все строки таблицы, в которых признаки с выбросами выходят за пределы квантилей $0.005$, $0.995$."
      ],
      "id": "2221203a"
    },
    {
      "cell_type": "code",
      "execution_count": 136,
      "metadata": {
        "colab": {
          "base_uri": "https://localhost:8080/"
        },
        "id": "da4ab4ca",
        "outputId": "00601a39-ab3d-4ba2-9996-261bfa188e58"
      },
      "outputs": [
        {
          "output_type": "execute_result",
          "data": {
            "text/plain": [
              "(2879, 21)"
            ]
          },
          "metadata": {},
          "execution_count": 136
        }
      ],
      "source": [
        "rows_to_drop = data_raw[\n",
        "    (data_raw['battery_power'] < data_raw['battery_power'].quantile(0.005)) | (data_raw['battery_power'] > data_raw['battery_power'].quantile(0.995)) |\n",
        "    (data_raw['clock_speed']  < data_raw['clock_speed' ].quantile(0.005)) | (data_raw['clock_speed']  > data_raw['clock_speed' ].quantile(0.995)) |\n",
        "    (data_raw['fc']  < data_raw['fc' ].quantile(0.005)) | (data_raw['fc']  > data_raw['fc' ].quantile(0.995)) |\n",
        "    (data_raw['int_memory']  < data_raw['int_memory' ].quantile(0.005)) | (data_raw['int_memory']  > data_raw['int_memory' ].quantile(0.995)) |\n",
        "    (data_raw['m_dep']  < data_raw['m_dep' ].quantile(0.005)) | (data_raw['m_dep']  > data_raw['m_dep' ].quantile(0.995)) |\n",
        "    (data_raw['mobile_wt']  < data_raw['mobile_wt' ].quantile(0.005)) | (data_raw['mobile_wt']  > data_raw['mobile_wt' ].quantile(0.995)) |\n",
        "    (data_raw['pc']  < data_raw['pc' ].quantile(0.005)) | (data_raw['pc']  > data_raw['pc' ].quantile(0.995)) |\n",
        "    (data_raw['px_width']  < data_raw['px_width' ].quantile(0.005)) | (data_raw['px_width']  > data_raw['px_width' ].quantile(0.995)) |\n",
        "    (data_raw['ram']  < data_raw['ram' ].quantile(0.005)) | (data_raw['ram']  > data_raw['ram' ].quantile(0.995)) |\n",
        "    (data_raw['talk_time']  < data_raw['talk_time' ].quantile(0.005)) | (data_raw['talk_time']  > data_raw['talk_time' ].quantile(0.995))].index\n",
        "data = data_raw.drop(rows_to_drop)\n",
        "data.shape"
      ],
      "id": "da4ab4ca"
    },
    {
      "cell_type": "code",
      "execution_count": 137,
      "metadata": {
        "colab": {
          "base_uri": "https://localhost:8080/"
        },
        "id": "5f1cd807",
        "outputId": "6ca1a9a7-a50b-47ca-bbc6-6d3be4dd1a59"
      },
      "outputs": [
        {
          "output_type": "execute_result",
          "data": {
            "text/plain": [
              "Int64Index([  18,   24,   43,   61,   69,  152,  167,  185,  193,  219,\n",
              "            ...\n",
              "            2739, 2754, 2772, 2780, 2806, 2875, 2879, 2896, 2914, 2944],\n",
              "           dtype='int64', length=121)"
            ]
          },
          "metadata": {},
          "execution_count": 137
        }
      ],
      "source": [
        "rows_to_drop"
      ],
      "id": "5f1cd807"
    },
    {
      "cell_type": "markdown",
      "metadata": {
        "id": "da2ed4dd"
      },
      "source": [
        " # Визуализация данных и вычисление основных характеристик"
      ],
      "id": "da2ed4dd"
    },
    {
      "cell_type": "code",
      "execution_count": 138,
      "metadata": {
        "colab": {
          "base_uri": "https://localhost:8080/",
          "height": 349
        },
        "id": "90c28beb",
        "outputId": "ba608424-a9d6-4cee-c3b7-6ccf29bc8ca7"
      },
      "outputs": [
        {
          "output_type": "execute_result",
          "data": {
            "text/plain": [
              "       battery_power         blue  clock_speed     dual_sim           fc  \\\n",
              "count    2874.000000  2864.000000  2874.000000  2867.000000  2873.000000   \n",
              "mean     1238.826722     0.486034     1.522930     0.511336     4.300035   \n",
              "std       439.068508     0.499892     0.821102     0.499959     4.354478   \n",
              "min       504.000000     0.000000     0.500000     0.000000     0.000000   \n",
              "25%       850.000000     0.000000     0.700000     0.000000     1.000000   \n",
              "50%      1231.000000     0.000000     1.500000     1.000000     3.000000   \n",
              "75%      1617.000000     1.000000     2.200000     1.000000     7.000000   \n",
              "max      1994.000000     1.000000     3.000000     1.000000    18.000000   \n",
              "\n",
              "            four_g   int_memory        m_dep    mobile_wt      n_cores  ...  \\\n",
              "count  2860.000000  2872.000000  2870.000000  2870.000000  2870.000000  ...   \n",
              "mean      0.514336    32.466574     0.501429   140.709059     4.510453  ...   \n",
              "std       0.499882    18.187908     0.286092    35.359785     2.289076  ...   \n",
              "min       0.000000     2.000000     0.100000    80.000000     1.000000  ...   \n",
              "25%       0.000000    16.000000     0.200000   109.000000     3.000000  ...   \n",
              "50%       1.000000    32.000000     0.500000   141.000000     4.000000  ...   \n",
              "75%       1.000000    48.000000     0.700000   171.000000     7.000000  ...   \n",
              "max       1.000000    64.000000     1.000000   200.000000     8.000000  ...   \n",
              "\n",
              "         px_height     px_width          ram         sc_h         sc_w  \\\n",
              "count  2871.000000  2874.000000  2876.000000  2872.000000  2873.000000   \n",
              "mean    643.615674  1247.704593  2135.609179    12.336351     5.743126   \n",
              "std     444.805337   429.223234  1083.050846     4.210546     4.365940   \n",
              "min       0.000000   507.000000   273.000000     5.000000     0.000000   \n",
              "25%     280.000000   874.000000  1210.750000     9.000000     2.000000   \n",
              "50%     561.000000  1247.000000  2181.000000    12.000000     5.000000   \n",
              "75%     952.000000  1617.750000  3068.000000    16.000000     9.000000   \n",
              "max    1960.000000  1992.000000  3970.000000    19.000000    18.000000   \n",
              "\n",
              "         talk_time      three_g  touch_screen         wifi  price_range  \n",
              "count  2870.000000  2871.000000   2876.000000  2876.000000  2879.000000  \n",
              "mean     11.003833     0.756183      0.507650     0.512865     1.513025  \n",
              "std       5.433362     0.429459      0.500028     0.499921     1.122030  \n",
              "min       2.000000     0.000000      0.000000     0.000000     0.000000  \n",
              "25%       6.000000     1.000000      0.000000     0.000000     0.500000  \n",
              "50%      11.000000     1.000000      1.000000     1.000000     2.000000  \n",
              "75%      16.000000     1.000000      1.000000     1.000000     3.000000  \n",
              "max      20.000000     1.000000      1.000000     1.000000     3.000000  \n",
              "\n",
              "[8 rows x 21 columns]"
            ],
            "text/html": [
              "\n",
              "  <div id=\"df-bb2a80e8-b36c-40af-b9f2-cfbe18fec70a\" class=\"colab-df-container\">\n",
              "    <div>\n",
              "<style scoped>\n",
              "    .dataframe tbody tr th:only-of-type {\n",
              "        vertical-align: middle;\n",
              "    }\n",
              "\n",
              "    .dataframe tbody tr th {\n",
              "        vertical-align: top;\n",
              "    }\n",
              "\n",
              "    .dataframe thead th {\n",
              "        text-align: right;\n",
              "    }\n",
              "</style>\n",
              "<table border=\"1\" class=\"dataframe\">\n",
              "  <thead>\n",
              "    <tr style=\"text-align: right;\">\n",
              "      <th></th>\n",
              "      <th>battery_power</th>\n",
              "      <th>blue</th>\n",
              "      <th>clock_speed</th>\n",
              "      <th>dual_sim</th>\n",
              "      <th>fc</th>\n",
              "      <th>four_g</th>\n",
              "      <th>int_memory</th>\n",
              "      <th>m_dep</th>\n",
              "      <th>mobile_wt</th>\n",
              "      <th>n_cores</th>\n",
              "      <th>...</th>\n",
              "      <th>px_height</th>\n",
              "      <th>px_width</th>\n",
              "      <th>ram</th>\n",
              "      <th>sc_h</th>\n",
              "      <th>sc_w</th>\n",
              "      <th>talk_time</th>\n",
              "      <th>three_g</th>\n",
              "      <th>touch_screen</th>\n",
              "      <th>wifi</th>\n",
              "      <th>price_range</th>\n",
              "    </tr>\n",
              "  </thead>\n",
              "  <tbody>\n",
              "    <tr>\n",
              "      <th>count</th>\n",
              "      <td>2874.000000</td>\n",
              "      <td>2864.000000</td>\n",
              "      <td>2874.000000</td>\n",
              "      <td>2867.000000</td>\n",
              "      <td>2873.000000</td>\n",
              "      <td>2860.000000</td>\n",
              "      <td>2872.000000</td>\n",
              "      <td>2870.000000</td>\n",
              "      <td>2870.000000</td>\n",
              "      <td>2870.000000</td>\n",
              "      <td>...</td>\n",
              "      <td>2871.000000</td>\n",
              "      <td>2874.000000</td>\n",
              "      <td>2876.000000</td>\n",
              "      <td>2872.000000</td>\n",
              "      <td>2873.000000</td>\n",
              "      <td>2870.000000</td>\n",
              "      <td>2871.000000</td>\n",
              "      <td>2876.000000</td>\n",
              "      <td>2876.000000</td>\n",
              "      <td>2879.000000</td>\n",
              "    </tr>\n",
              "    <tr>\n",
              "      <th>mean</th>\n",
              "      <td>1238.826722</td>\n",
              "      <td>0.486034</td>\n",
              "      <td>1.522930</td>\n",
              "      <td>0.511336</td>\n",
              "      <td>4.300035</td>\n",
              "      <td>0.514336</td>\n",
              "      <td>32.466574</td>\n",
              "      <td>0.501429</td>\n",
              "      <td>140.709059</td>\n",
              "      <td>4.510453</td>\n",
              "      <td>...</td>\n",
              "      <td>643.615674</td>\n",
              "      <td>1247.704593</td>\n",
              "      <td>2135.609179</td>\n",
              "      <td>12.336351</td>\n",
              "      <td>5.743126</td>\n",
              "      <td>11.003833</td>\n",
              "      <td>0.756183</td>\n",
              "      <td>0.507650</td>\n",
              "      <td>0.512865</td>\n",
              "      <td>1.513025</td>\n",
              "    </tr>\n",
              "    <tr>\n",
              "      <th>std</th>\n",
              "      <td>439.068508</td>\n",
              "      <td>0.499892</td>\n",
              "      <td>0.821102</td>\n",
              "      <td>0.499959</td>\n",
              "      <td>4.354478</td>\n",
              "      <td>0.499882</td>\n",
              "      <td>18.187908</td>\n",
              "      <td>0.286092</td>\n",
              "      <td>35.359785</td>\n",
              "      <td>2.289076</td>\n",
              "      <td>...</td>\n",
              "      <td>444.805337</td>\n",
              "      <td>429.223234</td>\n",
              "      <td>1083.050846</td>\n",
              "      <td>4.210546</td>\n",
              "      <td>4.365940</td>\n",
              "      <td>5.433362</td>\n",
              "      <td>0.429459</td>\n",
              "      <td>0.500028</td>\n",
              "      <td>0.499921</td>\n",
              "      <td>1.122030</td>\n",
              "    </tr>\n",
              "    <tr>\n",
              "      <th>min</th>\n",
              "      <td>504.000000</td>\n",
              "      <td>0.000000</td>\n",
              "      <td>0.500000</td>\n",
              "      <td>0.000000</td>\n",
              "      <td>0.000000</td>\n",
              "      <td>0.000000</td>\n",
              "      <td>2.000000</td>\n",
              "      <td>0.100000</td>\n",
              "      <td>80.000000</td>\n",
              "      <td>1.000000</td>\n",
              "      <td>...</td>\n",
              "      <td>0.000000</td>\n",
              "      <td>507.000000</td>\n",
              "      <td>273.000000</td>\n",
              "      <td>5.000000</td>\n",
              "      <td>0.000000</td>\n",
              "      <td>2.000000</td>\n",
              "      <td>0.000000</td>\n",
              "      <td>0.000000</td>\n",
              "      <td>0.000000</td>\n",
              "      <td>0.000000</td>\n",
              "    </tr>\n",
              "    <tr>\n",
              "      <th>25%</th>\n",
              "      <td>850.000000</td>\n",
              "      <td>0.000000</td>\n",
              "      <td>0.700000</td>\n",
              "      <td>0.000000</td>\n",
              "      <td>1.000000</td>\n",
              "      <td>0.000000</td>\n",
              "      <td>16.000000</td>\n",
              "      <td>0.200000</td>\n",
              "      <td>109.000000</td>\n",
              "      <td>3.000000</td>\n",
              "      <td>...</td>\n",
              "      <td>280.000000</td>\n",
              "      <td>874.000000</td>\n",
              "      <td>1210.750000</td>\n",
              "      <td>9.000000</td>\n",
              "      <td>2.000000</td>\n",
              "      <td>6.000000</td>\n",
              "      <td>1.000000</td>\n",
              "      <td>0.000000</td>\n",
              "      <td>0.000000</td>\n",
              "      <td>0.500000</td>\n",
              "    </tr>\n",
              "    <tr>\n",
              "      <th>50%</th>\n",
              "      <td>1231.000000</td>\n",
              "      <td>0.000000</td>\n",
              "      <td>1.500000</td>\n",
              "      <td>1.000000</td>\n",
              "      <td>3.000000</td>\n",
              "      <td>1.000000</td>\n",
              "      <td>32.000000</td>\n",
              "      <td>0.500000</td>\n",
              "      <td>141.000000</td>\n",
              "      <td>4.000000</td>\n",
              "      <td>...</td>\n",
              "      <td>561.000000</td>\n",
              "      <td>1247.000000</td>\n",
              "      <td>2181.000000</td>\n",
              "      <td>12.000000</td>\n",
              "      <td>5.000000</td>\n",
              "      <td>11.000000</td>\n",
              "      <td>1.000000</td>\n",
              "      <td>1.000000</td>\n",
              "      <td>1.000000</td>\n",
              "      <td>2.000000</td>\n",
              "    </tr>\n",
              "    <tr>\n",
              "      <th>75%</th>\n",
              "      <td>1617.000000</td>\n",
              "      <td>1.000000</td>\n",
              "      <td>2.200000</td>\n",
              "      <td>1.000000</td>\n",
              "      <td>7.000000</td>\n",
              "      <td>1.000000</td>\n",
              "      <td>48.000000</td>\n",
              "      <td>0.700000</td>\n",
              "      <td>171.000000</td>\n",
              "      <td>7.000000</td>\n",
              "      <td>...</td>\n",
              "      <td>952.000000</td>\n",
              "      <td>1617.750000</td>\n",
              "      <td>3068.000000</td>\n",
              "      <td>16.000000</td>\n",
              "      <td>9.000000</td>\n",
              "      <td>16.000000</td>\n",
              "      <td>1.000000</td>\n",
              "      <td>1.000000</td>\n",
              "      <td>1.000000</td>\n",
              "      <td>3.000000</td>\n",
              "    </tr>\n",
              "    <tr>\n",
              "      <th>max</th>\n",
              "      <td>1994.000000</td>\n",
              "      <td>1.000000</td>\n",
              "      <td>3.000000</td>\n",
              "      <td>1.000000</td>\n",
              "      <td>18.000000</td>\n",
              "      <td>1.000000</td>\n",
              "      <td>64.000000</td>\n",
              "      <td>1.000000</td>\n",
              "      <td>200.000000</td>\n",
              "      <td>8.000000</td>\n",
              "      <td>...</td>\n",
              "      <td>1960.000000</td>\n",
              "      <td>1992.000000</td>\n",
              "      <td>3970.000000</td>\n",
              "      <td>19.000000</td>\n",
              "      <td>18.000000</td>\n",
              "      <td>20.000000</td>\n",
              "      <td>1.000000</td>\n",
              "      <td>1.000000</td>\n",
              "      <td>1.000000</td>\n",
              "      <td>3.000000</td>\n",
              "    </tr>\n",
              "  </tbody>\n",
              "</table>\n",
              "<p>8 rows × 21 columns</p>\n",
              "</div>\n",
              "    <div class=\"colab-df-buttons\">\n",
              "\n",
              "  <div class=\"colab-df-container\">\n",
              "    <button class=\"colab-df-convert\" onclick=\"convertToInteractive('df-bb2a80e8-b36c-40af-b9f2-cfbe18fec70a')\"\n",
              "            title=\"Convert this dataframe to an interactive table.\"\n",
              "            style=\"display:none;\">\n",
              "\n",
              "  <svg xmlns=\"http://www.w3.org/2000/svg\" height=\"24px\" viewBox=\"0 -960 960 960\">\n",
              "    <path d=\"M120-120v-720h720v720H120Zm60-500h600v-160H180v160Zm220 220h160v-160H400v160Zm0 220h160v-160H400v160ZM180-400h160v-160H180v160Zm440 0h160v-160H620v160ZM180-180h160v-160H180v160Zm440 0h160v-160H620v160Z\"/>\n",
              "  </svg>\n",
              "    </button>\n",
              "\n",
              "  <style>\n",
              "    .colab-df-container {\n",
              "      display:flex;\n",
              "      gap: 12px;\n",
              "    }\n",
              "\n",
              "    .colab-df-convert {\n",
              "      background-color: #E8F0FE;\n",
              "      border: none;\n",
              "      border-radius: 50%;\n",
              "      cursor: pointer;\n",
              "      display: none;\n",
              "      fill: #1967D2;\n",
              "      height: 32px;\n",
              "      padding: 0 0 0 0;\n",
              "      width: 32px;\n",
              "    }\n",
              "\n",
              "    .colab-df-convert:hover {\n",
              "      background-color: #E2EBFA;\n",
              "      box-shadow: 0px 1px 2px rgba(60, 64, 67, 0.3), 0px 1px 3px 1px rgba(60, 64, 67, 0.15);\n",
              "      fill: #174EA6;\n",
              "    }\n",
              "\n",
              "    .colab-df-buttons div {\n",
              "      margin-bottom: 4px;\n",
              "    }\n",
              "\n",
              "    [theme=dark] .colab-df-convert {\n",
              "      background-color: #3B4455;\n",
              "      fill: #D2E3FC;\n",
              "    }\n",
              "\n",
              "    [theme=dark] .colab-df-convert:hover {\n",
              "      background-color: #434B5C;\n",
              "      box-shadow: 0px 1px 3px 1px rgba(0, 0, 0, 0.15);\n",
              "      filter: drop-shadow(0px 1px 2px rgba(0, 0, 0, 0.3));\n",
              "      fill: #FFFFFF;\n",
              "    }\n",
              "  </style>\n",
              "\n",
              "    <script>\n",
              "      const buttonEl =\n",
              "        document.querySelector('#df-bb2a80e8-b36c-40af-b9f2-cfbe18fec70a button.colab-df-convert');\n",
              "      buttonEl.style.display =\n",
              "        google.colab.kernel.accessAllowed ? 'block' : 'none';\n",
              "\n",
              "      async function convertToInteractive(key) {\n",
              "        const element = document.querySelector('#df-bb2a80e8-b36c-40af-b9f2-cfbe18fec70a');\n",
              "        const dataTable =\n",
              "          await google.colab.kernel.invokeFunction('convertToInteractive',\n",
              "                                                    [key], {});\n",
              "        if (!dataTable) return;\n",
              "\n",
              "        const docLinkHtml = 'Like what you see? Visit the ' +\n",
              "          '<a target=\"_blank\" href=https://colab.research.google.com/notebooks/data_table.ipynb>data table notebook</a>'\n",
              "          + ' to learn more about interactive tables.';\n",
              "        element.innerHTML = '';\n",
              "        dataTable['output_type'] = 'display_data';\n",
              "        await google.colab.output.renderOutput(dataTable, element);\n",
              "        const docLink = document.createElement('div');\n",
              "        docLink.innerHTML = docLinkHtml;\n",
              "        element.appendChild(docLink);\n",
              "      }\n",
              "    </script>\n",
              "  </div>\n",
              "\n",
              "\n",
              "<div id=\"df-6f07231c-5c70-4193-aa9a-15df0af908fb\">\n",
              "  <button class=\"colab-df-quickchart\" onclick=\"quickchart('df-6f07231c-5c70-4193-aa9a-15df0af908fb')\"\n",
              "            title=\"Suggest charts\"\n",
              "            style=\"display:none;\">\n",
              "\n",
              "<svg xmlns=\"http://www.w3.org/2000/svg\" height=\"24px\"viewBox=\"0 0 24 24\"\n",
              "     width=\"24px\">\n",
              "    <g>\n",
              "        <path d=\"M19 3H5c-1.1 0-2 .9-2 2v14c0 1.1.9 2 2 2h14c1.1 0 2-.9 2-2V5c0-1.1-.9-2-2-2zM9 17H7v-7h2v7zm4 0h-2V7h2v10zm4 0h-2v-4h2v4z\"/>\n",
              "    </g>\n",
              "</svg>\n",
              "  </button>\n",
              "\n",
              "<style>\n",
              "  .colab-df-quickchart {\n",
              "      --bg-color: #E8F0FE;\n",
              "      --fill-color: #1967D2;\n",
              "      --hover-bg-color: #E2EBFA;\n",
              "      --hover-fill-color: #174EA6;\n",
              "      --disabled-fill-color: #AAA;\n",
              "      --disabled-bg-color: #DDD;\n",
              "  }\n",
              "\n",
              "  [theme=dark] .colab-df-quickchart {\n",
              "      --bg-color: #3B4455;\n",
              "      --fill-color: #D2E3FC;\n",
              "      --hover-bg-color: #434B5C;\n",
              "      --hover-fill-color: #FFFFFF;\n",
              "      --disabled-bg-color: #3B4455;\n",
              "      --disabled-fill-color: #666;\n",
              "  }\n",
              "\n",
              "  .colab-df-quickchart {\n",
              "    background-color: var(--bg-color);\n",
              "    border: none;\n",
              "    border-radius: 50%;\n",
              "    cursor: pointer;\n",
              "    display: none;\n",
              "    fill: var(--fill-color);\n",
              "    height: 32px;\n",
              "    padding: 0;\n",
              "    width: 32px;\n",
              "  }\n",
              "\n",
              "  .colab-df-quickchart:hover {\n",
              "    background-color: var(--hover-bg-color);\n",
              "    box-shadow: 0 1px 2px rgba(60, 64, 67, 0.3), 0 1px 3px 1px rgba(60, 64, 67, 0.15);\n",
              "    fill: var(--button-hover-fill-color);\n",
              "  }\n",
              "\n",
              "  .colab-df-quickchart-complete:disabled,\n",
              "  .colab-df-quickchart-complete:disabled:hover {\n",
              "    background-color: var(--disabled-bg-color);\n",
              "    fill: var(--disabled-fill-color);\n",
              "    box-shadow: none;\n",
              "  }\n",
              "\n",
              "  .colab-df-spinner {\n",
              "    border: 2px solid var(--fill-color);\n",
              "    border-color: transparent;\n",
              "    border-bottom-color: var(--fill-color);\n",
              "    animation:\n",
              "      spin 1s steps(1) infinite;\n",
              "  }\n",
              "\n",
              "  @keyframes spin {\n",
              "    0% {\n",
              "      border-color: transparent;\n",
              "      border-bottom-color: var(--fill-color);\n",
              "      border-left-color: var(--fill-color);\n",
              "    }\n",
              "    20% {\n",
              "      border-color: transparent;\n",
              "      border-left-color: var(--fill-color);\n",
              "      border-top-color: var(--fill-color);\n",
              "    }\n",
              "    30% {\n",
              "      border-color: transparent;\n",
              "      border-left-color: var(--fill-color);\n",
              "      border-top-color: var(--fill-color);\n",
              "      border-right-color: var(--fill-color);\n",
              "    }\n",
              "    40% {\n",
              "      border-color: transparent;\n",
              "      border-right-color: var(--fill-color);\n",
              "      border-top-color: var(--fill-color);\n",
              "    }\n",
              "    60% {\n",
              "      border-color: transparent;\n",
              "      border-right-color: var(--fill-color);\n",
              "    }\n",
              "    80% {\n",
              "      border-color: transparent;\n",
              "      border-right-color: var(--fill-color);\n",
              "      border-bottom-color: var(--fill-color);\n",
              "    }\n",
              "    90% {\n",
              "      border-color: transparent;\n",
              "      border-bottom-color: var(--fill-color);\n",
              "    }\n",
              "  }\n",
              "</style>\n",
              "\n",
              "  <script>\n",
              "    async function quickchart(key) {\n",
              "      const quickchartButtonEl =\n",
              "        document.querySelector('#' + key + ' button');\n",
              "      quickchartButtonEl.disabled = true;  // To prevent multiple clicks.\n",
              "      quickchartButtonEl.classList.add('colab-df-spinner');\n",
              "      try {\n",
              "        const charts = await google.colab.kernel.invokeFunction(\n",
              "            'suggestCharts', [key], {});\n",
              "      } catch (error) {\n",
              "        console.error('Error during call to suggestCharts:', error);\n",
              "      }\n",
              "      quickchartButtonEl.classList.remove('colab-df-spinner');\n",
              "      quickchartButtonEl.classList.add('colab-df-quickchart-complete');\n",
              "    }\n",
              "    (() => {\n",
              "      let quickchartButtonEl =\n",
              "        document.querySelector('#df-6f07231c-5c70-4193-aa9a-15df0af908fb button');\n",
              "      quickchartButtonEl.style.display =\n",
              "        google.colab.kernel.accessAllowed ? 'block' : 'none';\n",
              "    })();\n",
              "  </script>\n",
              "</div>\n",
              "    </div>\n",
              "  </div>\n"
            ]
          },
          "metadata": {},
          "execution_count": 138
        }
      ],
      "source": [
        "data.describe()"
      ],
      "id": "90c28beb"
    },
    {
      "cell_type": "markdown",
      "metadata": {
        "id": "744fdfa5"
      },
      "source": [
        "В описании видим:\n",
        "\n",
        "1. count - количество значений для каждого признака. Из-за пропусков в таблице все значения различны. Минимальное значение у dual_sim = 2867, число пропусков = 12, что составлеят 0,4% от общего числа.\n",
        "2. mean - среднее значение\n",
        "3. std - стандартное отклонение\n",
        "4. min - минимальное значение\n",
        "5. 25% - первый квартиль\n",
        "6. 50% - медиана\n",
        "7. 75% - третий квартиль\n",
        "8. max - максимальное значение (заметим подозрительно большие значения - выбросы, с которыми будм бороться в дальнейшем)\n",
        "\n",
        "Рассмотрим некоторые из характеристик"
      ],
      "id": "744fdfa5"
    },
    {
      "cell_type": "code",
      "execution_count": 139,
      "metadata": {
        "colab": {
          "base_uri": "https://localhost:8080/",
          "height": 506
        },
        "id": "1d7080ad",
        "outputId": "2400817b-a9ea-4985-d098-d081e9b5d7bd"
      },
      "outputs": [
        {
          "output_type": "display_data",
          "data": {
            "text/plain": [
              "<Figure size 500x500 with 1 Axes>"
            ],
            "image/png": "[encoded data removed]"
          },
          "metadata": {}
        }
      ],
      "source": [
        "sns.displot(data['dual_sim'], bins=2)\n",
        "plt.grid()\n",
        "pass"
      ],
      "id": "1d7080ad"
    },
    {
      "cell_type": "markdown",
      "metadata": {
        "id": "02640e2a"
      },
      "source": [
        "На гистограмме видно распределение по 2 категориям: наличие и отсутствие поддержки 2 симкарт. Среднее значение = 0.511336, отклонение = 0.499959. Можно сделать вывод, что чуть больше половины моделей имеет 2 симкарты."
      ],
      "id": "02640e2a"
    },
    {
      "cell_type": "code",
      "execution_count": 140,
      "metadata": {
        "colab": {
          "base_uri": "https://localhost:8080/",
          "height": 506
        },
        "id": "a36a6a48",
        "outputId": "07eaa089-8a92-42dd-9eea-9debeb2536a1"
      },
      "outputs": [
        {
          "output_type": "display_data",
          "data": {
            "text/plain": [
              "<Figure size 500x500 with 1 Axes>"
            ],
            "image/png": "[encoded data removed]"
          },
          "metadata": {}
        }
      ],
      "source": [
        "sns.displot(data['touch_screen'], bins=2)\n",
        "plt.grid()\n",
        "pass"
      ],
      "id": "a36a6a48"
    },
    {
      "cell_type": "markdown",
      "metadata": {
        "id": "aa55748b"
      },
      "source": [
        "Видим нормальное распределение по категориям: наличие и отсутствие сенсорного экрана. При среднем = 0.507650 и отклонении = 0.500028, то есть, число моделей с сенсорным экраном и обычным примерно равны."
      ],
      "id": "aa55748b"
    },
    {
      "cell_type": "code",
      "execution_count": 141,
      "metadata": {
        "colab": {
          "base_uri": "https://localhost:8080/",
          "height": 506
        },
        "id": "ad2bcf15",
        "outputId": "f8490026-1db1-43a9-89e2-ce9beec38c21"
      },
      "outputs": [
        {
          "output_type": "display_data",
          "data": {
            "text/plain": [
              "<Figure size 500x500 with 1 Axes>"
            ],
            "image/png": "[encoded data removed]"
          },
          "metadata": {}
        }
      ],
      "source": [
        "sns.displot(data['ram'], bins=20)\n",
        "plt.grid()\n",
        "pass"
      ],
      "id": "ad2bcf15"
    },
    {
      "cell_type": "markdown",
      "metadata": {
        "id": "6c81aa00"
      },
      "source": [
        "Распределение оперативной памяти при среднем = 2136 и отклонении = 1083. При этом 25% = 1210, 50% = 2181, 75% = 3068.\n",
        "\n",
        "Вычислим матрицу корреляции"
      ],
      "id": "6c81aa00"
    },
    {
      "cell_type": "code",
      "execution_count": 142,
      "metadata": {
        "colab": {
          "base_uri": "https://localhost:8080/",
          "height": 757
        },
        "id": "e797d441",
        "outputId": "198c55d8-4fe4-4949-8cfb-73ec8ac97c2a"
      },
      "outputs": [
        {
          "output_type": "execute_result",
          "data": {
            "text/plain": [
              "               battery_power      blue  clock_speed  dual_sim        fc  \\\n",
              "battery_power       1.000000  0.011998     0.027703 -0.029329  0.045006   \n",
              "blue                0.011998  1.000000     0.038897  0.026642  0.012370   \n",
              "clock_speed         0.027703  0.038897     1.000000  0.021106  0.015256   \n",
              "dual_sim           -0.029329  0.026642     0.021106  1.000000 -0.028922   \n",
              "fc                  0.045006  0.012370     0.015256 -0.028922  1.000000   \n",
              "four_g              0.027099  0.005286    -0.037968  0.002153 -0.007077   \n",
              "int_memory         -0.004363  0.054356     0.011620 -0.012233 -0.028808   \n",
              "m_dep               0.036367  0.006894    -0.024136 -0.018826 -0.001025   \n",
              "mobile_wt           0.009955 -0.024746     0.017319 -0.003636  0.017778   \n",
              "n_cores            -0.030992  0.042086    -0.014519 -0.019953 -0.016395   \n",
              "pc                  0.046093 -0.009201     0.016166 -0.019974  0.644199   \n",
              "px_height           0.016592 -0.004650    -0.019039 -0.022964 -0.008213   \n",
              "px_width           -0.002324 -0.036353    -0.006861  0.007001 -0.015686   \n",
              "ram                 0.008383  0.031686     0.012411  0.046006  0.003936   \n",
              "sc_h               -0.038116 -0.012713    -0.011283 -0.018242 -0.013279   \n",
              "sc_w               -0.033667  0.009608    -0.002629 -0.017694 -0.005489   \n",
              "talk_time           0.052359  0.002202    -0.013898 -0.037101 -0.009514   \n",
              "three_g             0.008346 -0.052221    -0.047172 -0.007899  0.012990   \n",
              "touch_screen       -0.011229  0.005661     0.023502 -0.004523 -0.002362   \n",
              "wifi                0.005474 -0.024131    -0.034809  0.039253  0.016641   \n",
              "price_range         0.209181  0.023076     0.002343  0.024439  0.014633   \n",
              "\n",
              "                 four_g  int_memory     m_dep  mobile_wt   n_cores  ...  \\\n",
              "battery_power  0.027099   -0.004363  0.036367   0.009955 -0.030992  ...   \n",
              "blue           0.005286    0.054356  0.006894  -0.024746  0.042086  ...   \n",
              "clock_speed   -0.037968    0.011620 -0.024136   0.017319 -0.014519  ...   \n",
              "dual_sim       0.002153   -0.012233 -0.018826  -0.003636 -0.019953  ...   \n",
              "fc            -0.007077   -0.028808 -0.001025   0.017778 -0.016395  ...   \n",
              "four_g         1.000000    0.009793 -0.015670  -0.020902 -0.027199  ...   \n",
              "int_memory     0.009793    1.000000  0.015662  -0.030230 -0.018749  ...   \n",
              "m_dep         -0.015670    0.015662  1.000000   0.014780 -0.013536  ...   \n",
              "mobile_wt     -0.020902   -0.030230  0.014780   1.000000 -0.027086  ...   \n",
              "n_cores       -0.027199   -0.018749 -0.013536  -0.027086  1.000000  ...   \n",
              "pc             0.017002   -0.022054  0.015452   0.021947 -0.010249  ...   \n",
              "px_height     -0.026712    0.008251  0.003548   0.004664  0.000687  ...   \n",
              "px_width       0.012828   -0.003289  0.020210  -0.001916  0.030164  ...   \n",
              "ram           -0.001045    0.030967 -0.003904   0.009560  0.022090  ...   \n",
              "sc_h           0.027707    0.044676 -0.023769  -0.042164  0.006798  ...   \n",
              "sc_w           0.043867    0.024482 -0.014319  -0.020148  0.033627  ...   \n",
              "talk_time     -0.052692    0.006761  0.005794  -0.002075  0.000676  ...   \n",
              "three_g        0.585862   -0.018180 -0.033816   0.001926 -0.019395  ...   \n",
              "touch_screen   0.018748   -0.008836  0.004184  -0.025195  0.017690  ...   \n",
              "wifi          -0.011024    0.009111 -0.035118   0.003934 -0.014078  ...   \n",
              "price_range    0.008688    0.040132  0.004452  -0.022229  0.020561  ...   \n",
              "\n",
              "               px_height  px_width       ram      sc_h      sc_w  talk_time  \\\n",
              "battery_power   0.016592 -0.002324  0.008383 -0.038116 -0.033667   0.052359   \n",
              "blue           -0.004650 -0.036353  0.031686 -0.012713  0.009608   0.002202   \n",
              "clock_speed    -0.019039 -0.006861  0.012411 -0.011283 -0.002629  -0.013898   \n",
              "dual_sim       -0.022964  0.007001  0.046006 -0.018242 -0.017694  -0.037101   \n",
              "fc             -0.008213 -0.015686  0.003936 -0.013279 -0.005489  -0.009514   \n",
              "four_g         -0.026712  0.012828 -0.001045  0.027707  0.043867  -0.052692   \n",
              "int_memory      0.008251 -0.003289  0.030967  0.044676  0.024482   0.006761   \n",
              "m_dep           0.003548  0.020210 -0.003904 -0.023769 -0.014319   0.005794   \n",
              "mobile_wt       0.004664 -0.001916  0.009560 -0.042164 -0.020148  -0.002075   \n",
              "n_cores         0.000687  0.030164  0.022090  0.006798  0.033627   0.000676   \n",
              "pc             -0.015373 -0.013380  0.026074  0.019197 -0.004978   0.019149   \n",
              "px_height       1.000000  0.503117 -0.024825  0.053234  0.023741  -0.012562   \n",
              "px_width        0.503117  1.000000 -0.001009  0.021729  0.027502   0.006370   \n",
              "ram            -0.024825 -0.001009  1.000000  0.015201  0.053820   0.027772   \n",
              "sc_h            0.053234  0.021729  0.015201  1.000000  0.498915  -0.020141   \n",
              "sc_w            0.023741  0.027502  0.053820  0.498915  1.000000  -0.026077   \n",
              "talk_time      -0.012562  0.006370  0.027772 -0.020141 -0.026077   1.000000   \n",
              "three_g        -0.032026  0.003641  0.011291  0.021916  0.028855  -0.047297   \n",
              "touch_screen    0.022619 -0.005010 -0.031687 -0.026657  0.000906   0.014182   \n",
              "wifi            0.042718  0.031676  0.020181  0.002221  0.020028  -0.020692   \n",
              "price_range     0.148321  0.162155  0.917020  0.021676  0.051120   0.035786   \n",
              "\n",
              "                three_g  touch_screen      wifi  price_range  \n",
              "battery_power  0.008346     -0.011229  0.005474     0.209181  \n",
              "blue          -0.052221      0.005661 -0.024131     0.023076  \n",
              "clock_speed   -0.047172      0.023502 -0.034809     0.002343  \n",
              "dual_sim      -0.007899     -0.004523  0.039253     0.024439  \n",
              "fc             0.012990     -0.002362  0.016641     0.014633  \n",
              "four_g         0.585862      0.018748 -0.011024     0.008688  \n",
              "int_memory    -0.018180     -0.008836  0.009111     0.040132  \n",
              "m_dep         -0.033816      0.004184 -0.035118     0.004452  \n",
              "mobile_wt      0.001926     -0.025195  0.003934    -0.022229  \n",
              "n_cores       -0.019395      0.017690 -0.014078     0.020561  \n",
              "pc             0.009959     -0.008281  0.004868     0.031783  \n",
              "px_height     -0.032026      0.022619  0.042718     0.148321  \n",
              "px_width       0.003641     -0.005010  0.031676     0.162155  \n",
              "ram            0.011291     -0.031687  0.020181     0.917020  \n",
              "sc_h           0.021916     -0.026657  0.002221     0.021676  \n",
              "sc_w           0.028855      0.000906  0.020028     0.051120  \n",
              "talk_time     -0.047297      0.014182 -0.020692     0.035786  \n",
              "three_g        1.000000      0.003451  0.006149     0.019809  \n",
              "touch_screen   0.003451      1.000000  0.019451    -0.034883  \n",
              "wifi           0.006149      0.019451  1.000000     0.020186  \n",
              "price_range    0.019809     -0.034883  0.020186     1.000000  \n",
              "\n",
              "[21 rows x 21 columns]"
            ],
            "text/html": [
              "\n",
              "  <div id=\"df-2f54ed40-0881-4d3d-98c7-14eea326ed2b\" class=\"colab-df-container\">\n",
              "    <div>\n",
              "<style scoped>\n",
              "    .dataframe tbody tr th:only-of-type {\n",
              "        vertical-align: middle;\n",
              "    }\n",
              "\n",
              "    .dataframe tbody tr th {\n",
              "        vertical-align: top;\n",
              "    }\n",
              "\n",
              "    .dataframe thead th {\n",
              "        text-align: right;\n",
              "    }\n",
              "</style>\n",
              "<table border=\"1\" class=\"dataframe\">\n",
              "  <thead>\n",
              "    <tr style=\"text-align: right;\">\n",
              "      <th></th>\n",
              "      <th>battery_power</th>\n",
              "      <th>blue</th>\n",
              "      <th>clock_speed</th>\n",
              "      <th>dual_sim</th>\n",
              "      <th>fc</th>\n",
              "      <th>four_g</th>\n",
              "      <th>int_memory</th>\n",
              "      <th>m_dep</th>\n",
              "      <th>mobile_wt</th>\n",
              "      <th>n_cores</th>\n",
              "      <th>...</th>\n",
              "      <th>px_height</th>\n",
              "      <th>px_width</th>\n",
              "      <th>ram</th>\n",
              "      <th>sc_h</th>\n",
              "      <th>sc_w</th>\n",
              "      <th>talk_time</th>\n",
              "      <th>three_g</th>\n",
              "      <th>touch_screen</th>\n",
              "      <th>wifi</th>\n",
              "      <th>price_range</th>\n",
              "    </tr>\n",
              "  </thead>\n",
              "  <tbody>\n",
              "    <tr>\n",
              "      <th>battery_power</th>\n",
              "      <td>1.000000</td>\n",
              "      <td>0.011998</td>\n",
              "      <td>0.027703</td>\n",
              "      <td>-0.029329</td>\n",
              "      <td>0.045006</td>\n",
              "      <td>0.027099</td>\n",
              "      <td>-0.004363</td>\n",
              "      <td>0.036367</td>\n",
              "      <td>0.009955</td>\n",
              "      <td>-0.030992</td>\n",
              "      <td>...</td>\n",
              "      <td>0.016592</td>\n",
              "      <td>-0.002324</td>\n",
              "      <td>0.008383</td>\n",
              "      <td>-0.038116</td>\n",
              "      <td>-0.033667</td>\n",
              "      <td>0.052359</td>\n",
              "      <td>0.008346</td>\n",
              "      <td>-0.011229</td>\n",
              "      <td>0.005474</td>\n",
              "      <td>0.209181</td>\n",
              "    </tr>\n",
              "    <tr>\n",
              "      <th>blue</th>\n",
              "      <td>0.011998</td>\n",
              "      <td>1.000000</td>\n",
              "      <td>0.038897</td>\n",
              "      <td>0.026642</td>\n",
              "      <td>0.012370</td>\n",
              "      <td>0.005286</td>\n",
              "      <td>0.054356</td>\n",
              "      <td>0.006894</td>\n",
              "      <td>-0.024746</td>\n",
              "      <td>0.042086</td>\n",
              "      <td>...</td>\n",
              "      <td>-0.004650</td>\n",
              "      <td>-0.036353</td>\n",
              "      <td>0.031686</td>\n",
              "      <td>-0.012713</td>\n",
              "      <td>0.009608</td>\n",
              "      <td>0.002202</td>\n",
              "      <td>-0.052221</td>\n",
              "      <td>0.005661</td>\n",
              "      <td>-0.024131</td>\n",
              "      <td>0.023076</td>\n",
              "    </tr>\n",
              "    <tr>\n",
              "      <th>clock_speed</th>\n",
              "      <td>0.027703</td>\n",
              "      <td>0.038897</td>\n",
              "      <td>1.000000</td>\n",
              "      <td>0.021106</td>\n",
              "      <td>0.015256</td>\n",
              "      <td>-0.037968</td>\n",
              "      <td>0.011620</td>\n",
              "      <td>-0.024136</td>\n",
              "      <td>0.017319</td>\n",
              "      <td>-0.014519</td>\n",
              "      <td>...</td>\n",
              "      <td>-0.019039</td>\n",
              "      <td>-0.006861</td>\n",
              "      <td>0.012411</td>\n",
              "      <td>-0.011283</td>\n",
              "      <td>-0.002629</td>\n",
              "      <td>-0.013898</td>\n",
              "      <td>-0.047172</td>\n",
              "      <td>0.023502</td>\n",
              "      <td>-0.034809</td>\n",
              "      <td>0.002343</td>\n",
              "    </tr>\n",
              "    <tr>\n",
              "      <th>dual_sim</th>\n",
              "      <td>-0.029329</td>\n",
              "      <td>0.026642</td>\n",
              "      <td>0.021106</td>\n",
              "      <td>1.000000</td>\n",
              "      <td>-0.028922</td>\n",
              "      <td>0.002153</td>\n",
              "      <td>-0.012233</td>\n",
              "      <td>-0.018826</td>\n",
              "      <td>-0.003636</td>\n",
              "      <td>-0.019953</td>\n",
              "      <td>...</td>\n",
              "      <td>-0.022964</td>\n",
              "      <td>0.007001</td>\n",
              "      <td>0.046006</td>\n",
              "      <td>-0.018242</td>\n",
              "      <td>-0.017694</td>\n",
              "      <td>-0.037101</td>\n",
              "      <td>-0.007899</td>\n",
              "      <td>-0.004523</td>\n",
              "      <td>0.039253</td>\n",
              "      <td>0.024439</td>\n",
              "    </tr>\n",
              "    <tr>\n",
              "      <th>fc</th>\n",
              "      <td>0.045006</td>\n",
              "      <td>0.012370</td>\n",
              "      <td>0.015256</td>\n",
              "      <td>-0.028922</td>\n",
              "      <td>1.000000</td>\n",
              "      <td>-0.007077</td>\n",
              "      <td>-0.028808</td>\n",
              "      <td>-0.001025</td>\n",
              "      <td>0.017778</td>\n",
              "      <td>-0.016395</td>\n",
              "      <td>...</td>\n",
              "      <td>-0.008213</td>\n",
              "      <td>-0.015686</td>\n",
              "      <td>0.003936</td>\n",
              "      <td>-0.013279</td>\n",
              "      <td>-0.005489</td>\n",
              "      <td>-0.009514</td>\n",
              "      <td>0.012990</td>\n",
              "      <td>-0.002362</td>\n",
              "      <td>0.016641</td>\n",
              "      <td>0.014633</td>\n",
              "    </tr>\n",
              "    <tr>\n",
              "      <th>four_g</th>\n",
              "      <td>0.027099</td>\n",
              "      <td>0.005286</td>\n",
              "      <td>-0.037968</td>\n",
              "      <td>0.002153</td>\n",
              "      <td>-0.007077</td>\n",
              "      <td>1.000000</td>\n",
              "      <td>0.009793</td>\n",
              "      <td>-0.015670</td>\n",
              "      <td>-0.020902</td>\n",
              "      <td>-0.027199</td>\n",
              "      <td>...</td>\n",
              "      <td>-0.026712</td>\n",
              "      <td>0.012828</td>\n",
              "      <td>-0.001045</td>\n",
              "      <td>0.027707</td>\n",
              "      <td>0.043867</td>\n",
              "      <td>-0.052692</td>\n",
              "      <td>0.585862</td>\n",
              "      <td>0.018748</td>\n",
              "      <td>-0.011024</td>\n",
              "      <td>0.008688</td>\n",
              "    </tr>\n",
              "    <tr>\n",
              "      <th>int_memory</th>\n",
              "      <td>-0.004363</td>\n",
              "      <td>0.054356</td>\n",
              "      <td>0.011620</td>\n",
              "      <td>-0.012233</td>\n",
              "      <td>-0.028808</td>\n",
              "      <td>0.009793</td>\n",
              "      <td>1.000000</td>\n",
              "      <td>0.015662</td>\n",
              "      <td>-0.030230</td>\n",
              "      <td>-0.018749</td>\n",
              "      <td>...</td>\n",
              "      <td>0.008251</td>\n",
              "      <td>-0.003289</td>\n",
              "      <td>0.030967</td>\n",
              "      <td>0.044676</td>\n",
              "      <td>0.024482</td>\n",
              "      <td>0.006761</td>\n",
              "      <td>-0.018180</td>\n",
              "      <td>-0.008836</td>\n",
              "      <td>0.009111</td>\n",
              "      <td>0.040132</td>\n",
              "    </tr>\n",
              "    <tr>\n",
              "      <th>m_dep</th>\n",
              "      <td>0.036367</td>\n",
              "      <td>0.006894</td>\n",
              "      <td>-0.024136</td>\n",
              "      <td>-0.018826</td>\n",
              "      <td>-0.001025</td>\n",
              "      <td>-0.015670</td>\n",
              "      <td>0.015662</td>\n",
              "      <td>1.000000</td>\n",
              "      <td>0.014780</td>\n",
              "      <td>-0.013536</td>\n",
              "      <td>...</td>\n",
              "      <td>0.003548</td>\n",
              "      <td>0.020210</td>\n",
              "      <td>-0.003904</td>\n",
              "      <td>-0.023769</td>\n",
              "      <td>-0.014319</td>\n",
              "      <td>0.005794</td>\n",
              "      <td>-0.033816</td>\n",
              "      <td>0.004184</td>\n",
              "      <td>-0.035118</td>\n",
              "      <td>0.004452</td>\n",
              "    </tr>\n",
              "    <tr>\n",
              "      <th>mobile_wt</th>\n",
              "      <td>0.009955</td>\n",
              "      <td>-0.024746</td>\n",
              "      <td>0.017319</td>\n",
              "      <td>-0.003636</td>\n",
              "      <td>0.017778</td>\n",
              "      <td>-0.020902</td>\n",
              "      <td>-0.030230</td>\n",
              "      <td>0.014780</td>\n",
              "      <td>1.000000</td>\n",
              "      <td>-0.027086</td>\n",
              "      <td>...</td>\n",
              "      <td>0.004664</td>\n",
              "      <td>-0.001916</td>\n",
              "      <td>0.009560</td>\n",
              "      <td>-0.042164</td>\n",
              "      <td>-0.020148</td>\n",
              "      <td>-0.002075</td>\n",
              "      <td>0.001926</td>\n",
              "      <td>-0.025195</td>\n",
              "      <td>0.003934</td>\n",
              "      <td>-0.022229</td>\n",
              "    </tr>\n",
              "    <tr>\n",
              "      <th>n_cores</th>\n",
              "      <td>-0.030992</td>\n",
              "      <td>0.042086</td>\n",
              "      <td>-0.014519</td>\n",
              "      <td>-0.019953</td>\n",
              "      <td>-0.016395</td>\n",
              "      <td>-0.027199</td>\n",
              "      <td>-0.018749</td>\n",
              "      <td>-0.013536</td>\n",
              "      <td>-0.027086</td>\n",
              "      <td>1.000000</td>\n",
              "      <td>...</td>\n",
              "      <td>0.000687</td>\n",
              "      <td>0.030164</td>\n",
              "      <td>0.022090</td>\n",
              "      <td>0.006798</td>\n",
              "      <td>0.033627</td>\n",
              "      <td>0.000676</td>\n",
              "      <td>-0.019395</td>\n",
              "      <td>0.017690</td>\n",
              "      <td>-0.014078</td>\n",
              "      <td>0.020561</td>\n",
              "    </tr>\n",
              "    <tr>\n",
              "      <th>pc</th>\n",
              "      <td>0.046093</td>\n",
              "      <td>-0.009201</td>\n",
              "      <td>0.016166</td>\n",
              "      <td>-0.019974</td>\n",
              "      <td>0.644199</td>\n",
              "      <td>0.017002</td>\n",
              "      <td>-0.022054</td>\n",
              "      <td>0.015452</td>\n",
              "      <td>0.021947</td>\n",
              "      <td>-0.010249</td>\n",
              "      <td>...</td>\n",
              "      <td>-0.015373</td>\n",
              "      <td>-0.013380</td>\n",
              "      <td>0.026074</td>\n",
              "      <td>0.019197</td>\n",
              "      <td>-0.004978</td>\n",
              "      <td>0.019149</td>\n",
              "      <td>0.009959</td>\n",
              "      <td>-0.008281</td>\n",
              "      <td>0.004868</td>\n",
              "      <td>0.031783</td>\n",
              "    </tr>\n",
              "    <tr>\n",
              "      <th>px_height</th>\n",
              "      <td>0.016592</td>\n",
              "      <td>-0.004650</td>\n",
              "      <td>-0.019039</td>\n",
              "      <td>-0.022964</td>\n",
              "      <td>-0.008213</td>\n",
              "      <td>-0.026712</td>\n",
              "      <td>0.008251</td>\n",
              "      <td>0.003548</td>\n",
              "      <td>0.004664</td>\n",
              "      <td>0.000687</td>\n",
              "      <td>...</td>\n",
              "      <td>1.000000</td>\n",
              "      <td>0.503117</td>\n",
              "      <td>-0.024825</td>\n",
              "      <td>0.053234</td>\n",
              "      <td>0.023741</td>\n",
              "      <td>-0.012562</td>\n",
              "      <td>-0.032026</td>\n",
              "      <td>0.022619</td>\n",
              "      <td>0.042718</td>\n",
              "      <td>0.148321</td>\n",
              "    </tr>\n",
              "    <tr>\n",
              "      <th>px_width</th>\n",
              "      <td>-0.002324</td>\n",
              "      <td>-0.036353</td>\n",
              "      <td>-0.006861</td>\n",
              "      <td>0.007001</td>\n",
              "      <td>-0.015686</td>\n",
              "      <td>0.012828</td>\n",
              "      <td>-0.003289</td>\n",
              "      <td>0.020210</td>\n",
              "      <td>-0.001916</td>\n",
              "      <td>0.030164</td>\n",
              "      <td>...</td>\n",
              "      <td>0.503117</td>\n",
              "      <td>1.000000</td>\n",
              "      <td>-0.001009</td>\n",
              "      <td>0.021729</td>\n",
              "      <td>0.027502</td>\n",
              "      <td>0.006370</td>\n",
              "      <td>0.003641</td>\n",
              "      <td>-0.005010</td>\n",
              "      <td>0.031676</td>\n",
              "      <td>0.162155</td>\n",
              "    </tr>\n",
              "    <tr>\n",
              "      <th>ram</th>\n",
              "      <td>0.008383</td>\n",
              "      <td>0.031686</td>\n",
              "      <td>0.012411</td>\n",
              "      <td>0.046006</td>\n",
              "      <td>0.003936</td>\n",
              "      <td>-0.001045</td>\n",
              "      <td>0.030967</td>\n",
              "      <td>-0.003904</td>\n",
              "      <td>0.009560</td>\n",
              "      <td>0.022090</td>\n",
              "      <td>...</td>\n",
              "      <td>-0.024825</td>\n",
              "      <td>-0.001009</td>\n",
              "      <td>1.000000</td>\n",
              "      <td>0.015201</td>\n",
              "      <td>0.053820</td>\n",
              "      <td>0.027772</td>\n",
              "      <td>0.011291</td>\n",
              "      <td>-0.031687</td>\n",
              "      <td>0.020181</td>\n",
              "      <td>0.917020</td>\n",
              "    </tr>\n",
              "    <tr>\n",
              "      <th>sc_h</th>\n",
              "      <td>-0.038116</td>\n",
              "      <td>-0.012713</td>\n",
              "      <td>-0.011283</td>\n",
              "      <td>-0.018242</td>\n",
              "      <td>-0.013279</td>\n",
              "      <td>0.027707</td>\n",
              "      <td>0.044676</td>\n",
              "      <td>-0.023769</td>\n",
              "      <td>-0.042164</td>\n",
              "      <td>0.006798</td>\n",
              "      <td>...</td>\n",
              "      <td>0.053234</td>\n",
              "      <td>0.021729</td>\n",
              "      <td>0.015201</td>\n",
              "      <td>1.000000</td>\n",
              "      <td>0.498915</td>\n",
              "      <td>-0.020141</td>\n",
              "      <td>0.021916</td>\n",
              "      <td>-0.026657</td>\n",
              "      <td>0.002221</td>\n",
              "      <td>0.021676</td>\n",
              "    </tr>\n",
              "    <tr>\n",
              "      <th>sc_w</th>\n",
              "      <td>-0.033667</td>\n",
              "      <td>0.009608</td>\n",
              "      <td>-0.002629</td>\n",
              "      <td>-0.017694</td>\n",
              "      <td>-0.005489</td>\n",
              "      <td>0.043867</td>\n",
              "      <td>0.024482</td>\n",
              "      <td>-0.014319</td>\n",
              "      <td>-0.020148</td>\n",
              "      <td>0.033627</td>\n",
              "      <td>...</td>\n",
              "      <td>0.023741</td>\n",
              "      <td>0.027502</td>\n",
              "      <td>0.053820</td>\n",
              "      <td>0.498915</td>\n",
              "      <td>1.000000</td>\n",
              "      <td>-0.026077</td>\n",
              "      <td>0.028855</td>\n",
              "      <td>0.000906</td>\n",
              "      <td>0.020028</td>\n",
              "      <td>0.051120</td>\n",
              "    </tr>\n",
              "    <tr>\n",
              "      <th>talk_time</th>\n",
              "      <td>0.052359</td>\n",
              "      <td>0.002202</td>\n",
              "      <td>-0.013898</td>\n",
              "      <td>-0.037101</td>\n",
              "      <td>-0.009514</td>\n",
              "      <td>-0.052692</td>\n",
              "      <td>0.006761</td>\n",
              "      <td>0.005794</td>\n",
              "      <td>-0.002075</td>\n",
              "      <td>0.000676</td>\n",
              "      <td>...</td>\n",
              "      <td>-0.012562</td>\n",
              "      <td>0.006370</td>\n",
              "      <td>0.027772</td>\n",
              "      <td>-0.020141</td>\n",
              "      <td>-0.026077</td>\n",
              "      <td>1.000000</td>\n",
              "      <td>-0.047297</td>\n",
              "      <td>0.014182</td>\n",
              "      <td>-0.020692</td>\n",
              "      <td>0.035786</td>\n",
              "    </tr>\n",
              "    <tr>\n",
              "      <th>three_g</th>\n",
              "      <td>0.008346</td>\n",
              "      <td>-0.052221</td>\n",
              "      <td>-0.047172</td>\n",
              "      <td>-0.007899</td>\n",
              "      <td>0.012990</td>\n",
              "      <td>0.585862</td>\n",
              "      <td>-0.018180</td>\n",
              "      <td>-0.033816</td>\n",
              "      <td>0.001926</td>\n",
              "      <td>-0.019395</td>\n",
              "      <td>...</td>\n",
              "      <td>-0.032026</td>\n",
              "      <td>0.003641</td>\n",
              "      <td>0.011291</td>\n",
              "      <td>0.021916</td>\n",
              "      <td>0.028855</td>\n",
              "      <td>-0.047297</td>\n",
              "      <td>1.000000</td>\n",
              "      <td>0.003451</td>\n",
              "      <td>0.006149</td>\n",
              "      <td>0.019809</td>\n",
              "    </tr>\n",
              "    <tr>\n",
              "      <th>touch_screen</th>\n",
              "      <td>-0.011229</td>\n",
              "      <td>0.005661</td>\n",
              "      <td>0.023502</td>\n",
              "      <td>-0.004523</td>\n",
              "      <td>-0.002362</td>\n",
              "      <td>0.018748</td>\n",
              "      <td>-0.008836</td>\n",
              "      <td>0.004184</td>\n",
              "      <td>-0.025195</td>\n",
              "      <td>0.017690</td>\n",
              "      <td>...</td>\n",
              "      <td>0.022619</td>\n",
              "      <td>-0.005010</td>\n",
              "      <td>-0.031687</td>\n",
              "      <td>-0.026657</td>\n",
              "      <td>0.000906</td>\n",
              "      <td>0.014182</td>\n",
              "      <td>0.003451</td>\n",
              "      <td>1.000000</td>\n",
              "      <td>0.019451</td>\n",
              "      <td>-0.034883</td>\n",
              "    </tr>\n",
              "    <tr>\n",
              "      <th>wifi</th>\n",
              "      <td>0.005474</td>\n",
              "      <td>-0.024131</td>\n",
              "      <td>-0.034809</td>\n",
              "      <td>0.039253</td>\n",
              "      <td>0.016641</td>\n",
              "      <td>-0.011024</td>\n",
              "      <td>0.009111</td>\n",
              "      <td>-0.035118</td>\n",
              "      <td>0.003934</td>\n",
              "      <td>-0.014078</td>\n",
              "      <td>...</td>\n",
              "      <td>0.042718</td>\n",
              "      <td>0.031676</td>\n",
              "      <td>0.020181</td>\n",
              "      <td>0.002221</td>\n",
              "      <td>0.020028</td>\n",
              "      <td>-0.020692</td>\n",
              "      <td>0.006149</td>\n",
              "      <td>0.019451</td>\n",
              "      <td>1.000000</td>\n",
              "      <td>0.020186</td>\n",
              "    </tr>\n",
              "    <tr>\n",
              "      <th>price_range</th>\n",
              "      <td>0.209181</td>\n",
              "      <td>0.023076</td>\n",
              "      <td>0.002343</td>\n",
              "      <td>0.024439</td>\n",
              "      <td>0.014633</td>\n",
              "      <td>0.008688</td>\n",
              "      <td>0.040132</td>\n",
              "      <td>0.004452</td>\n",
              "      <td>-0.022229</td>\n",
              "      <td>0.020561</td>\n",
              "      <td>...</td>\n",
              "      <td>0.148321</td>\n",
              "      <td>0.162155</td>\n",
              "      <td>0.917020</td>\n",
              "      <td>0.021676</td>\n",
              "      <td>0.051120</td>\n",
              "      <td>0.035786</td>\n",
              "      <td>0.019809</td>\n",
              "      <td>-0.034883</td>\n",
              "      <td>0.020186</td>\n",
              "      <td>1.000000</td>\n",
              "    </tr>\n",
              "  </tbody>\n",
              "</table>\n",
              "<p>21 rows × 21 columns</p>\n",
              "</div>\n",
              "    <div class=\"colab-df-buttons\">\n",
              "\n",
              "  <div class=\"colab-df-container\">\n",
              "    <button class=\"colab-df-convert\" onclick=\"convertToInteractive('df-2f54ed40-0881-4d3d-98c7-14eea326ed2b')\"\n",
              "            title=\"Convert this dataframe to an interactive table.\"\n",
              "            style=\"display:none;\">\n",
              "\n",
              "  <svg xmlns=\"http://www.w3.org/2000/svg\" height=\"24px\" viewBox=\"0 -960 960 960\">\n",
              "    <path d=\"M120-120v-720h720v720H120Zm60-500h600v-160H180v160Zm220 220h160v-160H400v160Zm0 220h160v-160H400v160ZM180-400h160v-160H180v160Zm440 0h160v-160H620v160ZM180-180h160v-160H180v160Zm440 0h160v-160H620v160Z\"/>\n",
              "  </svg>\n",
              "    </button>\n",
              "\n",
              "  <style>\n",
              "    .colab-df-container {\n",
              "      display:flex;\n",
              "      gap: 12px;\n",
              "    }\n",
              "\n",
              "    .colab-df-convert {\n",
              "      background-color: #E8F0FE;\n",
              "      border: none;\n",
              "      border-radius: 50%;\n",
              "      cursor: pointer;\n",
              "      display: none;\n",
              "      fill: #1967D2;\n",
              "      height: 32px;\n",
              "      padding: 0 0 0 0;\n",
              "      width: 32px;\n",
              "    }\n",
              "\n",
              "    .colab-df-convert:hover {\n",
              "      background-color: #E2EBFA;\n",
              "      box-shadow: 0px 1px 2px rgba(60, 64, 67, 0.3), 0px 1px 3px 1px rgba(60, 64, 67, 0.15);\n",
              "      fill: #174EA6;\n",
              "    }\n",
              "\n",
              "    .colab-df-buttons div {\n",
              "      margin-bottom: 4px;\n",
              "    }\n",
              "\n",
              "    [theme=dark] .colab-df-convert {\n",
              "      background-color: #3B4455;\n",
              "      fill: #D2E3FC;\n",
              "    }\n",
              "\n",
              "    [theme=dark] .colab-df-convert:hover {\n",
              "      background-color: #434B5C;\n",
              "      box-shadow: 0px 1px 3px 1px rgba(0, 0, 0, 0.15);\n",
              "      filter: drop-shadow(0px 1px 2px rgba(0, 0, 0, 0.3));\n",
              "      fill: #FFFFFF;\n",
              "    }\n",
              "  </style>\n",
              "\n",
              "    <script>\n",
              "      const buttonEl =\n",
              "        document.querySelector('#df-2f54ed40-0881-4d3d-98c7-14eea326ed2b button.colab-df-convert');\n",
              "      buttonEl.style.display =\n",
              "        google.colab.kernel.accessAllowed ? 'block' : 'none';\n",
              "\n",
              "      async function convertToInteractive(key) {\n",
              "        const element = document.querySelector('#df-2f54ed40-0881-4d3d-98c7-14eea326ed2b');\n",
              "        const dataTable =\n",
              "          await google.colab.kernel.invokeFunction('convertToInteractive',\n",
              "                                                    [key], {});\n",
              "        if (!dataTable) return;\n",
              "\n",
              "        const docLinkHtml = 'Like what you see? Visit the ' +\n",
              "          '<a target=\"_blank\" href=https://colab.research.google.com/notebooks/data_table.ipynb>data table notebook</a>'\n",
              "          + ' to learn more about interactive tables.';\n",
              "        element.innerHTML = '';\n",
              "        dataTable['output_type'] = 'display_data';\n",
              "        await google.colab.output.renderOutput(dataTable, element);\n",
              "        const docLink = document.createElement('div');\n",
              "        docLink.innerHTML = docLinkHtml;\n",
              "        element.appendChild(docLink);\n",
              "      }\n",
              "    </script>\n",
              "  </div>\n",
              "\n",
              "\n",
              "<div id=\"df-a439e51b-9794-42a0-9300-f4191df40b1d\">\n",
              "  <button class=\"colab-df-quickchart\" onclick=\"quickchart('df-a439e51b-9794-42a0-9300-f4191df40b1d')\"\n",
              "            title=\"Suggest charts\"\n",
              "            style=\"display:none;\">\n",
              "\n",
              "<svg xmlns=\"http://www.w3.org/2000/svg\" height=\"24px\"viewBox=\"0 0 24 24\"\n",
              "     width=\"24px\">\n",
              "    <g>\n",
              "        <path d=\"M19 3H5c-1.1 0-2 .9-2 2v14c0 1.1.9 2 2 2h14c1.1 0 2-.9 2-2V5c0-1.1-.9-2-2-2zM9 17H7v-7h2v7zm4 0h-2V7h2v10zm4 0h-2v-4h2v4z\"/>\n",
              "    </g>\n",
              "</svg>\n",
              "  </button>\n",
              "\n",
              "<style>\n",
              "  .colab-df-quickchart {\n",
              "      --bg-color: #E8F0FE;\n",
              "      --fill-color: #1967D2;\n",
              "      --hover-bg-color: #E2EBFA;\n",
              "      --hover-fill-color: #174EA6;\n",
              "      --disabled-fill-color: #AAA;\n",
              "      --disabled-bg-color: #DDD;\n",
              "  }\n",
              "\n",
              "  [theme=dark] .colab-df-quickchart {\n",
              "      --bg-color: #3B4455;\n",
              "      --fill-color: #D2E3FC;\n",
              "      --hover-bg-color: #434B5C;\n",
              "      --hover-fill-color: #FFFFFF;\n",
              "      --disabled-bg-color: #3B4455;\n",
              "      --disabled-fill-color: #666;\n",
              "  }\n",
              "\n",
              "  .colab-df-quickchart {\n",
              "    background-color: var(--bg-color);\n",
              "    border: none;\n",
              "    border-radius: 50%;\n",
              "    cursor: pointer;\n",
              "    display: none;\n",
              "    fill: var(--fill-color);\n",
              "    height: 32px;\n",
              "    padding: 0;\n",
              "    width: 32px;\n",
              "  }\n",
              "\n",
              "  .colab-df-quickchart:hover {\n",
              "    background-color: var(--hover-bg-color);\n",
              "    box-shadow: 0 1px 2px rgba(60, 64, 67, 0.3), 0 1px 3px 1px rgba(60, 64, 67, 0.15);\n",
              "    fill: var(--button-hover-fill-color);\n",
              "  }\n",
              "\n",
              "  .colab-df-quickchart-complete:disabled,\n",
              "  .colab-df-quickchart-complete:disabled:hover {\n",
              "    background-color: var(--disabled-bg-color);\n",
              "    fill: var(--disabled-fill-color);\n",
              "    box-shadow: none;\n",
              "  }\n",
              "\n",
              "  .colab-df-spinner {\n",
              "    border: 2px solid var(--fill-color);\n",
              "    border-color: transparent;\n",
              "    border-bottom-color: var(--fill-color);\n",
              "    animation:\n",
              "      spin 1s steps(1) infinite;\n",
              "  }\n",
              "\n",
              "  @keyframes spin {\n",
              "    0% {\n",
              "      border-color: transparent;\n",
              "      border-bottom-color: var(--fill-color);\n",
              "      border-left-color: var(--fill-color);\n",
              "    }\n",
              "    20% {\n",
              "      border-color: transparent;\n",
              "      border-left-color: var(--fill-color);\n",
              "      border-top-color: var(--fill-color);\n",
              "    }\n",
              "    30% {\n",
              "      border-color: transparent;\n",
              "      border-left-color: var(--fill-color);\n",
              "      border-top-color: var(--fill-color);\n",
              "      border-right-color: var(--fill-color);\n",
              "    }\n",
              "    40% {\n",
              "      border-color: transparent;\n",
              "      border-right-color: var(--fill-color);\n",
              "      border-top-color: var(--fill-color);\n",
              "    }\n",
              "    60% {\n",
              "      border-color: transparent;\n",
              "      border-right-color: var(--fill-color);\n",
              "    }\n",
              "    80% {\n",
              "      border-color: transparent;\n",
              "      border-right-color: var(--fill-color);\n",
              "      border-bottom-color: var(--fill-color);\n",
              "    }\n",
              "    90% {\n",
              "      border-color: transparent;\n",
              "      border-bottom-color: var(--fill-color);\n",
              "    }\n",
              "  }\n",
              "</style>\n",
              "\n",
              "  <script>\n",
              "    async function quickchart(key) {\n",
              "      const quickchartButtonEl =\n",
              "        document.querySelector('#' + key + ' button');\n",
              "      quickchartButtonEl.disabled = true;  // To prevent multiple clicks.\n",
              "      quickchartButtonEl.classList.add('colab-df-spinner');\n",
              "      try {\n",
              "        const charts = await google.colab.kernel.invokeFunction(\n",
              "            'suggestCharts', [key], {});\n",
              "      } catch (error) {\n",
              "        console.error('Error during call to suggestCharts:', error);\n",
              "      }\n",
              "      quickchartButtonEl.classList.remove('colab-df-spinner');\n",
              "      quickchartButtonEl.classList.add('colab-df-quickchart-complete');\n",
              "    }\n",
              "    (() => {\n",
              "      let quickchartButtonEl =\n",
              "        document.querySelector('#df-a439e51b-9794-42a0-9300-f4191df40b1d button');\n",
              "      quickchartButtonEl.style.display =\n",
              "        google.colab.kernel.accessAllowed ? 'block' : 'none';\n",
              "    })();\n",
              "  </script>\n",
              "</div>\n",
              "    </div>\n",
              "  </div>\n"
            ]
          },
          "metadata": {},
          "execution_count": 142
        }
      ],
      "source": [
        "corr_matrix = data.corr()\n",
        "corr_matrix"
      ],
      "id": "e797d441"
    },
    {
      "cell_type": "code",
      "execution_count": 143,
      "metadata": {
        "colab": {
          "base_uri": "https://localhost:8080/",
          "height": 522
        },
        "id": "0f104c1f",
        "outputId": "2bb780e7-da26-4dd2-a93b-d8b0c98f5ee9"
      },
      "outputs": [
        {
          "output_type": "display_data",
          "data": {
            "text/plain": [
              "<Figure size 640x480 with 2 Axes>"
            ],
            "image/png": "[encoded data removed]"
          },
          "metadata": {}
        }
      ],
      "source": [
        "sns.heatmap(corr_matrix, square=True, cmap='coolwarm')\n",
        "pass"
      ],
      "id": "0f104c1f"
    },
    {
      "cell_type": "markdown",
      "metadata": {
        "id": "cae8a5f7"
      },
      "source": [
        "Выведем коэффициенты корреляции, большие заданного значения:"
      ],
      "id": "cae8a5f7"
    },
    {
      "cell_type": "code",
      "execution_count": 144,
      "metadata": {
        "colab": {
          "base_uri": "https://localhost:8080/",
          "height": 757
        },
        "id": "85e1658f",
        "outputId": "41e26c14-0c88-4e1d-f4fe-22c46dc3ffd5"
      },
      "outputs": [
        {
          "output_type": "execute_result",
          "data": {
            "text/plain": [
              "               battery_power   blue  clock_speed  dual_sim     fc  four_g  \\\n",
              "battery_power           True  False        False     False  False   False   \n",
              "blue                   False   True        False     False  False   False   \n",
              "clock_speed            False  False         True     False  False   False   \n",
              "dual_sim               False  False        False      True  False   False   \n",
              "fc                     False  False        False     False   True   False   \n",
              "four_g                 False  False        False     False  False    True   \n",
              "int_memory             False  False        False     False  False   False   \n",
              "m_dep                  False  False        False     False  False   False   \n",
              "mobile_wt              False  False        False     False  False   False   \n",
              "n_cores                False  False        False     False  False   False   \n",
              "pc                     False  False        False     False   True   False   \n",
              "px_height              False  False        False     False  False   False   \n",
              "px_width               False  False        False     False  False   False   \n",
              "ram                    False  False        False     False  False   False   \n",
              "sc_h                   False  False        False     False  False   False   \n",
              "sc_w                   False  False        False     False  False   False   \n",
              "talk_time              False  False        False     False  False   False   \n",
              "three_g                False  False        False     False  False    True   \n",
              "touch_screen           False  False        False     False  False   False   \n",
              "wifi                   False  False        False     False  False   False   \n",
              "price_range            False  False        False     False  False   False   \n",
              "\n",
              "               int_memory  m_dep  mobile_wt  n_cores  ...  px_height  \\\n",
              "battery_power       False  False      False    False  ...      False   \n",
              "blue                False  False      False    False  ...      False   \n",
              "clock_speed         False  False      False    False  ...      False   \n",
              "dual_sim            False  False      False    False  ...      False   \n",
              "fc                  False  False      False    False  ...      False   \n",
              "four_g              False  False      False    False  ...      False   \n",
              "int_memory           True  False      False    False  ...      False   \n",
              "m_dep               False   True      False    False  ...      False   \n",
              "mobile_wt           False  False       True    False  ...      False   \n",
              "n_cores             False  False      False     True  ...      False   \n",
              "pc                  False  False      False    False  ...      False   \n",
              "px_height           False  False      False    False  ...       True   \n",
              "px_width            False  False      False    False  ...       True   \n",
              "ram                 False  False      False    False  ...      False   \n",
              "sc_h                False  False      False    False  ...      False   \n",
              "sc_w                False  False      False    False  ...      False   \n",
              "talk_time           False  False      False    False  ...      False   \n",
              "three_g             False  False      False    False  ...      False   \n",
              "touch_screen        False  False      False    False  ...      False   \n",
              "wifi                False  False      False    False  ...      False   \n",
              "price_range         False  False      False    False  ...      False   \n",
              "\n",
              "               px_width    ram   sc_h   sc_w  talk_time  three_g  \\\n",
              "battery_power     False  False  False  False      False    False   \n",
              "blue              False  False  False  False      False    False   \n",
              "clock_speed       False  False  False  False      False    False   \n",
              "dual_sim          False  False  False  False      False    False   \n",
              "fc                False  False  False  False      False    False   \n",
              "four_g            False  False  False  False      False     True   \n",
              "int_memory        False  False  False  False      False    False   \n",
              "m_dep             False  False  False  False      False    False   \n",
              "mobile_wt         False  False  False  False      False    False   \n",
              "n_cores           False  False  False  False      False    False   \n",
              "pc                False  False  False  False      False    False   \n",
              "px_height          True  False  False  False      False    False   \n",
              "px_width           True  False  False  False      False    False   \n",
              "ram               False   True  False  False      False    False   \n",
              "sc_h              False  False   True  False      False    False   \n",
              "sc_w              False  False  False   True      False    False   \n",
              "talk_time         False  False  False  False       True    False   \n",
              "three_g           False  False  False  False      False     True   \n",
              "touch_screen      False  False  False  False      False    False   \n",
              "wifi              False  False  False  False      False    False   \n",
              "price_range       False   True  False  False      False    False   \n",
              "\n",
              "               touch_screen   wifi  price_range  \n",
              "battery_power         False  False        False  \n",
              "blue                  False  False        False  \n",
              "clock_speed           False  False        False  \n",
              "dual_sim              False  False        False  \n",
              "fc                    False  False        False  \n",
              "four_g                False  False        False  \n",
              "int_memory            False  False        False  \n",
              "m_dep                 False  False        False  \n",
              "mobile_wt             False  False        False  \n",
              "n_cores               False  False        False  \n",
              "pc                    False  False        False  \n",
              "px_height             False  False        False  \n",
              "px_width              False  False        False  \n",
              "ram                   False  False         True  \n",
              "sc_h                  False  False        False  \n",
              "sc_w                  False  False        False  \n",
              "talk_time             False  False        False  \n",
              "three_g               False  False        False  \n",
              "touch_screen           True  False        False  \n",
              "wifi                  False   True        False  \n",
              "price_range           False  False         True  \n",
              "\n",
              "[21 rows x 21 columns]"
            ],
            "text/html": [
              "\n",
              "  <div id=\"df-615b02c4-cc46-4799-9127-ec092dc1f65f\" class=\"colab-df-container\">\n",
              "    <div>\n",
              "<style scoped>\n",
              "    .dataframe tbody tr th:only-of-type {\n",
              "        vertical-align: middle;\n",
              "    }\n",
              "\n",
              "    .dataframe tbody tr th {\n",
              "        vertical-align: top;\n",
              "    }\n",
              "\n",
              "    .dataframe thead th {\n",
              "        text-align: right;\n",
              "    }\n",
              "</style>\n",
              "<table border=\"1\" class=\"dataframe\">\n",
              "  <thead>\n",
              "    <tr style=\"text-align: right;\">\n",
              "      <th></th>\n",
              "      <th>battery_power</th>\n",
              "      <th>blue</th>\n",
              "      <th>clock_speed</th>\n",
              "      <th>dual_sim</th>\n",
              "      <th>fc</th>\n",
              "      <th>four_g</th>\n",
              "      <th>int_memory</th>\n",
              "      <th>m_dep</th>\n",
              "      <th>mobile_wt</th>\n",
              "      <th>n_cores</th>\n",
              "      <th>...</th>\n",
              "      <th>px_height</th>\n",
              "      <th>px_width</th>\n",
              "      <th>ram</th>\n",
              "      <th>sc_h</th>\n",
              "      <th>sc_w</th>\n",
              "      <th>talk_time</th>\n",
              "      <th>three_g</th>\n",
              "      <th>touch_screen</th>\n",
              "      <th>wifi</th>\n",
              "      <th>price_range</th>\n",
              "    </tr>\n",
              "  </thead>\n",
              "  <tbody>\n",
              "    <tr>\n",
              "      <th>battery_power</th>\n",
              "      <td>True</td>\n",
              "      <td>False</td>\n",
              "      <td>False</td>\n",
              "      <td>False</td>\n",
              "      <td>False</td>\n",
              "      <td>False</td>\n",
              "      <td>False</td>\n",
              "      <td>False</td>\n",
              "      <td>False</td>\n",
              "      <td>False</td>\n",
              "      <td>...</td>\n",
              "      <td>False</td>\n",
              "      <td>False</td>\n",
              "      <td>False</td>\n",
              "      <td>False</td>\n",
              "      <td>False</td>\n",
              "      <td>False</td>\n",
              "      <td>False</td>\n",
              "      <td>False</td>\n",
              "      <td>False</td>\n",
              "      <td>False</td>\n",
              "    </tr>\n",
              "    <tr>\n",
              "      <th>blue</th>\n",
              "      <td>False</td>\n",
              "      <td>True</td>\n",
              "      <td>False</td>\n",
              "      <td>False</td>\n",
              "      <td>False</td>\n",
              "      <td>False</td>\n",
              "      <td>False</td>\n",
              "      <td>False</td>\n",
              "      <td>False</td>\n",
              "      <td>False</td>\n",
              "      <td>...</td>\n",
              "      <td>False</td>\n",
              "      <td>False</td>\n",
              "      <td>False</td>\n",
              "      <td>False</td>\n",
              "      <td>False</td>\n",
              "      <td>False</td>\n",
              "      <td>False</td>\n",
              "      <td>False</td>\n",
              "      <td>False</td>\n",
              "      <td>False</td>\n",
              "    </tr>\n",
              "    <tr>\n",
              "      <th>clock_speed</th>\n",
              "      <td>False</td>\n",
              "      <td>False</td>\n",
              "      <td>True</td>\n",
              "      <td>False</td>\n",
              "      <td>False</td>\n",
              "      <td>False</td>\n",
              "      <td>False</td>\n",
              "      <td>False</td>\n",
              "      <td>False</td>\n",
              "      <td>False</td>\n",
              "      <td>...</td>\n",
              "      <td>False</td>\n",
              "      <td>False</td>\n",
              "      <td>False</td>\n",
              "      <td>False</td>\n",
              "      <td>False</td>\n",
              "      <td>False</td>\n",
              "      <td>False</td>\n",
              "      <td>False</td>\n",
              "      <td>False</td>\n",
              "      <td>False</td>\n",
              "    </tr>\n",
              "    <tr>\n",
              "      <th>dual_sim</th>\n",
              "      <td>False</td>\n",
              "      <td>False</td>\n",
              "      <td>False</td>\n",
              "      <td>True</td>\n",
              "      <td>False</td>\n",
              "      <td>False</td>\n",
              "      <td>False</td>\n",
              "      <td>False</td>\n",
              "      <td>False</td>\n",
              "      <td>False</td>\n",
              "      <td>...</td>\n",
              "      <td>False</td>\n",
              "      <td>False</td>\n",
              "      <td>False</td>\n",
              "      <td>False</td>\n",
              "      <td>False</td>\n",
              "      <td>False</td>\n",
              "      <td>False</td>\n",
              "      <td>False</td>\n",
              "      <td>False</td>\n",
              "      <td>False</td>\n",
              "    </tr>\n",
              "    <tr>\n",
              "      <th>fc</th>\n",
              "      <td>False</td>\n",
              "      <td>False</td>\n",
              "      <td>False</td>\n",
              "      <td>False</td>\n",
              "      <td>True</td>\n",
              "      <td>False</td>\n",
              "      <td>False</td>\n",
              "      <td>False</td>\n",
              "      <td>False</td>\n",
              "      <td>False</td>\n",
              "      <td>...</td>\n",
              "      <td>False</td>\n",
              "      <td>False</td>\n",
              "      <td>False</td>\n",
              "      <td>False</td>\n",
              "      <td>False</td>\n",
              "      <td>False</td>\n",
              "      <td>False</td>\n",
              "      <td>False</td>\n",
              "      <td>False</td>\n",
              "      <td>False</td>\n",
              "    </tr>\n",
              "    <tr>\n",
              "      <th>four_g</th>\n",
              "      <td>False</td>\n",
              "      <td>False</td>\n",
              "      <td>False</td>\n",
              "      <td>False</td>\n",
              "      <td>False</td>\n",
              "      <td>True</td>\n",
              "      <td>False</td>\n",
              "      <td>False</td>\n",
              "      <td>False</td>\n",
              "      <td>False</td>\n",
              "      <td>...</td>\n",
              "      <td>False</td>\n",
              "      <td>False</td>\n",
              "      <td>False</td>\n",
              "      <td>False</td>\n",
              "      <td>False</td>\n",
              "      <td>False</td>\n",
              "      <td>True</td>\n",
              "      <td>False</td>\n",
              "      <td>False</td>\n",
              "      <td>False</td>\n",
              "    </tr>\n",
              "    <tr>\n",
              "      <th>int_memory</th>\n",
              "      <td>False</td>\n",
              "      <td>False</td>\n",
              "      <td>False</td>\n",
              "      <td>False</td>\n",
              "      <td>False</td>\n",
              "      <td>False</td>\n",
              "      <td>True</td>\n",
              "      <td>False</td>\n",
              "      <td>False</td>\n",
              "      <td>False</td>\n",
              "      <td>...</td>\n",
              "      <td>False</td>\n",
              "      <td>False</td>\n",
              "      <td>False</td>\n",
              "      <td>False</td>\n",
              "      <td>False</td>\n",
              "      <td>False</td>\n",
              "      <td>False</td>\n",
              "      <td>False</td>\n",
              "      <td>False</td>\n",
              "      <td>False</td>\n",
              "    </tr>\n",
              "    <tr>\n",
              "      <th>m_dep</th>\n",
              "      <td>False</td>\n",
              "      <td>False</td>\n",
              "      <td>False</td>\n",
              "      <td>False</td>\n",
              "      <td>False</td>\n",
              "      <td>False</td>\n",
              "      <td>False</td>\n",
              "      <td>True</td>\n",
              "      <td>False</td>\n",
              "      <td>False</td>\n",
              "      <td>...</td>\n",
              "      <td>False</td>\n",
              "      <td>False</td>\n",
              "      <td>False</td>\n",
              "      <td>False</td>\n",
              "      <td>False</td>\n",
              "      <td>False</td>\n",
              "      <td>False</td>\n",
              "      <td>False</td>\n",
              "      <td>False</td>\n",
              "      <td>False</td>\n",
              "    </tr>\n",
              "    <tr>\n",
              "      <th>mobile_wt</th>\n",
              "      <td>False</td>\n",
              "      <td>False</td>\n",
              "      <td>False</td>\n",
              "      <td>False</td>\n",
              "      <td>False</td>\n",
              "      <td>False</td>\n",
              "      <td>False</td>\n",
              "      <td>False</td>\n",
              "      <td>True</td>\n",
              "      <td>False</td>\n",
              "      <td>...</td>\n",
              "      <td>False</td>\n",
              "      <td>False</td>\n",
              "      <td>False</td>\n",
              "      <td>False</td>\n",
              "      <td>False</td>\n",
              "      <td>False</td>\n",
              "      <td>False</td>\n",
              "      <td>False</td>\n",
              "      <td>False</td>\n",
              "      <td>False</td>\n",
              "    </tr>\n",
              "    <tr>\n",
              "      <th>n_cores</th>\n",
              "      <td>False</td>\n",
              "      <td>False</td>\n",
              "      <td>False</td>\n",
              "      <td>False</td>\n",
              "      <td>False</td>\n",
              "      <td>False</td>\n",
              "      <td>False</td>\n",
              "      <td>False</td>\n",
              "      <td>False</td>\n",
              "      <td>True</td>\n",
              "      <td>...</td>\n",
              "      <td>False</td>\n",
              "      <td>False</td>\n",
              "      <td>False</td>\n",
              "      <td>False</td>\n",
              "      <td>False</td>\n",
              "      <td>False</td>\n",
              "      <td>False</td>\n",
              "      <td>False</td>\n",
              "      <td>False</td>\n",
              "      <td>False</td>\n",
              "    </tr>\n",
              "    <tr>\n",
              "      <th>pc</th>\n",
              "      <td>False</td>\n",
              "      <td>False</td>\n",
              "      <td>False</td>\n",
              "      <td>False</td>\n",
              "      <td>True</td>\n",
              "      <td>False</td>\n",
              "      <td>False</td>\n",
              "      <td>False</td>\n",
              "      <td>False</td>\n",
              "      <td>False</td>\n",
              "      <td>...</td>\n",
              "      <td>False</td>\n",
              "      <td>False</td>\n",
              "      <td>False</td>\n",
              "      <td>False</td>\n",
              "      <td>False</td>\n",
              "      <td>False</td>\n",
              "      <td>False</td>\n",
              "      <td>False</td>\n",
              "      <td>False</td>\n",
              "      <td>False</td>\n",
              "    </tr>\n",
              "    <tr>\n",
              "      <th>px_height</th>\n",
              "      <td>False</td>\n",
              "      <td>False</td>\n",
              "      <td>False</td>\n",
              "      <td>False</td>\n",
              "      <td>False</td>\n",
              "      <td>False</td>\n",
              "      <td>False</td>\n",
              "      <td>False</td>\n",
              "      <td>False</td>\n",
              "      <td>False</td>\n",
              "      <td>...</td>\n",
              "      <td>True</td>\n",
              "      <td>True</td>\n",
              "      <td>False</td>\n",
              "      <td>False</td>\n",
              "      <td>False</td>\n",
              "      <td>False</td>\n",
              "      <td>False</td>\n",
              "      <td>False</td>\n",
              "      <td>False</td>\n",
              "      <td>False</td>\n",
              "    </tr>\n",
              "    <tr>\n",
              "      <th>px_width</th>\n",
              "      <td>False</td>\n",
              "      <td>False</td>\n",
              "      <td>False</td>\n",
              "      <td>False</td>\n",
              "      <td>False</td>\n",
              "      <td>False</td>\n",
              "      <td>False</td>\n",
              "      <td>False</td>\n",
              "      <td>False</td>\n",
              "      <td>False</td>\n",
              "      <td>...</td>\n",
              "      <td>True</td>\n",
              "      <td>True</td>\n",
              "      <td>False</td>\n",
              "      <td>False</td>\n",
              "      <td>False</td>\n",
              "      <td>False</td>\n",
              "      <td>False</td>\n",
              "      <td>False</td>\n",
              "      <td>False</td>\n",
              "      <td>False</td>\n",
              "    </tr>\n",
              "    <tr>\n",
              "      <th>ram</th>\n",
              "      <td>False</td>\n",
              "      <td>False</td>\n",
              "      <td>False</td>\n",
              "      <td>False</td>\n",
              "      <td>False</td>\n",
              "      <td>False</td>\n",
              "      <td>False</td>\n",
              "      <td>False</td>\n",
              "      <td>False</td>\n",
              "      <td>False</td>\n",
              "      <td>...</td>\n",
              "      <td>False</td>\n",
              "      <td>False</td>\n",
              "      <td>True</td>\n",
              "      <td>False</td>\n",
              "      <td>False</td>\n",
              "      <td>False</td>\n",
              "      <td>False</td>\n",
              "      <td>False</td>\n",
              "      <td>False</td>\n",
              "      <td>True</td>\n",
              "    </tr>\n",
              "    <tr>\n",
              "      <th>sc_h</th>\n",
              "      <td>False</td>\n",
              "      <td>False</td>\n",
              "      <td>False</td>\n",
              "      <td>False</td>\n",
              "      <td>False</td>\n",
              "      <td>False</td>\n",
              "      <td>False</td>\n",
              "      <td>False</td>\n",
              "      <td>False</td>\n",
              "      <td>False</td>\n",
              "      <td>...</td>\n",
              "      <td>False</td>\n",
              "      <td>False</td>\n",
              "      <td>False</td>\n",
              "      <td>True</td>\n",
              "      <td>False</td>\n",
              "      <td>False</td>\n",
              "      <td>False</td>\n",
              "      <td>False</td>\n",
              "      <td>False</td>\n",
              "      <td>False</td>\n",
              "    </tr>\n",
              "    <tr>\n",
              "      <th>sc_w</th>\n",
              "      <td>False</td>\n",
              "      <td>False</td>\n",
              "      <td>False</td>\n",
              "      <td>False</td>\n",
              "      <td>False</td>\n",
              "      <td>False</td>\n",
              "      <td>False</td>\n",
              "      <td>False</td>\n",
              "      <td>False</td>\n",
              "      <td>False</td>\n",
              "      <td>...</td>\n",
              "      <td>False</td>\n",
              "      <td>False</td>\n",
              "      <td>False</td>\n",
              "      <td>False</td>\n",
              "      <td>True</td>\n",
              "      <td>False</td>\n",
              "      <td>False</td>\n",
              "      <td>False</td>\n",
              "      <td>False</td>\n",
              "      <td>False</td>\n",
              "    </tr>\n",
              "    <tr>\n",
              "      <th>talk_time</th>\n",
              "      <td>False</td>\n",
              "      <td>False</td>\n",
              "      <td>False</td>\n",
              "      <td>False</td>\n",
              "      <td>False</td>\n",
              "      <td>False</td>\n",
              "      <td>False</td>\n",
              "      <td>False</td>\n",
              "      <td>False</td>\n",
              "      <td>False</td>\n",
              "      <td>...</td>\n",
              "      <td>False</td>\n",
              "      <td>False</td>\n",
              "      <td>False</td>\n",
              "      <td>False</td>\n",
              "      <td>False</td>\n",
              "      <td>True</td>\n",
              "      <td>False</td>\n",
              "      <td>False</td>\n",
              "      <td>False</td>\n",
              "      <td>False</td>\n",
              "    </tr>\n",
              "    <tr>\n",
              "      <th>three_g</th>\n",
              "      <td>False</td>\n",
              "      <td>False</td>\n",
              "      <td>False</td>\n",
              "      <td>False</td>\n",
              "      <td>False</td>\n",
              "      <td>True</td>\n",
              "      <td>False</td>\n",
              "      <td>False</td>\n",
              "      <td>False</td>\n",
              "      <td>False</td>\n",
              "      <td>...</td>\n",
              "      <td>False</td>\n",
              "      <td>False</td>\n",
              "      <td>False</td>\n",
              "      <td>False</td>\n",
              "      <td>False</td>\n",
              "      <td>False</td>\n",
              "      <td>True</td>\n",
              "      <td>False</td>\n",
              "      <td>False</td>\n",
              "      <td>False</td>\n",
              "    </tr>\n",
              "    <tr>\n",
              "      <th>touch_screen</th>\n",
              "      <td>False</td>\n",
              "      <td>False</td>\n",
              "      <td>False</td>\n",
              "      <td>False</td>\n",
              "      <td>False</td>\n",
              "      <td>False</td>\n",
              "      <td>False</td>\n",
              "      <td>False</td>\n",
              "      <td>False</td>\n",
              "      <td>False</td>\n",
              "      <td>...</td>\n",
              "      <td>False</td>\n",
              "      <td>False</td>\n",
              "      <td>False</td>\n",
              "      <td>False</td>\n",
              "      <td>False</td>\n",
              "      <td>False</td>\n",
              "      <td>False</td>\n",
              "      <td>True</td>\n",
              "      <td>False</td>\n",
              "      <td>False</td>\n",
              "    </tr>\n",
              "    <tr>\n",
              "      <th>wifi</th>\n",
              "      <td>False</td>\n",
              "      <td>False</td>\n",
              "      <td>False</td>\n",
              "      <td>False</td>\n",
              "      <td>False</td>\n",
              "      <td>False</td>\n",
              "      <td>False</td>\n",
              "      <td>False</td>\n",
              "      <td>False</td>\n",
              "      <td>False</td>\n",
              "      <td>...</td>\n",
              "      <td>False</td>\n",
              "      <td>False</td>\n",
              "      <td>False</td>\n",
              "      <td>False</td>\n",
              "      <td>False</td>\n",
              "      <td>False</td>\n",
              "      <td>False</td>\n",
              "      <td>False</td>\n",
              "      <td>True</td>\n",
              "      <td>False</td>\n",
              "    </tr>\n",
              "    <tr>\n",
              "      <th>price_range</th>\n",
              "      <td>False</td>\n",
              "      <td>False</td>\n",
              "      <td>False</td>\n",
              "      <td>False</td>\n",
              "      <td>False</td>\n",
              "      <td>False</td>\n",
              "      <td>False</td>\n",
              "      <td>False</td>\n",
              "      <td>False</td>\n",
              "      <td>False</td>\n",
              "      <td>...</td>\n",
              "      <td>False</td>\n",
              "      <td>False</td>\n",
              "      <td>True</td>\n",
              "      <td>False</td>\n",
              "      <td>False</td>\n",
              "      <td>False</td>\n",
              "      <td>False</td>\n",
              "      <td>False</td>\n",
              "      <td>False</td>\n",
              "      <td>True</td>\n",
              "    </tr>\n",
              "  </tbody>\n",
              "</table>\n",
              "<p>21 rows × 21 columns</p>\n",
              "</div>\n",
              "    <div class=\"colab-df-buttons\">\n",
              "\n",
              "  <div class=\"colab-df-container\">\n",
              "    <button class=\"colab-df-convert\" onclick=\"convertToInteractive('df-615b02c4-cc46-4799-9127-ec092dc1f65f')\"\n",
              "            title=\"Convert this dataframe to an interactive table.\"\n",
              "            style=\"display:none;\">\n",
              "\n",
              "  <svg xmlns=\"http://www.w3.org/2000/svg\" height=\"24px\" viewBox=\"0 -960 960 960\">\n",
              "    <path d=\"M120-120v-720h720v720H120Zm60-500h600v-160H180v160Zm220 220h160v-160H400v160Zm0 220h160v-160H400v160ZM180-400h160v-160H180v160Zm440 0h160v-160H620v160ZM180-180h160v-160H180v160Zm440 0h160v-160H620v160Z\"/>\n",
              "  </svg>\n",
              "    </button>\n",
              "\n",
              "  <style>\n",
              "    .colab-df-container {\n",
              "      display:flex;\n",
              "      gap: 12px;\n",
              "    }\n",
              "\n",
              "    .colab-df-convert {\n",
              "      background-color: #E8F0FE;\n",
              "      border: none;\n",
              "      border-radius: 50%;\n",
              "      cursor: pointer;\n",
              "      display: none;\n",
              "      fill: #1967D2;\n",
              "      height: 32px;\n",
              "      padding: 0 0 0 0;\n",
              "      width: 32px;\n",
              "    }\n",
              "\n",
              "    .colab-df-convert:hover {\n",
              "      background-color: #E2EBFA;\n",
              "      box-shadow: 0px 1px 2px rgba(60, 64, 67, 0.3), 0px 1px 3px 1px rgba(60, 64, 67, 0.15);\n",
              "      fill: #174EA6;\n",
              "    }\n",
              "\n",
              "    .colab-df-buttons div {\n",
              "      margin-bottom: 4px;\n",
              "    }\n",
              "\n",
              "    [theme=dark] .colab-df-convert {\n",
              "      background-color: #3B4455;\n",
              "      fill: #D2E3FC;\n",
              "    }\n",
              "\n",
              "    [theme=dark] .colab-df-convert:hover {\n",
              "      background-color: #434B5C;\n",
              "      box-shadow: 0px 1px 3px 1px rgba(0, 0, 0, 0.15);\n",
              "      filter: drop-shadow(0px 1px 2px rgba(0, 0, 0, 0.3));\n",
              "      fill: #FFFFFF;\n",
              "    }\n",
              "  </style>\n",
              "\n",
              "    <script>\n",
              "      const buttonEl =\n",
              "        document.querySelector('#df-615b02c4-cc46-4799-9127-ec092dc1f65f button.colab-df-convert');\n",
              "      buttonEl.style.display =\n",
              "        google.colab.kernel.accessAllowed ? 'block' : 'none';\n",
              "\n",
              "      async function convertToInteractive(key) {\n",
              "        const element = document.querySelector('#df-615b02c4-cc46-4799-9127-ec092dc1f65f');\n",
              "        const dataTable =\n",
              "          await google.colab.kernel.invokeFunction('convertToInteractive',\n",
              "                                                    [key], {});\n",
              "        if (!dataTable) return;\n",
              "\n",
              "        const docLinkHtml = 'Like what you see? Visit the ' +\n",
              "          '<a target=\"_blank\" href=https://colab.research.google.com/notebooks/data_table.ipynb>data table notebook</a>'\n",
              "          + ' to learn more about interactive tables.';\n",
              "        element.innerHTML = '';\n",
              "        dataTable['output_type'] = 'display_data';\n",
              "        await google.colab.output.renderOutput(dataTable, element);\n",
              "        const docLink = document.createElement('div');\n",
              "        docLink.innerHTML = docLinkHtml;\n",
              "        element.appendChild(docLink);\n",
              "      }\n",
              "    </script>\n",
              "  </div>\n",
              "\n",
              "\n",
              "<div id=\"df-07047f26-b18c-4a6b-afef-e7deca24e399\">\n",
              "  <button class=\"colab-df-quickchart\" onclick=\"quickchart('df-07047f26-b18c-4a6b-afef-e7deca24e399')\"\n",
              "            title=\"Suggest charts\"\n",
              "            style=\"display:none;\">\n",
              "\n",
              "<svg xmlns=\"http://www.w3.org/2000/svg\" height=\"24px\"viewBox=\"0 0 24 24\"\n",
              "     width=\"24px\">\n",
              "    <g>\n",
              "        <path d=\"M19 3H5c-1.1 0-2 .9-2 2v14c0 1.1.9 2 2 2h14c1.1 0 2-.9 2-2V5c0-1.1-.9-2-2-2zM9 17H7v-7h2v7zm4 0h-2V7h2v10zm4 0h-2v-4h2v4z\"/>\n",
              "    </g>\n",
              "</svg>\n",
              "  </button>\n",
              "\n",
              "<style>\n",
              "  .colab-df-quickchart {\n",
              "      --bg-color: #E8F0FE;\n",
              "      --fill-color: #1967D2;\n",
              "      --hover-bg-color: #E2EBFA;\n",
              "      --hover-fill-color: #174EA6;\n",
              "      --disabled-fill-color: #AAA;\n",
              "      --disabled-bg-color: #DDD;\n",
              "  }\n",
              "\n",
              "  [theme=dark] .colab-df-quickchart {\n",
              "      --bg-color: #3B4455;\n",
              "      --fill-color: #D2E3FC;\n",
              "      --hover-bg-color: #434B5C;\n",
              "      --hover-fill-color: #FFFFFF;\n",
              "      --disabled-bg-color: #3B4455;\n",
              "      --disabled-fill-color: #666;\n",
              "  }\n",
              "\n",
              "  .colab-df-quickchart {\n",
              "    background-color: var(--bg-color);\n",
              "    border: none;\n",
              "    border-radius: 50%;\n",
              "    cursor: pointer;\n",
              "    display: none;\n",
              "    fill: var(--fill-color);\n",
              "    height: 32px;\n",
              "    padding: 0;\n",
              "    width: 32px;\n",
              "  }\n",
              "\n",
              "  .colab-df-quickchart:hover {\n",
              "    background-color: var(--hover-bg-color);\n",
              "    box-shadow: 0 1px 2px rgba(60, 64, 67, 0.3), 0 1px 3px 1px rgba(60, 64, 67, 0.15);\n",
              "    fill: var(--button-hover-fill-color);\n",
              "  }\n",
              "\n",
              "  .colab-df-quickchart-complete:disabled,\n",
              "  .colab-df-quickchart-complete:disabled:hover {\n",
              "    background-color: var(--disabled-bg-color);\n",
              "    fill: var(--disabled-fill-color);\n",
              "    box-shadow: none;\n",
              "  }\n",
              "\n",
              "  .colab-df-spinner {\n",
              "    border: 2px solid var(--fill-color);\n",
              "    border-color: transparent;\n",
              "    border-bottom-color: var(--fill-color);\n",
              "    animation:\n",
              "      spin 1s steps(1) infinite;\n",
              "  }\n",
              "\n",
              "  @keyframes spin {\n",
              "    0% {\n",
              "      border-color: transparent;\n",
              "      border-bottom-color: var(--fill-color);\n",
              "      border-left-color: var(--fill-color);\n",
              "    }\n",
              "    20% {\n",
              "      border-color: transparent;\n",
              "      border-left-color: var(--fill-color);\n",
              "      border-top-color: var(--fill-color);\n",
              "    }\n",
              "    30% {\n",
              "      border-color: transparent;\n",
              "      border-left-color: var(--fill-color);\n",
              "      border-top-color: var(--fill-color);\n",
              "      border-right-color: var(--fill-color);\n",
              "    }\n",
              "    40% {\n",
              "      border-color: transparent;\n",
              "      border-right-color: var(--fill-color);\n",
              "      border-top-color: var(--fill-color);\n",
              "    }\n",
              "    60% {\n",
              "      border-color: transparent;\n",
              "      border-right-color: var(--fill-color);\n",
              "    }\n",
              "    80% {\n",
              "      border-color: transparent;\n",
              "      border-right-color: var(--fill-color);\n",
              "      border-bottom-color: var(--fill-color);\n",
              "    }\n",
              "    90% {\n",
              "      border-color: transparent;\n",
              "      border-bottom-color: var(--fill-color);\n",
              "    }\n",
              "  }\n",
              "</style>\n",
              "\n",
              "  <script>\n",
              "    async function quickchart(key) {\n",
              "      const quickchartButtonEl =\n",
              "        document.querySelector('#' + key + ' button');\n",
              "      quickchartButtonEl.disabled = true;  // To prevent multiple clicks.\n",
              "      quickchartButtonEl.classList.add('colab-df-spinner');\n",
              "      try {\n",
              "        const charts = await google.colab.kernel.invokeFunction(\n",
              "            'suggestCharts', [key], {});\n",
              "      } catch (error) {\n",
              "        console.error('Error during call to suggestCharts:', error);\n",
              "      }\n",
              "      quickchartButtonEl.classList.remove('colab-df-spinner');\n",
              "      quickchartButtonEl.classList.add('colab-df-quickchart-complete');\n",
              "    }\n",
              "    (() => {\n",
              "      let quickchartButtonEl =\n",
              "        document.querySelector('#df-07047f26-b18c-4a6b-afef-e7deca24e399 button');\n",
              "      quickchartButtonEl.style.display =\n",
              "        google.colab.kernel.accessAllowed ? 'block' : 'none';\n",
              "    })();\n",
              "  </script>\n",
              "</div>\n",
              "    </div>\n",
              "  </div>\n"
            ]
          },
          "metadata": {},
          "execution_count": 144
        }
      ],
      "source": [
        "corr_matrix >= 0.5"
      ],
      "id": "85e1658f"
    },
    {
      "cell_type": "markdown",
      "metadata": {
        "id": "32cee35e"
      },
      "source": [
        "Коэффициент корреляции > 0,5 имеют: px_width и px_height, sc_h и sc_w, four_g и three_g, price_range и ram, что говорит о наличие связи между признаками.\n",
        "Для признаков, у которых коэффициент корреляции < 0,5, можно сказать, что связь между ними слабая\n",
        "\n",
        "Перейдем к рассмотрению категориальных признаков"
      ],
      "id": "32cee35e"
    },
    {
      "cell_type": "code",
      "execution_count": 145,
      "metadata": {
        "colab": {
          "base_uri": "https://localhost:8080/"
        },
        "id": "d5214312",
        "outputId": "7f45607f-a0d2-4e41-cc66-3c7f5f28aece"
      },
      "outputs": [
        {
          "output_type": "execute_result",
          "data": {
            "text/plain": [
              "0.0    1472\n",
              "1.0    1392\n",
              "Name: blue, dtype: int64"
            ]
          },
          "metadata": {},
          "execution_count": 145
        }
      ],
      "source": [
        "data['blue'].value_counts()"
      ],
      "id": "d5214312"
    },
    {
      "cell_type": "code",
      "execution_count": 146,
      "metadata": {
        "colab": {
          "base_uri": "https://localhost:8080/",
          "height": 449
        },
        "id": "bea902d2",
        "outputId": "136c8e97-2800-4194-9454-ad841bb006f5"
      },
      "outputs": [
        {
          "output_type": "display_data",
          "data": {
            "text/plain": [
              "<Figure size 640x480 with 1 Axes>"
            ],
            "image/png": "[encoded data removed]"
          },
          "metadata": {}
        }
      ],
      "source": [
        "sns.countplot(x='blue', data=data)\n",
        "pass"
      ],
      "id": "bea902d2"
    },
    {
      "cell_type": "markdown",
      "metadata": {
        "id": "195016b2"
      },
      "source": [
        "Число моделей с bluetooth приблизительно равно числу моделей без него."
      ],
      "id": "195016b2"
    },
    {
      "cell_type": "code",
      "execution_count": 147,
      "metadata": {
        "colab": {
          "base_uri": "https://localhost:8080/"
        },
        "id": "88e76433",
        "outputId": "821fb62d-d0b4-402b-8db7-29a64bf1bcf4"
      },
      "outputs": [
        {
          "output_type": "execute_result",
          "data": {
            "text/plain": [
              "1.0    1466\n",
              "0.0    1401\n",
              "Name: dual_sim, dtype: int64"
            ]
          },
          "metadata": {},
          "execution_count": 147
        }
      ],
      "source": [
        "data['dual_sim'].value_counts()"
      ],
      "id": "88e76433"
    },
    {
      "cell_type": "code",
      "execution_count": 148,
      "metadata": {
        "colab": {
          "base_uri": "https://localhost:8080/",
          "height": 450
        },
        "id": "00b2de76",
        "outputId": "18b12705-aee6-486e-c79f-2b010f15b26e"
      },
      "outputs": [
        {
          "output_type": "display_data",
          "data": {
            "text/plain": [
              "<Figure size 640x480 with 1 Axes>"
            ],
            "image/png": "[encoded data removed]"
          },
          "metadata": {}
        }
      ],
      "source": [
        "sns.countplot(x='dual_sim', data=data)\n",
        "pass"
      ],
      "id": "00b2de76"
    },
    {
      "cell_type": "markdown",
      "metadata": {
        "id": "cae337d1"
      },
      "source": [
        "Число моделей с поддержкой 2 симкарт немного больше."
      ],
      "id": "cae337d1"
    },
    {
      "cell_type": "code",
      "execution_count": 149,
      "metadata": {
        "colab": {
          "base_uri": "https://localhost:8080/"
        },
        "id": "0009160a",
        "outputId": "e1083f7b-f259-4cea-ba90-f44a092ea847"
      },
      "outputs": [
        {
          "output_type": "execute_result",
          "data": {
            "text/plain": [
              "1.0    1471\n",
              "0.0    1389\n",
              "Name: four_g, dtype: int64"
            ]
          },
          "metadata": {},
          "execution_count": 149
        }
      ],
      "source": [
        "data['four_g'].value_counts()"
      ],
      "id": "0009160a"
    },
    {
      "cell_type": "code",
      "execution_count": 150,
      "metadata": {
        "colab": {
          "base_uri": "https://localhost:8080/",
          "height": 450
        },
        "id": "e7e5e0f6",
        "outputId": "6eb92ab4-1998-417a-f117-533fe488606b"
      },
      "outputs": [
        {
          "output_type": "display_data",
          "data": {
            "text/plain": [
              "<Figure size 640x480 with 1 Axes>"
            ],
            "image/png": "[encoded data removed]"
          },
          "metadata": {}
        }
      ],
      "source": [
        "sns.countplot(x='four_g', data=data)\n",
        "pass"
      ],
      "id": "e7e5e0f6"
    },
    {
      "cell_type": "markdown",
      "metadata": {
        "id": "146e840f"
      },
      "source": [
        "Число моделей с поддержкой 4G немного больше."
      ],
      "id": "146e840f"
    },
    {
      "cell_type": "code",
      "execution_count": 151,
      "metadata": {
        "colab": {
          "base_uri": "https://localhost:8080/"
        },
        "id": "d56c5e38",
        "outputId": "72b7b7ea-5e19-40e7-9976-ed9b559fdcf3"
      },
      "outputs": [
        {
          "output_type": "execute_result",
          "data": {
            "text/plain": [
              "1.0    2171\n",
              "0.0     700\n",
              "Name: three_g, dtype: int64"
            ]
          },
          "metadata": {},
          "execution_count": 151
        }
      ],
      "source": [
        "data['three_g'].value_counts()"
      ],
      "id": "d56c5e38"
    },
    {
      "cell_type": "code",
      "execution_count": 152,
      "metadata": {
        "colab": {
          "base_uri": "https://localhost:8080/",
          "height": 450
        },
        "id": "3e00cbf0",
        "outputId": "78fe6cd3-42b7-474a-f9cc-14e523d3adaa"
      },
      "outputs": [
        {
          "output_type": "display_data",
          "data": {
            "text/plain": [
              "<Figure size 640x480 with 1 Axes>"
            ],
            "image/png": "[encoded data removed]"
          },
          "metadata": {}
        }
      ],
      "source": [
        "sns.countplot(x='three_g', data=data)\n",
        "pass"
      ],
      "id": "3e00cbf0"
    },
    {
      "cell_type": "markdown",
      "metadata": {
        "id": "71e68841"
      },
      "source": [
        "Число моделей с поддержкой 3G примерно в 3 раза больше"
      ],
      "id": "71e68841"
    },
    {
      "cell_type": "code",
      "execution_count": 153,
      "metadata": {
        "colab": {
          "base_uri": "https://localhost:8080/"
        },
        "id": "b655a4e1",
        "outputId": "9c5e3a7c-4bb3-466c-90b1-4c56cb7334f3"
      },
      "outputs": [
        {
          "output_type": "execute_result",
          "data": {
            "text/plain": [
              "1.0    1460\n",
              "0.0    1416\n",
              "Name: touch_screen, dtype: int64"
            ]
          },
          "metadata": {},
          "execution_count": 153
        }
      ],
      "source": [
        "data['touch_screen'].value_counts()"
      ],
      "id": "b655a4e1"
    },
    {
      "cell_type": "code",
      "execution_count": 154,
      "metadata": {
        "colab": {
          "base_uri": "https://localhost:8080/",
          "height": 450
        },
        "id": "53810a9a",
        "outputId": "47df25b5-3f38-4c9f-8040-aa0e108f1773"
      },
      "outputs": [
        {
          "output_type": "display_data",
          "data": {
            "text/plain": [
              "<Figure size 640x480 with 1 Axes>"
            ],
            "image/png": "[encoded data removed]"
          },
          "metadata": {}
        }
      ],
      "source": [
        "sns.countplot(x='touch_screen', data=data)\n",
        "pass"
      ],
      "id": "53810a9a"
    },
    {
      "cell_type": "markdown",
      "metadata": {
        "id": "ba677e92"
      },
      "source": [
        "Число моделей с сенсорным экраном приблизительно равно числу моделей без него"
      ],
      "id": "ba677e92"
    },
    {
      "cell_type": "code",
      "execution_count": 155,
      "metadata": {
        "colab": {
          "base_uri": "https://localhost:8080/"
        },
        "id": "b45e72df",
        "outputId": "62a3453e-820c-4192-ffbd-29000ccc973c"
      },
      "outputs": [
        {
          "output_type": "execute_result",
          "data": {
            "text/plain": [
              "1.0    1475\n",
              "0.0    1401\n",
              "Name: wifi, dtype: int64"
            ]
          },
          "metadata": {},
          "execution_count": 155
        }
      ],
      "source": [
        "data['wifi'].value_counts()"
      ],
      "id": "b45e72df"
    },
    {
      "cell_type": "code",
      "execution_count": 156,
      "metadata": {
        "colab": {
          "base_uri": "https://localhost:8080/",
          "height": 449
        },
        "id": "ebc6d39d",
        "outputId": "3e42e705-fd1a-46d6-9fcb-a6b66a22e1a9"
      },
      "outputs": [
        {
          "output_type": "display_data",
          "data": {
            "text/plain": [
              "<Figure size 640x480 with 1 Axes>"
            ],
            "image/png": "[encoded data removed]"
          },
          "metadata": {}
        }
      ],
      "source": [
        "sns.countplot(x='wifi', data=data)\n",
        "pass"
      ],
      "id": "ebc6d39d"
    },
    {
      "cell_type": "markdown",
      "metadata": {
        "id": "2cd0072f"
      },
      "source": [
        "Число моделей с поддержкой WiFi немного больше."
      ],
      "id": "2cd0072f"
    },
    {
      "cell_type": "code",
      "execution_count": 157,
      "metadata": {
        "colab": {
          "base_uri": "https://localhost:8080/"
        },
        "id": "290b5632",
        "outputId": "aa484fca-407b-4e0d-9ecc-1e7db127c01a"
      },
      "outputs": [
        {
          "output_type": "execute_result",
          "data": {
            "text/plain": [
              "2    733\n",
              "3    732\n",
              "0    720\n",
              "1    694\n",
              "Name: price_range, dtype: int64"
            ]
          },
          "metadata": {},
          "execution_count": 157
        }
      ],
      "source": [
        "data['price_range'].value_counts()"
      ],
      "id": "290b5632"
    },
    {
      "cell_type": "code",
      "execution_count": 158,
      "metadata": {
        "colab": {
          "base_uri": "https://localhost:8080/",
          "height": 450
        },
        "id": "96b68524",
        "outputId": "cf55cd8d-9c1b-46c4-bec8-994f68d59714"
      },
      "outputs": [
        {
          "output_type": "display_data",
          "data": {
            "text/plain": [
              "<Figure size 640x480 with 1 Axes>"
            ],
            "image/png": "[encoded data removed]"
          },
          "metadata": {}
        }
      ],
      "source": [
        "sns.countplot(x='price_range', data=data)\n",
        "pass"
      ],
      "id": "96b68524"
    },
    {
      "cell_type": "markdown",
      "metadata": {
        "id": "3a58d38b"
      },
      "source": [
        "Ценовой диапозон выставлен примерно одинаково"
      ],
      "id": "3a58d38b"
    },
    {
      "cell_type": "markdown",
      "metadata": {
        "id": "60906f98"
      },
      "source": [
        "Удалим строки с пропущенными значениями"
      ],
      "id": "60906f98"
    },
    {
      "cell_type": "markdown",
      "metadata": {
        "id": "f51d4205"
      },
      "source": [
        "# Обработка пропущенных значений\n",
        "Если данные содержат пропущенные значения, то имеется две простые альтернативы:\n",
        "- удалить столбцы с такими значениями (`data = data.dropna(axis = 1)`),\n",
        "- удалить строки с такими значениями (`data = data.dropna(axis = 0)`).\n",
        "\n",
        "После этого данных может стать совсем мало.\n",
        "\n",
        "Куда более эффективным (и в то же время по-прежнему простым) методом обычно является заполнение пропущенных значений для каждой количественной переменной их средним или медианным значением.\n",
        "Для категориальных признаков пропущенные значения можно заполнить самым популярным значением в столбце.\n",
        "\n",
        "Выведем столбцы с пустотами и их количество"
      ],
      "id": "f51d4205"
    },
    {
      "cell_type": "code",
      "execution_count": 159,
      "metadata": {
        "colab": {
          "base_uri": "https://localhost:8080/"
        },
        "id": "FzXLmSUE9IUX",
        "outputId": "18d33fef-f2fb-4be1-e2d9-898fb599333a"
      },
      "outputs": [
        {
          "output_type": "execute_result",
          "data": {
            "text/plain": [
              "battery_power     7\n",
              "blue             15\n",
              "clock_speed       5\n",
              "dual_sim         15\n",
              "fc                7\n",
              "four_g           19\n",
              "int_memory        7\n",
              "m_dep             9\n",
              "mobile_wt         9\n",
              "n_cores           9\n",
              "pc               13\n",
              "px_height         8\n",
              "px_width          5\n",
              "ram               5\n",
              "sc_h              7\n",
              "sc_w              6\n",
              "talk_time         9\n",
              "three_g           8\n",
              "touch_screen      3\n",
              "wifi              3\n",
              "price_range       0\n",
              "dtype: int64"
            ]
          },
          "metadata": {},
          "execution_count": 159
        }
      ],
      "source": [
        "data_raw.isna().sum()"
      ],
      "id": "FzXLmSUE9IUX"
    },
    {
      "cell_type": "code",
      "execution_count": 160,
      "metadata": {
        "colab": {
          "base_uri": "https://localhost:8080/"
        },
        "id": "6526084c",
        "outputId": "ce23307d-1b44-4197-f6b2-401d03e69180"
      },
      "outputs": [
        {
          "output_type": "execute_result",
          "data": {
            "text/plain": [
              "battery_power     5\n",
              "blue             15\n",
              "clock_speed       5\n",
              "dual_sim         12\n",
              "fc                6\n",
              "four_g           19\n",
              "int_memory        7\n",
              "m_dep             9\n",
              "mobile_wt         9\n",
              "n_cores           9\n",
              "pc               13\n",
              "px_height         8\n",
              "px_width          5\n",
              "ram               3\n",
              "sc_h              7\n",
              "sc_w              6\n",
              "talk_time         9\n",
              "three_g           8\n",
              "touch_screen      3\n",
              "wifi              3\n",
              "price_range       0\n",
              "dtype: int64"
            ]
          },
          "metadata": {},
          "execution_count": 160
        }
      ],
      "source": [
        "data_raw.fillna(data_raw.median(axis = 0), axis=0 , inplace=True)\n",
        "data.isna().sum()"
      ],
      "id": "6526084c"
    },
    {
      "cell_type": "code",
      "execution_count": 161,
      "metadata": {
        "colab": {
          "base_uri": "https://localhost:8080/"
        },
        "id": "ZxenDIu5D5RB",
        "outputId": "3bd179be-cac6-4898-bc32-54c326fa8294"
      },
      "outputs": [
        {
          "output_type": "stream",
          "name": "stdout",
          "text": [
            "(2721, 21)\n"
          ]
        },
        {
          "output_type": "execute_result",
          "data": {
            "text/plain": [
              "battery_power    0\n",
              "blue             0\n",
              "clock_speed      0\n",
              "dual_sim         0\n",
              "fc               0\n",
              "four_g           0\n",
              "int_memory       0\n",
              "m_dep            0\n",
              "mobile_wt        0\n",
              "n_cores          0\n",
              "pc               0\n",
              "px_height        0\n",
              "px_width         0\n",
              "ram              0\n",
              "sc_h             0\n",
              "sc_w             0\n",
              "talk_time        0\n",
              "three_g          0\n",
              "touch_screen     0\n",
              "wifi             0\n",
              "price_range      0\n",
              "dtype: int64"
            ]
          },
          "metadata": {},
          "execution_count": 161
        }
      ],
      "source": [
        "data.dropna(axis=0, how='all', subset=['battery_power'], inplace=True)\n",
        "data.dropna(axis=0, how='all', subset=['blue'], inplace=True)\n",
        "data.dropna(axis=0, how='all', subset=['clock_speed'], inplace=True)\n",
        "data.dropna(axis=0, how='all', subset=['dual_sim'], inplace=True)\n",
        "data.dropna(axis=0, how='all', subset=['fc'], inplace=True)\n",
        "data.dropna(axis=0, how='all', subset=['four_g'], inplace=True)\n",
        "data.dropna(axis=0, how='all', subset=['int_memory'], inplace=True)\n",
        "data.dropna(axis=0, how='all', subset=['m_dep'], inplace=True)\n",
        "data.dropna(axis=0, how='all', subset=['mobile_wt'], inplace=True)\n",
        "data.dropna(axis=0, how='all', subset=['n_cores'], inplace=True)\n",
        "data.dropna(axis=0, how='all', subset=['pc'], inplace=True)\n",
        "data.dropna(axis=0, how='all', subset=['px_height'], inplace=True)\n",
        "data.dropna(axis=0, how='all', subset=['px_width'], inplace=True)\n",
        "data.dropna(axis=0, how='all', subset=['ram'], inplace=True)\n",
        "data.dropna(axis=0, how='all', subset=['sc_h'], inplace=True)\n",
        "data.dropna(axis=0, how='all', subset=['sc_w'], inplace=True)\n",
        "data.dropna(axis=0, how='all', subset=['talk_time'], inplace=True)\n",
        "data.dropna(axis=0, how='all', subset=['three_g'], inplace=True)\n",
        "data.dropna(axis=0, how='all', subset=['touch_screen'], inplace=True)\n",
        "data.dropna(axis=0, how='all', subset=['wifi'], inplace=True)\n",
        "print(data.shape)\n",
        "data.isna().sum()"
      ],
      "id": "ZxenDIu5D5RB"
    },
    {
      "cell_type": "markdown",
      "metadata": {
        "id": "42522220"
      },
      "source": [
        "# Обработка категориальных признаков\n",
        "Обрабатывать категориальные признаки не нужно, так как они все уже заданы числовыми значениями\n",
        "#Нормализация\n",
        "Многие алгоритмы машинного обучения чувствительны к масштабированию данных.\n",
        "К таким алгоритмам, например, относится метод ближайших соседей, машина опорных векторов и др.\n",
        "\n",
        "В этом случае количественные признаки полезно _нормализовать_.\n",
        "Это можно делать разными способами.\n",
        "Например, каждый количественный признак приведем к нулевому среднему и единичному среднеквадратичному отклонению:\n",
        "\n",
        "Алгоритмы из библиотеки scikit-learn (почти) не умеют работать напрямую с категориальными признаками. Поэтому их вначале надо закодировать с помощью числовых признаков.\n",
        "Проведем нормализацию с помощью линейного преобразования к отрезку [0, 1]"
      ],
      "id": "42522220"
    },
    {
      "cell_type": "code",
      "execution_count": 162,
      "metadata": {
        "colab": {
          "base_uri": "https://localhost:8080/",
          "height": 349
        },
        "id": "7331ba7a",
        "outputId": "a7f222dc-0e6d-43a3-ae7b-850fa8e375a2"
      },
      "outputs": [
        {
          "output_type": "execute_result",
          "data": {
            "text/plain": [
              "       battery_power         blue  clock_speed     dual_sim           fc  \\\n",
              "count    2721.000000  2721.000000  2721.000000  2721.000000  2721.000000   \n",
              "mean        0.494282     0.488423     0.409247     0.508269     0.238985   \n",
              "std         0.293952     0.499958     0.328669     0.500024     0.241883   \n",
              "min         0.000000     0.000000     0.000000     0.000000     0.000000   \n",
              "25%         0.233557     0.000000     0.080000     0.000000     0.055556   \n",
              "50%         0.489933     0.000000     0.400000     1.000000     0.166667   \n",
              "75%         0.746980     1.000000     0.680000     1.000000     0.388889   \n",
              "max         1.000000     1.000000     1.000000     1.000000     1.000000   \n",
              "\n",
              "            four_g   int_memory        m_dep    mobile_wt      n_cores  ...  \\\n",
              "count  2721.000000  2721.000000  2721.000000  2721.000000  2721.000000  ...   \n",
              "mean      0.514149     0.490190     0.448242     0.506517     0.504069  ...   \n",
              "std       0.499892     0.293178     0.318928     0.294342     0.326937  ...   \n",
              "min       0.000000     0.000000     0.000000     0.000000     0.000000  ...   \n",
              "25%       0.000000     0.225806     0.111111     0.241667     0.285714  ...   \n",
              "50%       1.000000     0.483871     0.444444     0.516667     0.428571  ...   \n",
              "75%       1.000000     0.741935     0.777778     0.758333     0.857143  ...   \n",
              "max       1.000000     1.000000     1.000000     1.000000     1.000000  ...   \n",
              "\n",
              "         px_height     px_width          ram         sc_h         sc_w  \\\n",
              "count  2721.000000  2721.000000  2721.000000  2721.000000  2721.000000   \n",
              "mean      0.327427     0.499883     0.505929     0.524203     0.318857   \n",
              "std       0.226641     0.289104     0.292533     0.300177     0.242910   \n",
              "min       0.000000     0.000000     0.000000     0.000000     0.000000   \n",
              "25%       0.140306     0.247811     0.254531     0.285714     0.111111   \n",
              "50%       0.286224     0.498316     0.520151     0.500000     0.277778   \n",
              "75%       0.485204     0.750168     0.757371     0.785714     0.500000   \n",
              "max       1.000000     1.000000     1.000000     1.000000     1.000000   \n",
              "\n",
              "         talk_time      three_g  touch_screen         wifi  price_range  \n",
              "count  2721.000000  2721.000000   2721.000000  2721.000000  2721.000000  \n",
              "mean      0.498489     0.755972      0.505696     0.514884     0.507902  \n",
              "std       0.301650     0.429588      0.500059     0.499870     0.373484  \n",
              "min       0.000000     0.000000      0.000000     0.000000     0.000000  \n",
              "25%       0.222222     1.000000      0.000000     0.000000     0.333333  \n",
              "50%       0.500000     1.000000      1.000000     1.000000     0.666667  \n",
              "75%       0.777778     1.000000      1.000000     1.000000     1.000000  \n",
              "max       1.000000     1.000000      1.000000     1.000000     1.000000  \n",
              "\n",
              "[8 rows x 21 columns]"
            ],
            "text/html": [
              "\n",
              "  <div id=\"df-3161cb0c-9a02-42ce-b748-c66670d4f50e\" class=\"colab-df-container\">\n",
              "    <div>\n",
              "<style scoped>\n",
              "    .dataframe tbody tr th:only-of-type {\n",
              "        vertical-align: middle;\n",
              "    }\n",
              "\n",
              "    .dataframe tbody tr th {\n",
              "        vertical-align: top;\n",
              "    }\n",
              "\n",
              "    .dataframe thead th {\n",
              "        text-align: right;\n",
              "    }\n",
              "</style>\n",
              "<table border=\"1\" class=\"dataframe\">\n",
              "  <thead>\n",
              "    <tr style=\"text-align: right;\">\n",
              "      <th></th>\n",
              "      <th>battery_power</th>\n",
              "      <th>blue</th>\n",
              "      <th>clock_speed</th>\n",
              "      <th>dual_sim</th>\n",
              "      <th>fc</th>\n",
              "      <th>four_g</th>\n",
              "      <th>int_memory</th>\n",
              "      <th>m_dep</th>\n",
              "      <th>mobile_wt</th>\n",
              "      <th>n_cores</th>\n",
              "      <th>...</th>\n",
              "      <th>px_height</th>\n",
              "      <th>px_width</th>\n",
              "      <th>ram</th>\n",
              "      <th>sc_h</th>\n",
              "      <th>sc_w</th>\n",
              "      <th>talk_time</th>\n",
              "      <th>three_g</th>\n",
              "      <th>touch_screen</th>\n",
              "      <th>wifi</th>\n",
              "      <th>price_range</th>\n",
              "    </tr>\n",
              "  </thead>\n",
              "  <tbody>\n",
              "    <tr>\n",
              "      <th>count</th>\n",
              "      <td>2721.000000</td>\n",
              "      <td>2721.000000</td>\n",
              "      <td>2721.000000</td>\n",
              "      <td>2721.000000</td>\n",
              "      <td>2721.000000</td>\n",
              "      <td>2721.000000</td>\n",
              "      <td>2721.000000</td>\n",
              "      <td>2721.000000</td>\n",
              "      <td>2721.000000</td>\n",
              "      <td>2721.000000</td>\n",
              "      <td>...</td>\n",
              "      <td>2721.000000</td>\n",
              "      <td>2721.000000</td>\n",
              "      <td>2721.000000</td>\n",
              "      <td>2721.000000</td>\n",
              "      <td>2721.000000</td>\n",
              "      <td>2721.000000</td>\n",
              "      <td>2721.000000</td>\n",
              "      <td>2721.000000</td>\n",
              "      <td>2721.000000</td>\n",
              "      <td>2721.000000</td>\n",
              "    </tr>\n",
              "    <tr>\n",
              "      <th>mean</th>\n",
              "      <td>0.494282</td>\n",
              "      <td>0.488423</td>\n",
              "      <td>0.409247</td>\n",
              "      <td>0.508269</td>\n",
              "      <td>0.238985</td>\n",
              "      <td>0.514149</td>\n",
              "      <td>0.490190</td>\n",
              "      <td>0.448242</td>\n",
              "      <td>0.506517</td>\n",
              "      <td>0.504069</td>\n",
              "      <td>...</td>\n",
              "      <td>0.327427</td>\n",
              "      <td>0.499883</td>\n",
              "      <td>0.505929</td>\n",
              "      <td>0.524203</td>\n",
              "      <td>0.318857</td>\n",
              "      <td>0.498489</td>\n",
              "      <td>0.755972</td>\n",
              "      <td>0.505696</td>\n",
              "      <td>0.514884</td>\n",
              "      <td>0.507902</td>\n",
              "    </tr>\n",
              "    <tr>\n",
              "      <th>std</th>\n",
              "      <td>0.293952</td>\n",
              "      <td>0.499958</td>\n",
              "      <td>0.328669</td>\n",
              "      <td>0.500024</td>\n",
              "      <td>0.241883</td>\n",
              "      <td>0.499892</td>\n",
              "      <td>0.293178</td>\n",
              "      <td>0.318928</td>\n",
              "      <td>0.294342</td>\n",
              "      <td>0.326937</td>\n",
              "      <td>...</td>\n",
              "      <td>0.226641</td>\n",
              "      <td>0.289104</td>\n",
              "      <td>0.292533</td>\n",
              "      <td>0.300177</td>\n",
              "      <td>0.242910</td>\n",
              "      <td>0.301650</td>\n",
              "      <td>0.429588</td>\n",
              "      <td>0.500059</td>\n",
              "      <td>0.499870</td>\n",
              "      <td>0.373484</td>\n",
              "    </tr>\n",
              "    <tr>\n",
              "      <th>min</th>\n",
              "      <td>0.000000</td>\n",
              "      <td>0.000000</td>\n",
              "      <td>0.000000</td>\n",
              "      <td>0.000000</td>\n",
              "      <td>0.000000</td>\n",
              "      <td>0.000000</td>\n",
              "      <td>0.000000</td>\n",
              "      <td>0.000000</td>\n",
              "      <td>0.000000</td>\n",
              "      <td>0.000000</td>\n",
              "      <td>...</td>\n",
              "      <td>0.000000</td>\n",
              "      <td>0.000000</td>\n",
              "      <td>0.000000</td>\n",
              "      <td>0.000000</td>\n",
              "      <td>0.000000</td>\n",
              "      <td>0.000000</td>\n",
              "      <td>0.000000</td>\n",
              "      <td>0.000000</td>\n",
              "      <td>0.000000</td>\n",
              "      <td>0.000000</td>\n",
              "    </tr>\n",
              "    <tr>\n",
              "      <th>25%</th>\n",
              "      <td>0.233557</td>\n",
              "      <td>0.000000</td>\n",
              "      <td>0.080000</td>\n",
              "      <td>0.000000</td>\n",
              "      <td>0.055556</td>\n",
              "      <td>0.000000</td>\n",
              "      <td>0.225806</td>\n",
              "      <td>0.111111</td>\n",
              "      <td>0.241667</td>\n",
              "      <td>0.285714</td>\n",
              "      <td>...</td>\n",
              "      <td>0.140306</td>\n",
              "      <td>0.247811</td>\n",
              "      <td>0.254531</td>\n",
              "      <td>0.285714</td>\n",
              "      <td>0.111111</td>\n",
              "      <td>0.222222</td>\n",
              "      <td>1.000000</td>\n",
              "      <td>0.000000</td>\n",
              "      <td>0.000000</td>\n",
              "      <td>0.333333</td>\n",
              "    </tr>\n",
              "    <tr>\n",
              "      <th>50%</th>\n",
              "      <td>0.489933</td>\n",
              "      <td>0.000000</td>\n",
              "      <td>0.400000</td>\n",
              "      <td>1.000000</td>\n",
              "      <td>0.166667</td>\n",
              "      <td>1.000000</td>\n",
              "      <td>0.483871</td>\n",
              "      <td>0.444444</td>\n",
              "      <td>0.516667</td>\n",
              "      <td>0.428571</td>\n",
              "      <td>...</td>\n",
              "      <td>0.286224</td>\n",
              "      <td>0.498316</td>\n",
              "      <td>0.520151</td>\n",
              "      <td>0.500000</td>\n",
              "      <td>0.277778</td>\n",
              "      <td>0.500000</td>\n",
              "      <td>1.000000</td>\n",
              "      <td>1.000000</td>\n",
              "      <td>1.000000</td>\n",
              "      <td>0.666667</td>\n",
              "    </tr>\n",
              "    <tr>\n",
              "      <th>75%</th>\n",
              "      <td>0.746980</td>\n",
              "      <td>1.000000</td>\n",
              "      <td>0.680000</td>\n",
              "      <td>1.000000</td>\n",
              "      <td>0.388889</td>\n",
              "      <td>1.000000</td>\n",
              "      <td>0.741935</td>\n",
              "      <td>0.777778</td>\n",
              "      <td>0.758333</td>\n",
              "      <td>0.857143</td>\n",
              "      <td>...</td>\n",
              "      <td>0.485204</td>\n",
              "      <td>0.750168</td>\n",
              "      <td>0.757371</td>\n",
              "      <td>0.785714</td>\n",
              "      <td>0.500000</td>\n",
              "      <td>0.777778</td>\n",
              "      <td>1.000000</td>\n",
              "      <td>1.000000</td>\n",
              "      <td>1.000000</td>\n",
              "      <td>1.000000</td>\n",
              "    </tr>\n",
              "    <tr>\n",
              "      <th>max</th>\n",
              "      <td>1.000000</td>\n",
              "      <td>1.000000</td>\n",
              "      <td>1.000000</td>\n",
              "      <td>1.000000</td>\n",
              "      <td>1.000000</td>\n",
              "      <td>1.000000</td>\n",
              "      <td>1.000000</td>\n",
              "      <td>1.000000</td>\n",
              "      <td>1.000000</td>\n",
              "      <td>1.000000</td>\n",
              "      <td>...</td>\n",
              "      <td>1.000000</td>\n",
              "      <td>1.000000</td>\n",
              "      <td>1.000000</td>\n",
              "      <td>1.000000</td>\n",
              "      <td>1.000000</td>\n",
              "      <td>1.000000</td>\n",
              "      <td>1.000000</td>\n",
              "      <td>1.000000</td>\n",
              "      <td>1.000000</td>\n",
              "      <td>1.000000</td>\n",
              "    </tr>\n",
              "  </tbody>\n",
              "</table>\n",
              "<p>8 rows × 21 columns</p>\n",
              "</div>\n",
              "    <div class=\"colab-df-buttons\">\n",
              "\n",
              "  <div class=\"colab-df-container\">\n",
              "    <button class=\"colab-df-convert\" onclick=\"convertToInteractive('df-3161cb0c-9a02-42ce-b748-c66670d4f50e')\"\n",
              "            title=\"Convert this dataframe to an interactive table.\"\n",
              "            style=\"display:none;\">\n",
              "\n",
              "  <svg xmlns=\"http://www.w3.org/2000/svg\" height=\"24px\" viewBox=\"0 -960 960 960\">\n",
              "    <path d=\"M120-120v-720h720v720H120Zm60-500h600v-160H180v160Zm220 220h160v-160H400v160Zm0 220h160v-160H400v160ZM180-400h160v-160H180v160Zm440 0h160v-160H620v160ZM180-180h160v-160H180v160Zm440 0h160v-160H620v160Z\"/>\n",
              "  </svg>\n",
              "    </button>\n",
              "\n",
              "  <style>\n",
              "    .colab-df-container {\n",
              "      display:flex;\n",
              "      gap: 12px;\n",
              "    }\n",
              "\n",
              "    .colab-df-convert {\n",
              "      background-color: #E8F0FE;\n",
              "      border: none;\n",
              "      border-radius: 50%;\n",
              "      cursor: pointer;\n",
              "      display: none;\n",
              "      fill: #1967D2;\n",
              "      height: 32px;\n",
              "      padding: 0 0 0 0;\n",
              "      width: 32px;\n",
              "    }\n",
              "\n",
              "    .colab-df-convert:hover {\n",
              "      background-color: #E2EBFA;\n",
              "      box-shadow: 0px 1px 2px rgba(60, 64, 67, 0.3), 0px 1px 3px 1px rgba(60, 64, 67, 0.15);\n",
              "      fill: #174EA6;\n",
              "    }\n",
              "\n",
              "    .colab-df-buttons div {\n",
              "      margin-bottom: 4px;\n",
              "    }\n",
              "\n",
              "    [theme=dark] .colab-df-convert {\n",
              "      background-color: #3B4455;\n",
              "      fill: #D2E3FC;\n",
              "    }\n",
              "\n",
              "    [theme=dark] .colab-df-convert:hover {\n",
              "      background-color: #434B5C;\n",
              "      box-shadow: 0px 1px 3px 1px rgba(0, 0, 0, 0.15);\n",
              "      filter: drop-shadow(0px 1px 2px rgba(0, 0, 0, 0.3));\n",
              "      fill: #FFFFFF;\n",
              "    }\n",
              "  </style>\n",
              "\n",
              "    <script>\n",
              "      const buttonEl =\n",
              "        document.querySelector('#df-3161cb0c-9a02-42ce-b748-c66670d4f50e button.colab-df-convert');\n",
              "      buttonEl.style.display =\n",
              "        google.colab.kernel.accessAllowed ? 'block' : 'none';\n",
              "\n",
              "      async function convertToInteractive(key) {\n",
              "        const element = document.querySelector('#df-3161cb0c-9a02-42ce-b748-c66670d4f50e');\n",
              "        const dataTable =\n",
              "          await google.colab.kernel.invokeFunction('convertToInteractive',\n",
              "                                                    [key], {});\n",
              "        if (!dataTable) return;\n",
              "\n",
              "        const docLinkHtml = 'Like what you see? Visit the ' +\n",
              "          '<a target=\"_blank\" href=https://colab.research.google.com/notebooks/data_table.ipynb>data table notebook</a>'\n",
              "          + ' to learn more about interactive tables.';\n",
              "        element.innerHTML = '';\n",
              "        dataTable['output_type'] = 'display_data';\n",
              "        await google.colab.output.renderOutput(dataTable, element);\n",
              "        const docLink = document.createElement('div');\n",
              "        docLink.innerHTML = docLinkHtml;\n",
              "        element.appendChild(docLink);\n",
              "      }\n",
              "    </script>\n",
              "  </div>\n",
              "\n",
              "\n",
              "<div id=\"df-6db60e36-5ad2-44b6-b9f4-2f8eeff0fee5\">\n",
              "  <button class=\"colab-df-quickchart\" onclick=\"quickchart('df-6db60e36-5ad2-44b6-b9f4-2f8eeff0fee5')\"\n",
              "            title=\"Suggest charts\"\n",
              "            style=\"display:none;\">\n",
              "\n",
              "<svg xmlns=\"http://www.w3.org/2000/svg\" height=\"24px\"viewBox=\"0 0 24 24\"\n",
              "     width=\"24px\">\n",
              "    <g>\n",
              "        <path d=\"M19 3H5c-1.1 0-2 .9-2 2v14c0 1.1.9 2 2 2h14c1.1 0 2-.9 2-2V5c0-1.1-.9-2-2-2zM9 17H7v-7h2v7zm4 0h-2V7h2v10zm4 0h-2v-4h2v4z\"/>\n",
              "    </g>\n",
              "</svg>\n",
              "  </button>\n",
              "\n",
              "<style>\n",
              "  .colab-df-quickchart {\n",
              "      --bg-color: #E8F0FE;\n",
              "      --fill-color: #1967D2;\n",
              "      --hover-bg-color: #E2EBFA;\n",
              "      --hover-fill-color: #174EA6;\n",
              "      --disabled-fill-color: #AAA;\n",
              "      --disabled-bg-color: #DDD;\n",
              "  }\n",
              "\n",
              "  [theme=dark] .colab-df-quickchart {\n",
              "      --bg-color: #3B4455;\n",
              "      --fill-color: #D2E3FC;\n",
              "      --hover-bg-color: #434B5C;\n",
              "      --hover-fill-color: #FFFFFF;\n",
              "      --disabled-bg-color: #3B4455;\n",
              "      --disabled-fill-color: #666;\n",
              "  }\n",
              "\n",
              "  .colab-df-quickchart {\n",
              "    background-color: var(--bg-color);\n",
              "    border: none;\n",
              "    border-radius: 50%;\n",
              "    cursor: pointer;\n",
              "    display: none;\n",
              "    fill: var(--fill-color);\n",
              "    height: 32px;\n",
              "    padding: 0;\n",
              "    width: 32px;\n",
              "  }\n",
              "\n",
              "  .colab-df-quickchart:hover {\n",
              "    background-color: var(--hover-bg-color);\n",
              "    box-shadow: 0 1px 2px rgba(60, 64, 67, 0.3), 0 1px 3px 1px rgba(60, 64, 67, 0.15);\n",
              "    fill: var(--button-hover-fill-color);\n",
              "  }\n",
              "\n",
              "  .colab-df-quickchart-complete:disabled,\n",
              "  .colab-df-quickchart-complete:disabled:hover {\n",
              "    background-color: var(--disabled-bg-color);\n",
              "    fill: var(--disabled-fill-color);\n",
              "    box-shadow: none;\n",
              "  }\n",
              "\n",
              "  .colab-df-spinner {\n",
              "    border: 2px solid var(--fill-color);\n",
              "    border-color: transparent;\n",
              "    border-bottom-color: var(--fill-color);\n",
              "    animation:\n",
              "      spin 1s steps(1) infinite;\n",
              "  }\n",
              "\n",
              "  @keyframes spin {\n",
              "    0% {\n",
              "      border-color: transparent;\n",
              "      border-bottom-color: var(--fill-color);\n",
              "      border-left-color: var(--fill-color);\n",
              "    }\n",
              "    20% {\n",
              "      border-color: transparent;\n",
              "      border-left-color: var(--fill-color);\n",
              "      border-top-color: var(--fill-color);\n",
              "    }\n",
              "    30% {\n",
              "      border-color: transparent;\n",
              "      border-left-color: var(--fill-color);\n",
              "      border-top-color: var(--fill-color);\n",
              "      border-right-color: var(--fill-color);\n",
              "    }\n",
              "    40% {\n",
              "      border-color: transparent;\n",
              "      border-right-color: var(--fill-color);\n",
              "      border-top-color: var(--fill-color);\n",
              "    }\n",
              "    60% {\n",
              "      border-color: transparent;\n",
              "      border-right-color: var(--fill-color);\n",
              "    }\n",
              "    80% {\n",
              "      border-color: transparent;\n",
              "      border-right-color: var(--fill-color);\n",
              "      border-bottom-color: var(--fill-color);\n",
              "    }\n",
              "    90% {\n",
              "      border-color: transparent;\n",
              "      border-bottom-color: var(--fill-color);\n",
              "    }\n",
              "  }\n",
              "</style>\n",
              "\n",
              "  <script>\n",
              "    async function quickchart(key) {\n",
              "      const quickchartButtonEl =\n",
              "        document.querySelector('#' + key + ' button');\n",
              "      quickchartButtonEl.disabled = true;  // To prevent multiple clicks.\n",
              "      quickchartButtonEl.classList.add('colab-df-spinner');\n",
              "      try {\n",
              "        const charts = await google.colab.kernel.invokeFunction(\n",
              "            'suggestCharts', [key], {});\n",
              "      } catch (error) {\n",
              "        console.error('Error during call to suggestCharts:', error);\n",
              "      }\n",
              "      quickchartButtonEl.classList.remove('colab-df-spinner');\n",
              "      quickchartButtonEl.classList.add('colab-df-quickchart-complete');\n",
              "    }\n",
              "    (() => {\n",
              "      let quickchartButtonEl =\n",
              "        document.querySelector('#df-6db60e36-5ad2-44b6-b9f4-2f8eeff0fee5 button');\n",
              "      quickchartButtonEl.style.display =\n",
              "        google.colab.kernel.accessAllowed ? 'block' : 'none';\n",
              "    })();\n",
              "  </script>\n",
              "</div>\n",
              "    </div>\n",
              "  </div>\n"
            ]
          },
          "metadata": {},
          "execution_count": 162
        }
      ],
      "source": [
        "data_norm = (data - data.min(axis=0)) / (data.max(axis=0) - data.min(axis=0))\n",
        "data_norm.describe()"
      ],
      "id": "7331ba7a"
    },
    {
      "cell_type": "markdown",
      "metadata": {
        "id": "16f9cb4c"
      },
      "source": [
        "# Обучающая и тестовая выборки\n",
        "Для классификации используем все признаки. Разобьем данные на обучающую и тестовую выборки. За обучающую примем 75%, оставшиеся  - за тестовую"
      ],
      "id": "16f9cb4c"
    },
    {
      "cell_type": "code",
      "execution_count": 163,
      "metadata": {
        "colab": {
          "base_uri": "https://localhost:8080/"
        },
        "id": "a448ae95",
        "outputId": "8af67191-fed9-4e87-d12d-9efdf5a445ad"
      },
      "outputs": [
        {
          "output_type": "execute_result",
          "data": {
            "text/plain": [
              "(2040, 681)"
            ]
          },
          "metadata": {},
          "execution_count": 163
        }
      ],
      "source": [
        "X = data_norm.drop(['price_range'], axis=1)\n",
        "y = data['price_range']\n",
        "from sklearn.model_selection import train_test_split\n",
        "X_train, X_test, y_train, y_test = train_test_split(X, y, test_size = 0.25, random_state = 42)\n",
        "\n",
        "N_train, _ = X_train.shape\n",
        "N_test,  _ = X_test.shape\n",
        "\n",
        "N_train, N_test"
      ],
      "id": "a448ae95"
    },
    {
      "cell_type": "code",
      "execution_count": 164,
      "metadata": {
        "id": "ndyE7gLSVMbw"
      },
      "outputs": [],
      "source": [
        "mean = X_train.mean(axis = 0)\n",
        "std = X_train.std(axis = 0)\n",
        "\n",
        "X_train = (X_train - mean) / std\n",
        "X_test =  (X_test  - mean) / std\n",
        "\n",
        "X_train = X_train.to_numpy()\n",
        "X_test = X_test.to_numpy()"
      ],
      "id": "ndyE7gLSVMbw"
    },
    {
      "cell_type": "markdown",
      "metadata": {
        "id": "e055206e"
      },
      "source": [
        "### K ближайших соседей\n",
        "Пусть К = 5 (по умолчанию)"
      ],
      "id": "e055206e"
    },
    {
      "cell_type": "code",
      "execution_count": 165,
      "metadata": {
        "colab": {
          "base_uri": "https://localhost:8080/"
        },
        "id": "f93cb0d8",
        "outputId": "562c4364-4763-422e-c4e9-40f35c237081"
      },
      "outputs": [
        {
          "output_type": "stream",
          "name": "stdout",
          "text": [
            "Accuracy. Train : 71.67%, Test: 54.48%. \n"
          ]
        }
      ],
      "source": [
        "from sklearn.neighbors import KNeighborsClassifier\n",
        "\n",
        "knn_def = KNeighborsClassifier()\n",
        "knn_def.fit(X_train, y_train)\n",
        "knn_train_pred = 100 * knn_def.score(X_train, y_train)\n",
        "knn_test_pred = 100 * knn_def.score(X_test, y_test)\n",
        "print(\"Accuracy. Train : {:.2f}%, Test: {:.2f}%. \".format(knn_train_pred, knn_test_pred))"
      ],
      "id": "f93cb0d8"
    },
    {
      "cell_type": "markdown",
      "metadata": {
        "id": "91c9d69a"
      },
      "source": [
        "Увеличим число соседей до 7"
      ],
      "id": "91c9d69a"
    },
    {
      "cell_type": "code",
      "execution_count": 166,
      "metadata": {
        "colab": {
          "base_uri": "https://localhost:8080/"
        },
        "id": "91f71e36",
        "outputId": "87aa5e41-249e-4d7f-d080-ba5c577ab41b"
      },
      "outputs": [
        {
          "output_type": "stream",
          "name": "stdout",
          "text": [
            "Accuracy. Train : 70.88%, Test: 56.83%. \n"
          ]
        }
      ],
      "source": [
        "knn_7 = KNeighborsClassifier(n_neighbors = 7)\n",
        "knn_7.fit(X_train, y_train)\n",
        "knn_train_pred = 100 * knn_7.score(X_train, y_train)\n",
        "knn_test_pred = 100 * knn_7.score(X_test, y_test)\n",
        "print(\"Accuracy. Train : {:.2f}%, Test: {:.2f}%. \".format(knn_train_pred, knn_test_pred))"
      ],
      "id": "91f71e36"
    },
    {
      "cell_type": "markdown",
      "metadata": {
        "id": "5258d37d"
      },
      "source": [
        "Точность полученной модели снизилась, попробуем К = 3"
      ],
      "id": "5258d37d"
    },
    {
      "cell_type": "code",
      "execution_count": 167,
      "metadata": {
        "colab": {
          "base_uri": "https://localhost:8080/"
        },
        "id": "17b6a187",
        "outputId": "acc4f57e-fe7f-4290-9cea-06e735c4b816"
      },
      "outputs": [
        {
          "output_type": "stream",
          "name": "stdout",
          "text": [
            "Accuracy. Train : 81.27%, Test: 51.84%. \n"
          ]
        }
      ],
      "source": [
        "knn_3 = KNeighborsClassifier(n_neighbors = 3)\n",
        "knn_3.fit(X_train, y_train)\n",
        "knn_train_pred = 100 * knn_3.score(X_train, y_train)\n",
        "knn_test_pred = 100 * knn_3.score(X_test, y_test)\n",
        "print(\"Accuracy. Train : {:.2f}%, Test: {:.2f}%. \".format(knn_train_pred, knn_test_pred))"
      ],
      "id": "17b6a187"
    },
    {
      "cell_type": "markdown",
      "metadata": {
        "id": "5542c53d"
      },
      "source": [
        "Точность увеличилась. Вычислим среднеквадратическую ошибку для алгоритма с количеством ближайших соседей по умолчанию"
      ],
      "id": "5542c53d"
    },
    {
      "cell_type": "code",
      "execution_count": 168,
      "metadata": {
        "colab": {
          "base_uri": "https://localhost:8080/"
        },
        "id": "146ce68f",
        "outputId": "d186660b-e42c-4666-e25b-f3d89f929b88"
      },
      "outputs": [
        {
          "output_type": "stream",
          "name": "stdout",
          "text": [
            "MSE. Train : 1.95, Test: 2.06. \n"
          ]
        }
      ],
      "source": [
        "knn_train_pred = knn_def.score(X_train, y_train)\n",
        "knn_test_pred = knn_def.score(X_test, y_test)\n",
        "MSE_train = np.mean((knn_train_pred - y_train)**2)\n",
        "MSE_test  = np.mean((knn_test_pred - y_test)**2)\n",
        "print(\"MSE. Train : {:.2f}, Test: {:.2f}. \".format(MSE_train, MSE_test))"
      ],
      "id": "146ce68f"
    },
    {
      "cell_type": "markdown",
      "metadata": {
        "id": "4009819f"
      },
      "source": [
        "### Дерево решений\n",
        "Воспользуемся параметрами по умолчанию - глубина отсутствует"
      ],
      "id": "4009819f"
    },
    {
      "cell_type": "code",
      "execution_count": 169,
      "metadata": {
        "colab": {
          "base_uri": "https://localhost:8080/"
        },
        "id": "529b4198",
        "outputId": "2a7cbd90-5ba3-4b30-cd22-9c049aa8bad0"
      },
      "outputs": [
        {
          "output_type": "stream",
          "name": "stdout",
          "text": [
            "Depth: 12\n",
            "Leaves: 150\n",
            "Accuracy. Train : 100.00%, Test: 91.19%. \n"
          ]
        }
      ],
      "source": [
        "from sklearn.tree import DecisionTreeClassifier\n",
        "desTrCl = DecisionTreeClassifier()\n",
        "desTrCl.fit(X_train,y_train)\n",
        "desTrCl_train_sc = 100 * desTrCl.score(X_train, y_train)\n",
        "print ('Depth:', desTrCl.get_depth())\n",
        "print ('Leaves:', desTrCl.get_n_leaves())\n",
        "desTrCl_test_sc = 100 * desTrCl.score(X_test, y_test)\n",
        "print(\"Accuracy. Train : {:.2f}%, Test: {:.2f}%. \".format(desTrCl_train_sc, desTrCl_test_sc))"
      ],
      "id": "529b4198"
    },
    {
      "cell_type": "markdown",
      "metadata": {
        "id": "68f538d2"
      },
      "source": [
        "Максимальная глубина = 12. Уменьшим до 6"
      ],
      "id": "68f538d2"
    },
    {
      "cell_type": "code",
      "execution_count": 170,
      "metadata": {
        "colab": {
          "base_uri": "https://localhost:8080/"
        },
        "id": "ff1c106f",
        "outputId": "22b1e5cb-c41d-41b8-9a6e-0d866ea2c637"
      },
      "outputs": [
        {
          "output_type": "stream",
          "name": "stdout",
          "text": [
            "Depth: 6\n",
            "Leaves: 55\n",
            "Accuracy. Train : 93.14%, Test: 87.67%. \n"
          ]
        }
      ],
      "source": [
        "desTrCl_6 = DecisionTreeClassifier(max_depth=6)\n",
        "desTrCl_6.fit(X_train,y_train)\n",
        "desTrCl_train_sc = 100 * desTrCl_6.score(X_train, y_train)\n",
        "print ('Depth:', desTrCl_6.get_depth())\n",
        "print ('Leaves:', desTrCl_6.get_n_leaves())\n",
        "desTrCl_test_sc = 100 * desTrCl_6.score(X_test, y_test)\n",
        "print(\"Accuracy. Train : {:.2f}%, Test: {:.2f}%. \".format(desTrCl_train_sc, desTrCl_test_sc))"
      ],
      "id": "ff1c106f"
    },
    {
      "cell_type": "markdown",
      "metadata": {
        "id": "4e1a09ac"
      },
      "source": [
        "Качество модели на тестовой и обучающей выборках снизилось.\n",
        "\n",
        "Увеличим глубину до 9"
      ],
      "id": "4e1a09ac"
    },
    {
      "cell_type": "code",
      "execution_count": 171,
      "metadata": {
        "colab": {
          "base_uri": "https://localhost:8080/"
        },
        "id": "80b46a45",
        "outputId": "a3fafdd7-0feb-482b-94b8-bd354718d60a"
      },
      "outputs": [
        {
          "output_type": "stream",
          "name": "stdout",
          "text": [
            "Depth: 9\n",
            "Leaves: 138\n",
            "Accuracy. Train : 99.41%, Test: 90.75%. \n"
          ]
        }
      ],
      "source": [
        "desTrCl_9 = DecisionTreeClassifier(max_depth=9)\n",
        "desTrCl_9.fit(X_train,y_train)\n",
        "desTrCl_train_sc = 100 * desTrCl_9.score(X_train, y_train)\n",
        "print ('Depth:', desTrCl_9.get_depth())\n",
        "print ('Leaves:', desTrCl_9.get_n_leaves())\n",
        "desTrCl_test_sc = 100 * desTrCl_9.score(X_test, y_test)\n",
        "print(\"Accuracy. Train : {:.2f}%, Test: {:.2f}%. \".format(desTrCl_train_sc, desTrCl_test_sc))"
      ],
      "id": "80b46a45"
    },
    {
      "cell_type": "markdown",
      "metadata": {
        "id": "225ee41b"
      },
      "source": [
        "Качество модели на тестовой и обучающей выборках повысилось.\n",
        "\n",
        "Алгоритм дерева решений оказался точнее алгоритма к-ближайших соседей при оптимальных параметрах каждого из методов, как на обучающей выборке, так и на тестовой.\n",
        "\n",
        "# Общие выводы\n",
        "\n",
        "В ходе выполнения данной лабораторной работы мы произвели анализ данных о ценовом диапазоне мобильных телефонов и решение задачи классификации с помощью моделей, которые были натренированы методами К-ближайших соседей и дерева решений. С помощью методов визуализации смогли понять взаимосвязь между признаками и результатом. Также произвели обработку данных перед запуском алгоритмов обучения. Помимо этого, были проведены: работа с выбросами, обработка пропущенных значений, нормализация количественных признаков, выбор алгоритма классификации и проверка качества модели\n"
      ],
      "id": "225ee41b"
    },
    {
      "cell_type": "markdown",
      "metadata": {
        "id": "PCzP3_O3TQcl"
      },
      "source": [
        " # Домашнее задание №2\n",
        "Обучить логистическую регрессию, RandomForest, полносвязную (неглубокую - скрытых 1-2 слоя) нейронную сеть.\n",
        "По крайней мере для одной из моделей найти оптимальные значения гиперпараметров и построить графики зависимости ошибки от них.\n",
        "Определить: наблюдается ли переобучение/недообучение?\n"
      ],
      "id": "PCzP3_O3TQcl"
    },
    {
      "cell_type": "markdown",
      "metadata": {
        "id": "WN9yuSLHT3-q"
      },
      "source": [
        "#Логистическая регрессия"
      ],
      "id": "WN9yuSLHT3-q"
    },
    {
      "cell_type": "code",
      "execution_count": 172,
      "metadata": {
        "colab": {
          "base_uri": "https://localhost:8080/",
          "height": 484
        },
        "id": "4Uwo71_GKRbG",
        "outputId": "0a65c05f-64c3-4753-d5ab-c36e84144e06"
      },
      "outputs": [
        {
          "output_type": "stream",
          "name": "stdout",
          "text": [
            "Ошибка на обучающем наборе: 0.022058823529411766\n",
            "Ошибка на тестовом наборе: 0.02643171806167401\n"
          ]
        },
        {
          "output_type": "display_data",
          "data": {
            "text/plain": [
              "<Figure size 640x480 with 2 Axes>"
            ],
            "image/png": "[encoded data removed]"
          },
          "metadata": {}
        }
      ],
      "source": [
        "from sklearn.linear_model import LogisticRegression\n",
        "\n",
        "log_reg = LogisticRegression(max_iter=4000)\n",
        "log_reg.fit(X_train, y_train)\n",
        "\n",
        "y_train_predict = log_reg.predict(X_train)\n",
        "y_test_predict = log_reg.predict(X_test)\n",
        "err_train_lr = np.mean(y_train != y_train_predict)\n",
        "err_test_lr = np.mean(y_test != y_test_predict)\n",
        "print(\"Ошибка на обучающем наборе:\", err_train_lr)\n",
        "print(\"Ошибка на тестовом наборе:\", err_test_lr)\n",
        "\n",
        "cm = confusion_matrix(y_test, y_test_predict)\n",
        "disp = ConfusionMatrixDisplay(confusion_matrix=cm, display_labels=log_reg.classes_)\n",
        "disp.plot()\n",
        "plt.show()"
      ],
      "id": "4Uwo71_GKRbG"
    },
    {
      "cell_type": "markdown",
      "metadata": {
        "id": "AJuZ8gQpT9rI"
      },
      "source": [
        "#Random Forest"
      ],
      "id": "AJuZ8gQpT9rI"
    },
    {
      "cell_type": "code",
      "execution_count": 173,
      "metadata": {
        "colab": {
          "base_uri": "https://localhost:8080/",
          "height": 490
        },
        "id": "kdDJROxsHJ4k",
        "outputId": "46ec8857-5c53-48b7-92ad-5312de636025"
      },
      "outputs": [
        {
          "output_type": "stream",
          "name": "stdout",
          "text": [
            "Ошибка на обучающем наборе: 0.0\n",
            "Ошибка на тестовом наборе: 0.049926578560939794\n"
          ]
        },
        {
          "output_type": "display_data",
          "data": {
            "text/plain": [
              "<Figure size 640x480 with 2 Axes>"
            ],
            "image/png": "[encoded data removed]"
          },
          "metadata": {}
        }
      ],
      "source": [
        "rf = ensemble.RandomForestClassifier(n_estimators = 1000, random_state=42)\n",
        "rf.fit(X_train, y_train)\n",
        "\n",
        "y_train_predict = rf.predict(X_train)\n",
        "y_test_predict = rf.predict(X_test)\n",
        "err_train_rf = np.mean(y_train != y_train_predict)\n",
        "err_test_rf  = np.mean(y_test  != y_test_predict)\n",
        "print(\"Ошибка на обучающем наборе:\", err_train_rf)\n",
        "print(\"Ошибка на тестовом наборе:\", err_test_rf)\n",
        "\n",
        "cm = confusion_matrix(y_test, y_test_predict)\n",
        "disp = ConfusionMatrixDisplay(confusion_matrix=cm, display_labels=rf.classes_)\n",
        "disp.plot()\n",
        "plt.show()\n"
      ],
      "id": "kdDJROxsHJ4k"
    },
    {
      "cell_type": "markdown",
      "metadata": {
        "id": "hY84lULLUSP4"
      },
      "source": [
        "# Полносвязная нейронная сеть с 1 скрытым слоем\n"
      ],
      "id": "hY84lULLUSP4"
    },
    {
      "cell_type": "code",
      "execution_count": 174,
      "metadata": {
        "colab": {
          "base_uri": "https://localhost:8080/",
          "height": 501
        },
        "id": "1-F_DE2-Ixng",
        "outputId": "5c1984ef-9530-4948-83a3-01ff778fc692"
      },
      "outputs": [
        {
          "output_type": "stream",
          "name": "stdout",
          "text": [
            "Ошибка на обучающем наборе: 0.0\n",
            "Ошибка на тестовом наборе: 0.0381791483113069\n"
          ]
        },
        {
          "output_type": "execute_result",
          "data": {
            "text/plain": [
              "<sklearn.metrics._plot.confusion_matrix.ConfusionMatrixDisplay at 0x78529ff081f0>"
            ]
          },
          "metadata": {},
          "execution_count": 174
        },
        {
          "output_type": "display_data",
          "data": {
            "text/plain": [
              "<Figure size 640x480 with 2 Axes>"
            ],
            "image/png": "[encoded data removed]"
          },
          "metadata": {}
        }
      ],
      "source": [
        "from sklearn.neural_network import MLPClassifier\n",
        "\n",
        "mlp = MLPClassifier(hidden_layer_sizes=(50), max_iter=1000, random_state=42)\n",
        "mlp.fit(X_train, y_train)\n",
        "y_train_predict = mlp.predict(X_train)\n",
        "y_test_predict = mlp.predict(X_test)\n",
        "err_train_m = np.mean(y_train != y_train_predict)\n",
        "err_test_m = np.mean(y_test != y_test_predict)\n",
        "\n",
        "\n",
        "print(\"Ошибка на обучающем наборе:\", err_train_m)\n",
        "print(\"Ошибка на тестовом наборе:\", err_test_m)\n",
        "\n",
        "cm = confusion_matrix(y_test, y_test_predict)\n",
        "disp = ConfusionMatrixDisplay(confusion_matrix=cm, display_labels=mlp.classes_)\n",
        "disp.plot()"
      ],
      "id": "1-F_DE2-Ixng"
    },
    {
      "cell_type": "markdown",
      "metadata": {
        "id": "CFRUQ-4hObP3"
      },
      "source": [
        "#Подбор гиперпараметров\n"
      ],
      "id": "CFRUQ-4hObP3"
    },
    {
      "cell_type": "code",
      "source": [
        "train_acc = []\n",
        "train_err = []\n",
        "test_acc = []\n",
        "test_err = []\n",
        "alpha_arr = np.logspace(-3, 2, 21)\n",
        "\n",
        "for alpha in alpha_arr:\n",
        "    model = MLPClassifier(alpha=alpha,\n",
        "                          hidden_layer_sizes=(100,),\n",
        "                          max_iter=500)\n",
        "    model.fit(X_train, y_train)\n",
        "    y_train_pred = model.predict(X_train)\n",
        "    y_test_pred = model.predict(X_test)\n",
        "    train_acc.append(accuracy_score(y_train, y_train_pred))\n",
        "    train_err.append(np.mean(y_train != y_train_pred))\n",
        "    test_acc.append(accuracy_score(y_test, y_test_pred))\n",
        "    test_err.append(np.mean(y_test != y_test_pred))"
      ],
      "metadata": {
        "id": "TIumTNZIs-ev"
      },
      "id": "TIumTNZIs-ev",
      "execution_count": 175,
      "outputs": []
    },
    {
      "cell_type": "code",
      "execution_count": 176,
      "metadata": {
        "id": "bA45ksgrOx5M",
        "colab": {
          "base_uri": "https://localhost:8080/",
          "height": 476
        },
        "outputId": "d452b03f-3bf0-4c18-e50d-7e59ff3ee042"
      },
      "outputs": [
        {
          "output_type": "display_data",
          "data": {
            "text/plain": [
              "<Figure size 640x480 with 1 Axes>"
            ],
            "image/png": "[encoded data removed]"
          },
          "metadata": {}
        }
      ],
      "source": [
        "plt.semilogx(alpha_arr, train_acc, \"r-o\", label=\"train\")\n",
        "plt.semilogx(alpha_arr, test_acc, \"b-o\", label=\"test\")\n",
        "plt.xlim([np.min(alpha_arr), np.max(alpha_arr)])\n",
        "plt.title('Accuracy vs Alpha')\n",
        "plt.xlabel(\"Alpha\")\n",
        "plt.ylabel(\"Accuracy\")\n",
        "plt.legend()\n",
        "pass"
      ],
      "id": "bA45ksgrOx5M"
    },
    {
      "cell_type": "code",
      "execution_count": 177,
      "metadata": {
        "id": "bFA3cHqRSRgD",
        "colab": {
          "base_uri": "https://localhost:8080/",
          "height": 476
        },
        "outputId": "326b6f9a-a238-40ce-ee26-ce50594cf71f"
      },
      "outputs": [
        {
          "output_type": "display_data",
          "data": {
            "text/plain": [
              "<Figure size 640x480 with 1 Axes>"
            ],
            "image/png": "[encoded data removed]"
          },
          "metadata": {}
        }
      ],
      "source": [
        "plt.semilogx(alpha_arr, train_err, \"r-o\", label=\"train\")\n",
        "plt.semilogx(alpha_arr, test_err, \"b-o\", label=\"test\")\n",
        "plt.xlim([np.min(alpha_arr), np.max(alpha_arr)])\n",
        "plt.title('Error vs Alpha')\n",
        "plt.xlabel(\"Alpha\")\n",
        "plt.ylabel(\"Error\")\n",
        "plt.legend()\n",
        "pass"
      ],
      "id": "bFA3cHqRSRgD"
    },
    {
      "cell_type": "code",
      "source": [
        "param_grid = {\n",
        "    'alpha': [0.0001, 0.001, 0.01, 0.1, 0.5, 1],\n",
        "    'hidden_layer_sizes': [(50), (60), (70), (80), (90), (100), (150)]\n",
        "}\n",
        "\n",
        "mlp = MLPClassifier(max_iter=1000, random_state=42)\n",
        "\n",
        "grid_search = GridSearchCV(mlp, param_grid, cv=5)\n",
        "grid_search.fit(X_train, y_train)\n",
        "\n",
        "print(\"Наилучшие параметры:\", grid_search.best_params_)"
      ],
      "metadata": {
        "colab": {
          "base_uri": "https://localhost:8080/"
        },
        "id": "cGSYM9Y3vaRQ",
        "outputId": "4abca463-ca16-486e-8b5e-560781639c96"
      },
      "id": "cGSYM9Y3vaRQ",
      "execution_count": 178,
      "outputs": [
        {
          "output_type": "stream",
          "name": "stdout",
          "text": [
            "Наилучшие параметры: {'alpha': 1, 'hidden_layer_sizes': 70}\n"
          ]
        }
      ]
    },
    {
      "cell_type": "code",
      "source": [
        "best_params = grid_search.best_params_\n",
        "best_mlp = MLPClassifier(max_iter=1000, random_state=42, **best_params)\n",
        "best_mlp.fit(X_train, y_train)\n",
        "\n",
        "y_train_predict = best_mlp.predict(X_train)\n",
        "y_test_predict = best_mlp.predict(X_test)\n",
        "\n",
        "err_train = np.mean(y_train != y_train_predict)\n",
        "err_test = np.mean(y_test != y_test_predict)\n",
        "\n",
        "print(\"Ошибка на обучающем наборе:\", err_train)\n",
        "print(\"Ошибка на тестовом наборе:\", err_test)\n",
        "\n",
        "cm = confusion_matrix(y_test, y_test_predict)\n",
        "disp = ConfusionMatrixDisplay(confusion_matrix=cm, display_labels=best_mlp.classes_)\n",
        "disp.plot()\n",
        "plt.show()"
      ],
      "metadata": {
        "colab": {
          "base_uri": "https://localhost:8080/",
          "height": 484
        },
        "id": "KxDsvBIhv8ZP",
        "outputId": "fcd50f5e-5cbb-4ed4-bd34-4757d9ee48df"
      },
      "id": "KxDsvBIhv8ZP",
      "execution_count": 179,
      "outputs": [
        {
          "output_type": "stream",
          "name": "stdout",
          "text": [
            "Ошибка на обучающем наборе: 0.010784313725490196\n",
            "Ошибка на тестовом наборе: 0.01908957415565345\n"
          ]
        },
        {
          "output_type": "display_data",
          "data": {
            "text/plain": [
              "<Figure size 640x480 with 2 Axes>"
            ],
            "image/png": "[encoded data removed]"
          },
          "metadata": {}
        }
      ]
    },
    {
      "cell_type": "markdown",
      "metadata": {
        "id": "vZnszr9sSW6y"
      },
      "source": [
        "Проанализировав графики, можно прийти к выводу, что у нас не наблюдается ни недообучения, ни переобучения.\n",
        "Так как графики Error/Accuracy для train/test похожи, делаем вывод об одиноковом распределении тренировочных и тестовых данных."
      ],
      "id": "vZnszr9sSW6y"
    },
    {
      "cell_type": "markdown",
      "metadata": {
        "id": "pWremqFAeJFk"
      },
      "source": [
        "Итого получилось:\n",
        "\n",
        "*   \n",
        "Логистическая регрессия - Ошибка на обучающем наборе: 0.022058823529411766\n",
        "Ошибка на тестовом наборе: 0.02643171806167401\n",
        "\n",
        "*   Random Forest - Ошибка на обучающем наборе: 0.0\n",
        "Ошибка на тестовом наборе: 0.049926578560939794\n",
        "\n",
        "*   MLP - Ошибка на обучающем наборе: 0.0\n",
        "Ошибка на тестовом наборе: 0.0381791483113069\n",
        "\n"
      ],
      "id": "pWremqFAeJFk"
    },
    {
      "cell_type": "markdown",
      "metadata": {
        "id": "_HoxjotYexum"
      },
      "source": [
        "Хуже всего на обучающем наборе себя показала логистическая регрессия. MLP и RF показали одинаковое значение ошибки - 0.0."
      ],
      "id": "_HoxjotYexum"
    },
    {
      "cell_type": "markdown",
      "metadata": {
        "id": "IY4a6bkVfE2p"
      },
      "source": [
        "На тестовом наборе лучше всех себя показала логистическая регрессия, а хуже - RandomForest"
      ],
      "id": "IY4a6bkVfE2p"
    }
  ],
  "metadata": {
    "colab": {
      "provenance": []
    },
    "kernelspec": {
      "display_name": "Python 3",
      "language": "python",
      "name": "python3"
    },
    "language_info": {
      "codemirror_mode": {
        "name": "ipython",
        "version": 3
      },
      "file_extension": ".py",
      "mimetype": "text/x-python",
      "name": "python",
      "nbconvert_exporter": "python",
      "pygments_lexer": "ipython3",
      "version": "3.8.8"
    }
  },
  "nbformat": 4,
  "nbformat_minor": 5
}